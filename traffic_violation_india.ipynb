{
 "cells": [
  {
   "cell_type": "code",
   "execution_count": 2,
   "metadata": {},
   "outputs": [],
   "source": [
    "import numpy as np\n",
    "import pandas as pd \n",
    "import seaborn as sns \n",
    "import matplotlib.pyplot as plt\n",
    "pd.set_option(\"display.max_columns\",None)"
   ]
  },
  {
   "cell_type": "code",
   "execution_count": 3,
   "metadata": {},
   "outputs": [
    {
     "data": {
      "text/html": [
       "<div>\n",
       "<style scoped>\n",
       "    .dataframe tbody tr th:only-of-type {\n",
       "        vertical-align: middle;\n",
       "    }\n",
       "\n",
       "    .dataframe tbody tr th {\n",
       "        vertical-align: top;\n",
       "    }\n",
       "\n",
       "    .dataframe thead th {\n",
       "        text-align: right;\n",
       "    }\n",
       "</style>\n",
       "<table border=\"1\" class=\"dataframe\">\n",
       "  <thead>\n",
       "    <tr style=\"text-align: right;\">\n",
       "      <th></th>\n",
       "      <th>Violation_ID</th>\n",
       "      <th>Violation_Type</th>\n",
       "      <th>Fine_Amount</th>\n",
       "      <th>Location</th>\n",
       "      <th>Date</th>\n",
       "      <th>Time</th>\n",
       "      <th>Vehicle_Type</th>\n",
       "      <th>Vehicle_Color</th>\n",
       "      <th>Vehicle_Model_Year</th>\n",
       "      <th>Registration_State</th>\n",
       "      <th>Driver_Age</th>\n",
       "      <th>Driver_Gender</th>\n",
       "      <th>License_Type</th>\n",
       "      <th>Penalty_Points</th>\n",
       "      <th>Weather_Condition</th>\n",
       "      <th>Road_Condition</th>\n",
       "      <th>Officer_ID</th>\n",
       "      <th>Issuing_Agency</th>\n",
       "      <th>License_Validity</th>\n",
       "      <th>Number_of_Passengers</th>\n",
       "      <th>Helmet_Worn</th>\n",
       "      <th>Seatbelt_Worn</th>\n",
       "      <th>Traffic_Light_Status</th>\n",
       "      <th>Speed_Limit</th>\n",
       "      <th>Recorded_Speed</th>\n",
       "      <th>Alcohol_Level</th>\n",
       "      <th>Breathalyzer_Result</th>\n",
       "      <th>Towed</th>\n",
       "      <th>Fine_Paid</th>\n",
       "      <th>Payment_Method</th>\n",
       "      <th>Court_Appearance_Required</th>\n",
       "      <th>Previous_Violations</th>\n",
       "      <th>Comments</th>\n",
       "    </tr>\n",
       "  </thead>\n",
       "  <tbody>\n",
       "    <tr>\n",
       "      <th>0</th>\n",
       "      <td>VLT100000</td>\n",
       "      <td>Overloading</td>\n",
       "      <td>4544</td>\n",
       "      <td>Karnataka</td>\n",
       "      <td>2023-01-01</td>\n",
       "      <td>23:02</td>\n",
       "      <td>Car</td>\n",
       "      <td>Red</td>\n",
       "      <td>2012</td>\n",
       "      <td>West Bengal</td>\n",
       "      <td>25</td>\n",
       "      <td>Male</td>\n",
       "      <td>Commercial</td>\n",
       "      <td>5</td>\n",
       "      <td>Cloudy</td>\n",
       "      <td>Slippery</td>\n",
       "      <td>OFF9971</td>\n",
       "      <td>Local Police</td>\n",
       "      <td>Valid</td>\n",
       "      <td>4</td>\n",
       "      <td>NaN</td>\n",
       "      <td>Yes</td>\n",
       "      <td>Green</td>\n",
       "      <td>100</td>\n",
       "      <td>95</td>\n",
       "      <td>0.03</td>\n",
       "      <td>Negative</td>\n",
       "      <td>Yes</td>\n",
       "      <td>No</td>\n",
       "      <td>Online</td>\n",
       "      <td>Yes</td>\n",
       "      <td>3</td>\n",
       "      <td>Repeat Offender</td>\n",
       "    </tr>\n",
       "    <tr>\n",
       "      <th>1</th>\n",
       "      <td>VLT100001</td>\n",
       "      <td>Driving Without License</td>\n",
       "      <td>2776</td>\n",
       "      <td>Punjab</td>\n",
       "      <td>2023-01-02</td>\n",
       "      <td>00:42</td>\n",
       "      <td>Scooter</td>\n",
       "      <td>Silver</td>\n",
       "      <td>2010</td>\n",
       "      <td>Tamil Nadu</td>\n",
       "      <td>32</td>\n",
       "      <td>Female</td>\n",
       "      <td>Commercial</td>\n",
       "      <td>4</td>\n",
       "      <td>Rainy</td>\n",
       "      <td>Dry</td>\n",
       "      <td>OFF6000</td>\n",
       "      <td>Highway Patrol</td>\n",
       "      <td>Valid</td>\n",
       "      <td>4</td>\n",
       "      <td>NaN</td>\n",
       "      <td>No</td>\n",
       "      <td>Green</td>\n",
       "      <td>40</td>\n",
       "      <td>48</td>\n",
       "      <td>0.45</td>\n",
       "      <td>Negative</td>\n",
       "      <td>Yes</td>\n",
       "      <td>Yes</td>\n",
       "      <td>Online</td>\n",
       "      <td>No</td>\n",
       "      <td>2</td>\n",
       "      <td>Repeat Offender</td>\n",
       "    </tr>\n",
       "    <tr>\n",
       "      <th>2</th>\n",
       "      <td>VLT100002</td>\n",
       "      <td>Using Mobile Phone</td>\n",
       "      <td>4785</td>\n",
       "      <td>Maharashtra</td>\n",
       "      <td>2023-01-03</td>\n",
       "      <td>04:32</td>\n",
       "      <td>Scooter</td>\n",
       "      <td>Grey</td>\n",
       "      <td>2006</td>\n",
       "      <td>Tamil Nadu</td>\n",
       "      <td>67</td>\n",
       "      <td>Female</td>\n",
       "      <td>Two-Wheeler</td>\n",
       "      <td>8</td>\n",
       "      <td>Clear</td>\n",
       "      <td>Potholes</td>\n",
       "      <td>OFF5706</td>\n",
       "      <td>Local Police</td>\n",
       "      <td>Valid</td>\n",
       "      <td>5</td>\n",
       "      <td>Yes</td>\n",
       "      <td>Yes</td>\n",
       "      <td>Yellow</td>\n",
       "      <td>80</td>\n",
       "      <td>26</td>\n",
       "      <td>0.31</td>\n",
       "      <td>Not Conducted</td>\n",
       "      <td>No</td>\n",
       "      <td>No</td>\n",
       "      <td>Not Paid</td>\n",
       "      <td>Yes</td>\n",
       "      <td>4</td>\n",
       "      <td>NaN</td>\n",
       "    </tr>\n",
       "    <tr>\n",
       "      <th>3</th>\n",
       "      <td>VLT100003</td>\n",
       "      <td>No Seatbelt</td>\n",
       "      <td>1138</td>\n",
       "      <td>Uttar Pradesh</td>\n",
       "      <td>2023-01-04</td>\n",
       "      <td>15:06</td>\n",
       "      <td>Car</td>\n",
       "      <td>Green</td>\n",
       "      <td>1996</td>\n",
       "      <td>Uttar Pradesh</td>\n",
       "      <td>46</td>\n",
       "      <td>Male</td>\n",
       "      <td>Learner</td>\n",
       "      <td>3</td>\n",
       "      <td>Rainy</td>\n",
       "      <td>Wet</td>\n",
       "      <td>OFF5575</td>\n",
       "      <td>Highway Patrol</td>\n",
       "      <td>Valid</td>\n",
       "      <td>2</td>\n",
       "      <td>No</td>\n",
       "      <td>No</td>\n",
       "      <td>Green</td>\n",
       "      <td>100</td>\n",
       "      <td>115</td>\n",
       "      <td>0.09</td>\n",
       "      <td>Not Conducted</td>\n",
       "      <td>No</td>\n",
       "      <td>Yes</td>\n",
       "      <td>Online</td>\n",
       "      <td>No</td>\n",
       "      <td>5</td>\n",
       "      <td>Repeat Offender</td>\n",
       "    </tr>\n",
       "    <tr>\n",
       "      <th>4</th>\n",
       "      <td>VLT100004</td>\n",
       "      <td>Over-speeding</td>\n",
       "      <td>1610</td>\n",
       "      <td>Karnataka</td>\n",
       "      <td>2023-01-05</td>\n",
       "      <td>06:57</td>\n",
       "      <td>Truck</td>\n",
       "      <td>Yellow</td>\n",
       "      <td>2016</td>\n",
       "      <td>Delhi</td>\n",
       "      <td>63</td>\n",
       "      <td>Female</td>\n",
       "      <td>Four-Wheeler</td>\n",
       "      <td>4</td>\n",
       "      <td>Foggy</td>\n",
       "      <td>Potholes</td>\n",
       "      <td>OFF7147</td>\n",
       "      <td>Traffic Police</td>\n",
       "      <td>Valid</td>\n",
       "      <td>4</td>\n",
       "      <td>NaN</td>\n",
       "      <td>No</td>\n",
       "      <td>Red</td>\n",
       "      <td>30</td>\n",
       "      <td>115</td>\n",
       "      <td>0.28</td>\n",
       "      <td>Positive</td>\n",
       "      <td>No</td>\n",
       "      <td>Yes</td>\n",
       "      <td>Cash</td>\n",
       "      <td>Yes</td>\n",
       "      <td>0</td>\n",
       "      <td>NaN</td>\n",
       "    </tr>\n",
       "  </tbody>\n",
       "</table>\n",
       "</div>"
      ],
      "text/plain": [
       "  Violation_ID           Violation_Type  Fine_Amount       Location  \\\n",
       "0    VLT100000              Overloading         4544      Karnataka   \n",
       "1    VLT100001  Driving Without License         2776         Punjab   \n",
       "2    VLT100002       Using Mobile Phone         4785    Maharashtra   \n",
       "3    VLT100003              No Seatbelt         1138  Uttar Pradesh   \n",
       "4    VLT100004            Over-speeding         1610      Karnataka   \n",
       "\n",
       "         Date   Time Vehicle_Type Vehicle_Color  Vehicle_Model_Year  \\\n",
       "0  2023-01-01  23:02          Car           Red                2012   \n",
       "1  2023-01-02  00:42      Scooter        Silver                2010   \n",
       "2  2023-01-03  04:32      Scooter          Grey                2006   \n",
       "3  2023-01-04  15:06          Car         Green                1996   \n",
       "4  2023-01-05  06:57        Truck        Yellow                2016   \n",
       "\n",
       "  Registration_State  Driver_Age Driver_Gender  License_Type  Penalty_Points  \\\n",
       "0        West Bengal          25          Male    Commercial               5   \n",
       "1         Tamil Nadu          32        Female    Commercial               4   \n",
       "2         Tamil Nadu          67        Female   Two-Wheeler               8   \n",
       "3      Uttar Pradesh          46          Male       Learner               3   \n",
       "4              Delhi          63        Female  Four-Wheeler               4   \n",
       "\n",
       "  Weather_Condition Road_Condition Officer_ID  Issuing_Agency  \\\n",
       "0            Cloudy       Slippery    OFF9971    Local Police   \n",
       "1             Rainy            Dry    OFF6000  Highway Patrol   \n",
       "2             Clear       Potholes    OFF5706    Local Police   \n",
       "3             Rainy            Wet    OFF5575  Highway Patrol   \n",
       "4             Foggy       Potholes    OFF7147  Traffic Police   \n",
       "\n",
       "  License_Validity  Number_of_Passengers Helmet_Worn Seatbelt_Worn  \\\n",
       "0            Valid                     4         NaN           Yes   \n",
       "1            Valid                     4         NaN            No   \n",
       "2            Valid                     5         Yes           Yes   \n",
       "3            Valid                     2          No            No   \n",
       "4            Valid                     4         NaN            No   \n",
       "\n",
       "  Traffic_Light_Status  Speed_Limit  Recorded_Speed  Alcohol_Level  \\\n",
       "0                Green          100              95           0.03   \n",
       "1                Green           40              48           0.45   \n",
       "2               Yellow           80              26           0.31   \n",
       "3                Green          100             115           0.09   \n",
       "4                  Red           30             115           0.28   \n",
       "\n",
       "  Breathalyzer_Result Towed Fine_Paid Payment_Method  \\\n",
       "0            Negative   Yes        No         Online   \n",
       "1            Negative   Yes       Yes         Online   \n",
       "2       Not Conducted    No        No       Not Paid   \n",
       "3       Not Conducted    No       Yes         Online   \n",
       "4            Positive    No       Yes           Cash   \n",
       "\n",
       "  Court_Appearance_Required  Previous_Violations         Comments  \n",
       "0                       Yes                    3  Repeat Offender  \n",
       "1                        No                    2  Repeat Offender  \n",
       "2                       Yes                    4              NaN  \n",
       "3                        No                    5  Repeat Offender  \n",
       "4                       Yes                    0              NaN  "
      ]
     },
     "execution_count": 3,
     "metadata": {},
     "output_type": "execute_result"
    }
   ],
   "source": [
    "#Lets load the data series\n",
    "raw_data=pd.read_csv(\"./Indian_Traffic_Violations.csv\")\n",
    "raw_data.head()\n"
   ]
  },
  {
   "cell_type": "code",
   "execution_count": 4,
   "metadata": {},
   "outputs": [
    {
     "data": {
      "text/plain": [
       "Index(['Violation_ID', 'Violation_Type', 'Fine_Amount', 'Location', 'Date',\n",
       "       'Time', 'Vehicle_Type', 'Vehicle_Color', 'Vehicle_Model_Year',\n",
       "       'Registration_State', 'Driver_Age', 'Driver_Gender', 'License_Type',\n",
       "       'Penalty_Points', 'Weather_Condition', 'Road_Condition', 'Officer_ID',\n",
       "       'Issuing_Agency', 'License_Validity', 'Number_of_Passengers',\n",
       "       'Helmet_Worn', 'Seatbelt_Worn', 'Traffic_Light_Status', 'Speed_Limit',\n",
       "       'Recorded_Speed', 'Alcohol_Level', 'Breathalyzer_Result', 'Towed',\n",
       "       'Fine_Paid', 'Payment_Method', 'Court_Appearance_Required',\n",
       "       'Previous_Violations', 'Comments'],\n",
       "      dtype='object')"
      ]
     },
     "execution_count": 4,
     "metadata": {},
     "output_type": "execute_result"
    }
   ],
   "source": [
    "raw_data.shape\n",
    "raw_data.columns"
   ]
  },
  {
   "cell_type": "code",
   "execution_count": 5,
   "metadata": {},
   "outputs": [
    {
     "data": {
      "text/html": [
       "<div>\n",
       "<style scoped>\n",
       "    .dataframe tbody tr th:only-of-type {\n",
       "        vertical-align: middle;\n",
       "    }\n",
       "\n",
       "    .dataframe tbody tr th {\n",
       "        vertical-align: top;\n",
       "    }\n",
       "\n",
       "    .dataframe thead th {\n",
       "        text-align: right;\n",
       "    }\n",
       "</style>\n",
       "<table border=\"1\" class=\"dataframe\">\n",
       "  <thead>\n",
       "    <tr style=\"text-align: right;\">\n",
       "      <th></th>\n",
       "      <th>Violation_Type</th>\n",
       "      <th>Fine_Amount</th>\n",
       "      <th>Location</th>\n",
       "      <th>Date</th>\n",
       "      <th>Vehicle_Type</th>\n",
       "      <th>Registration_State</th>\n",
       "      <th>Driver_Age</th>\n",
       "      <th>Driver_Gender</th>\n",
       "      <th>License_Type</th>\n",
       "      <th>Weather_Condition</th>\n",
       "      <th>Road_Condition</th>\n",
       "      <th>Officer_ID</th>\n",
       "      <th>Issuing_Agency</th>\n",
       "      <th>License_Validity</th>\n",
       "      <th>Helmet_Worn</th>\n",
       "      <th>Seatbelt_Worn</th>\n",
       "      <th>Traffic_Light_Status</th>\n",
       "      <th>Speed_Limit</th>\n",
       "      <th>Recorded_Speed</th>\n",
       "      <th>Alcohol_Level</th>\n",
       "      <th>Court_Appearance_Required</th>\n",
       "      <th>Previous_Violations</th>\n",
       "      <th>Comments</th>\n",
       "    </tr>\n",
       "  </thead>\n",
       "  <tbody>\n",
       "    <tr>\n",
       "      <th>0</th>\n",
       "      <td>Overloading</td>\n",
       "      <td>4544</td>\n",
       "      <td>Karnataka</td>\n",
       "      <td>2023-01-01</td>\n",
       "      <td>Car</td>\n",
       "      <td>West Bengal</td>\n",
       "      <td>25</td>\n",
       "      <td>Male</td>\n",
       "      <td>Commercial</td>\n",
       "      <td>Cloudy</td>\n",
       "      <td>Slippery</td>\n",
       "      <td>OFF9971</td>\n",
       "      <td>Local Police</td>\n",
       "      <td>Valid</td>\n",
       "      <td>NaN</td>\n",
       "      <td>Yes</td>\n",
       "      <td>Green</td>\n",
       "      <td>100</td>\n",
       "      <td>95</td>\n",
       "      <td>0.03</td>\n",
       "      <td>Yes</td>\n",
       "      <td>3</td>\n",
       "      <td>Repeat Offender</td>\n",
       "    </tr>\n",
       "    <tr>\n",
       "      <th>1</th>\n",
       "      <td>Driving Without License</td>\n",
       "      <td>2776</td>\n",
       "      <td>Punjab</td>\n",
       "      <td>2023-01-02</td>\n",
       "      <td>Scooter</td>\n",
       "      <td>Tamil Nadu</td>\n",
       "      <td>32</td>\n",
       "      <td>Female</td>\n",
       "      <td>Commercial</td>\n",
       "      <td>Rainy</td>\n",
       "      <td>Dry</td>\n",
       "      <td>OFF6000</td>\n",
       "      <td>Highway Patrol</td>\n",
       "      <td>Valid</td>\n",
       "      <td>NaN</td>\n",
       "      <td>No</td>\n",
       "      <td>Green</td>\n",
       "      <td>40</td>\n",
       "      <td>48</td>\n",
       "      <td>0.45</td>\n",
       "      <td>No</td>\n",
       "      <td>2</td>\n",
       "      <td>Repeat Offender</td>\n",
       "    </tr>\n",
       "    <tr>\n",
       "      <th>2</th>\n",
       "      <td>Using Mobile Phone</td>\n",
       "      <td>4785</td>\n",
       "      <td>Maharashtra</td>\n",
       "      <td>2023-01-03</td>\n",
       "      <td>Scooter</td>\n",
       "      <td>Tamil Nadu</td>\n",
       "      <td>67</td>\n",
       "      <td>Female</td>\n",
       "      <td>Two-Wheeler</td>\n",
       "      <td>Clear</td>\n",
       "      <td>Potholes</td>\n",
       "      <td>OFF5706</td>\n",
       "      <td>Local Police</td>\n",
       "      <td>Valid</td>\n",
       "      <td>Yes</td>\n",
       "      <td>Yes</td>\n",
       "      <td>Yellow</td>\n",
       "      <td>80</td>\n",
       "      <td>26</td>\n",
       "      <td>0.31</td>\n",
       "      <td>Yes</td>\n",
       "      <td>4</td>\n",
       "      <td>NaN</td>\n",
       "    </tr>\n",
       "    <tr>\n",
       "      <th>3</th>\n",
       "      <td>No Seatbelt</td>\n",
       "      <td>1138</td>\n",
       "      <td>Uttar Pradesh</td>\n",
       "      <td>2023-01-04</td>\n",
       "      <td>Car</td>\n",
       "      <td>Uttar Pradesh</td>\n",
       "      <td>46</td>\n",
       "      <td>Male</td>\n",
       "      <td>Learner</td>\n",
       "      <td>Rainy</td>\n",
       "      <td>Wet</td>\n",
       "      <td>OFF5575</td>\n",
       "      <td>Highway Patrol</td>\n",
       "      <td>Valid</td>\n",
       "      <td>No</td>\n",
       "      <td>No</td>\n",
       "      <td>Green</td>\n",
       "      <td>100</td>\n",
       "      <td>115</td>\n",
       "      <td>0.09</td>\n",
       "      <td>No</td>\n",
       "      <td>5</td>\n",
       "      <td>Repeat Offender</td>\n",
       "    </tr>\n",
       "    <tr>\n",
       "      <th>4</th>\n",
       "      <td>Over-speeding</td>\n",
       "      <td>1610</td>\n",
       "      <td>Karnataka</td>\n",
       "      <td>2023-01-05</td>\n",
       "      <td>Truck</td>\n",
       "      <td>Delhi</td>\n",
       "      <td>63</td>\n",
       "      <td>Female</td>\n",
       "      <td>Four-Wheeler</td>\n",
       "      <td>Foggy</td>\n",
       "      <td>Potholes</td>\n",
       "      <td>OFF7147</td>\n",
       "      <td>Traffic Police</td>\n",
       "      <td>Valid</td>\n",
       "      <td>NaN</td>\n",
       "      <td>No</td>\n",
       "      <td>Red</td>\n",
       "      <td>30</td>\n",
       "      <td>115</td>\n",
       "      <td>0.28</td>\n",
       "      <td>Yes</td>\n",
       "      <td>0</td>\n",
       "      <td>NaN</td>\n",
       "    </tr>\n",
       "  </tbody>\n",
       "</table>\n",
       "</div>"
      ],
      "text/plain": [
       "            Violation_Type  Fine_Amount       Location        Date  \\\n",
       "0              Overloading         4544      Karnataka  2023-01-01   \n",
       "1  Driving Without License         2776         Punjab  2023-01-02   \n",
       "2       Using Mobile Phone         4785    Maharashtra  2023-01-03   \n",
       "3              No Seatbelt         1138  Uttar Pradesh  2023-01-04   \n",
       "4            Over-speeding         1610      Karnataka  2023-01-05   \n",
       "\n",
       "  Vehicle_Type Registration_State  Driver_Age Driver_Gender  License_Type  \\\n",
       "0          Car        West Bengal          25          Male    Commercial   \n",
       "1      Scooter         Tamil Nadu          32        Female    Commercial   \n",
       "2      Scooter         Tamil Nadu          67        Female   Two-Wheeler   \n",
       "3          Car      Uttar Pradesh          46          Male       Learner   \n",
       "4        Truck              Delhi          63        Female  Four-Wheeler   \n",
       "\n",
       "  Weather_Condition Road_Condition Officer_ID  Issuing_Agency  \\\n",
       "0            Cloudy       Slippery    OFF9971    Local Police   \n",
       "1             Rainy            Dry    OFF6000  Highway Patrol   \n",
       "2             Clear       Potholes    OFF5706    Local Police   \n",
       "3             Rainy            Wet    OFF5575  Highway Patrol   \n",
       "4             Foggy       Potholes    OFF7147  Traffic Police   \n",
       "\n",
       "  License_Validity Helmet_Worn Seatbelt_Worn Traffic_Light_Status  \\\n",
       "0            Valid         NaN           Yes                Green   \n",
       "1            Valid         NaN            No                Green   \n",
       "2            Valid         Yes           Yes               Yellow   \n",
       "3            Valid          No            No                Green   \n",
       "4            Valid         NaN            No                  Red   \n",
       "\n",
       "   Speed_Limit  Recorded_Speed  Alcohol_Level Court_Appearance_Required  \\\n",
       "0          100              95           0.03                       Yes   \n",
       "1           40              48           0.45                        No   \n",
       "2           80              26           0.31                       Yes   \n",
       "3          100             115           0.09                        No   \n",
       "4           30             115           0.28                       Yes   \n",
       "\n",
       "   Previous_Violations         Comments  \n",
       "0                    3  Repeat Offender  \n",
       "1                    2  Repeat Offender  \n",
       "2                    4              NaN  \n",
       "3                    5  Repeat Offender  \n",
       "4                    0              NaN  "
      ]
     },
     "execution_count": 5,
     "metadata": {},
     "output_type": "execute_result"
    }
   ],
   "source": [
    "cleaned_data_frame=raw_data[['Violation_Type', 'Fine_Amount', 'Location', 'Date', 'Vehicle_Type',\n",
    "       'Registration_State', 'Driver_Age', 'Driver_Gender', 'License_Type','Weather_Condition', 'Road_Condition', 'Officer_ID',\n",
    "       'Issuing_Agency', 'License_Validity', \n",
    "       'Helmet_Worn', 'Seatbelt_Worn', 'Traffic_Light_Status', 'Speed_Limit',\n",
    "       'Recorded_Speed', 'Alcohol_Level', 'Court_Appearance_Required',\n",
    "       'Previous_Violations', 'Comments']]\n",
    "\n",
    "cleaned_data_frame.head()"
   ]
  },
  {
   "cell_type": "code",
   "execution_count": 6,
   "metadata": {},
   "outputs": [
    {
     "data": {
      "text/plain": [
       "(4000, 23)"
      ]
     },
     "execution_count": 6,
     "metadata": {},
     "output_type": "execute_result"
    }
   ],
   "source": [
    "cleaned_data_frame.shape"
   ]
  },
  {
   "cell_type": "code",
   "execution_count": 7,
   "metadata": {},
   "outputs": [
    {
     "data": {
      "text/plain": [
       "Violation_Type                object\n",
       "Fine_Amount                    int64\n",
       "Location                      object\n",
       "Date                          object\n",
       "Vehicle_Type                  object\n",
       "Registration_State            object\n",
       "Driver_Age                     int64\n",
       "Driver_Gender                 object\n",
       "License_Type                  object\n",
       "Weather_Condition             object\n",
       "Road_Condition                object\n",
       "Officer_ID                    object\n",
       "Issuing_Agency                object\n",
       "License_Validity              object\n",
       "Helmet_Worn                   object\n",
       "Seatbelt_Worn                 object\n",
       "Traffic_Light_Status          object\n",
       "Speed_Limit                    int64\n",
       "Recorded_Speed                 int64\n",
       "Alcohol_Level                float64\n",
       "Court_Appearance_Required     object\n",
       "Previous_Violations            int64\n",
       "Comments                      object\n",
       "dtype: object"
      ]
     },
     "execution_count": 7,
     "metadata": {},
     "output_type": "execute_result"
    }
   ],
   "source": [
    "cleaned_data_frame.dtypes"
   ]
  },
  {
   "cell_type": "code",
   "execution_count": 8,
   "metadata": {},
   "outputs": [
    {
     "name": "stderr",
     "output_type": "stream",
     "text": [
      "C:\\Users\\USER\\AppData\\Local\\Temp\\ipykernel_17260\\3214029363.py:1: SettingWithCopyWarning: \n",
      "A value is trying to be set on a copy of a slice from a DataFrame.\n",
      "Try using .loc[row_indexer,col_indexer] = value instead\n",
      "\n",
      "See the caveats in the documentation: https://pandas.pydata.org/pandas-docs/stable/user_guide/indexing.html#returning-a-view-versus-a-copy\n",
      "  cleaned_data_frame[\"Year\"]=cleaned_data_frame[\"Date\"].str.split(\"-\").str[0].copy()\n"
     ]
    },
    {
     "data": {
      "text/html": [
       "<div>\n",
       "<style scoped>\n",
       "    .dataframe tbody tr th:only-of-type {\n",
       "        vertical-align: middle;\n",
       "    }\n",
       "\n",
       "    .dataframe tbody tr th {\n",
       "        vertical-align: top;\n",
       "    }\n",
       "\n",
       "    .dataframe thead th {\n",
       "        text-align: right;\n",
       "    }\n",
       "</style>\n",
       "<table border=\"1\" class=\"dataframe\">\n",
       "  <thead>\n",
       "    <tr style=\"text-align: right;\">\n",
       "      <th></th>\n",
       "      <th>Violation_Type</th>\n",
       "      <th>Fine_Amount</th>\n",
       "      <th>Location</th>\n",
       "      <th>Date</th>\n",
       "      <th>Vehicle_Type</th>\n",
       "      <th>Registration_State</th>\n",
       "      <th>Driver_Age</th>\n",
       "      <th>Driver_Gender</th>\n",
       "      <th>License_Type</th>\n",
       "      <th>Weather_Condition</th>\n",
       "      <th>Road_Condition</th>\n",
       "      <th>Officer_ID</th>\n",
       "      <th>Issuing_Agency</th>\n",
       "      <th>License_Validity</th>\n",
       "      <th>Helmet_Worn</th>\n",
       "      <th>Seatbelt_Worn</th>\n",
       "      <th>Traffic_Light_Status</th>\n",
       "      <th>Speed_Limit</th>\n",
       "      <th>Recorded_Speed</th>\n",
       "      <th>Alcohol_Level</th>\n",
       "      <th>Court_Appearance_Required</th>\n",
       "      <th>Previous_Violations</th>\n",
       "      <th>Comments</th>\n",
       "      <th>Year</th>\n",
       "    </tr>\n",
       "  </thead>\n",
       "  <tbody>\n",
       "    <tr>\n",
       "      <th>0</th>\n",
       "      <td>Overloading</td>\n",
       "      <td>4544</td>\n",
       "      <td>Karnataka</td>\n",
       "      <td>2023-01-01</td>\n",
       "      <td>Car</td>\n",
       "      <td>West Bengal</td>\n",
       "      <td>25</td>\n",
       "      <td>Male</td>\n",
       "      <td>Commercial</td>\n",
       "      <td>Cloudy</td>\n",
       "      <td>Slippery</td>\n",
       "      <td>OFF9971</td>\n",
       "      <td>Local Police</td>\n",
       "      <td>Valid</td>\n",
       "      <td>NaN</td>\n",
       "      <td>Yes</td>\n",
       "      <td>Green</td>\n",
       "      <td>100</td>\n",
       "      <td>95</td>\n",
       "      <td>0.03</td>\n",
       "      <td>Yes</td>\n",
       "      <td>3</td>\n",
       "      <td>Repeat Offender</td>\n",
       "      <td>2023</td>\n",
       "    </tr>\n",
       "    <tr>\n",
       "      <th>1</th>\n",
       "      <td>Driving Without License</td>\n",
       "      <td>2776</td>\n",
       "      <td>Punjab</td>\n",
       "      <td>2023-01-02</td>\n",
       "      <td>Scooter</td>\n",
       "      <td>Tamil Nadu</td>\n",
       "      <td>32</td>\n",
       "      <td>Female</td>\n",
       "      <td>Commercial</td>\n",
       "      <td>Rainy</td>\n",
       "      <td>Dry</td>\n",
       "      <td>OFF6000</td>\n",
       "      <td>Highway Patrol</td>\n",
       "      <td>Valid</td>\n",
       "      <td>NaN</td>\n",
       "      <td>No</td>\n",
       "      <td>Green</td>\n",
       "      <td>40</td>\n",
       "      <td>48</td>\n",
       "      <td>0.45</td>\n",
       "      <td>No</td>\n",
       "      <td>2</td>\n",
       "      <td>Repeat Offender</td>\n",
       "      <td>2023</td>\n",
       "    </tr>\n",
       "    <tr>\n",
       "      <th>2</th>\n",
       "      <td>Using Mobile Phone</td>\n",
       "      <td>4785</td>\n",
       "      <td>Maharashtra</td>\n",
       "      <td>2023-01-03</td>\n",
       "      <td>Scooter</td>\n",
       "      <td>Tamil Nadu</td>\n",
       "      <td>67</td>\n",
       "      <td>Female</td>\n",
       "      <td>Two-Wheeler</td>\n",
       "      <td>Clear</td>\n",
       "      <td>Potholes</td>\n",
       "      <td>OFF5706</td>\n",
       "      <td>Local Police</td>\n",
       "      <td>Valid</td>\n",
       "      <td>Yes</td>\n",
       "      <td>Yes</td>\n",
       "      <td>Yellow</td>\n",
       "      <td>80</td>\n",
       "      <td>26</td>\n",
       "      <td>0.31</td>\n",
       "      <td>Yes</td>\n",
       "      <td>4</td>\n",
       "      <td>NaN</td>\n",
       "      <td>2023</td>\n",
       "    </tr>\n",
       "    <tr>\n",
       "      <th>3</th>\n",
       "      <td>No Seatbelt</td>\n",
       "      <td>1138</td>\n",
       "      <td>Uttar Pradesh</td>\n",
       "      <td>2023-01-04</td>\n",
       "      <td>Car</td>\n",
       "      <td>Uttar Pradesh</td>\n",
       "      <td>46</td>\n",
       "      <td>Male</td>\n",
       "      <td>Learner</td>\n",
       "      <td>Rainy</td>\n",
       "      <td>Wet</td>\n",
       "      <td>OFF5575</td>\n",
       "      <td>Highway Patrol</td>\n",
       "      <td>Valid</td>\n",
       "      <td>No</td>\n",
       "      <td>No</td>\n",
       "      <td>Green</td>\n",
       "      <td>100</td>\n",
       "      <td>115</td>\n",
       "      <td>0.09</td>\n",
       "      <td>No</td>\n",
       "      <td>5</td>\n",
       "      <td>Repeat Offender</td>\n",
       "      <td>2023</td>\n",
       "    </tr>\n",
       "    <tr>\n",
       "      <th>4</th>\n",
       "      <td>Over-speeding</td>\n",
       "      <td>1610</td>\n",
       "      <td>Karnataka</td>\n",
       "      <td>2023-01-05</td>\n",
       "      <td>Truck</td>\n",
       "      <td>Delhi</td>\n",
       "      <td>63</td>\n",
       "      <td>Female</td>\n",
       "      <td>Four-Wheeler</td>\n",
       "      <td>Foggy</td>\n",
       "      <td>Potholes</td>\n",
       "      <td>OFF7147</td>\n",
       "      <td>Traffic Police</td>\n",
       "      <td>Valid</td>\n",
       "      <td>NaN</td>\n",
       "      <td>No</td>\n",
       "      <td>Red</td>\n",
       "      <td>30</td>\n",
       "      <td>115</td>\n",
       "      <td>0.28</td>\n",
       "      <td>Yes</td>\n",
       "      <td>0</td>\n",
       "      <td>NaN</td>\n",
       "      <td>2023</td>\n",
       "    </tr>\n",
       "  </tbody>\n",
       "</table>\n",
       "</div>"
      ],
      "text/plain": [
       "            Violation_Type  Fine_Amount       Location        Date  \\\n",
       "0              Overloading         4544      Karnataka  2023-01-01   \n",
       "1  Driving Without License         2776         Punjab  2023-01-02   \n",
       "2       Using Mobile Phone         4785    Maharashtra  2023-01-03   \n",
       "3              No Seatbelt         1138  Uttar Pradesh  2023-01-04   \n",
       "4            Over-speeding         1610      Karnataka  2023-01-05   \n",
       "\n",
       "  Vehicle_Type Registration_State  Driver_Age Driver_Gender  License_Type  \\\n",
       "0          Car        West Bengal          25          Male    Commercial   \n",
       "1      Scooter         Tamil Nadu          32        Female    Commercial   \n",
       "2      Scooter         Tamil Nadu          67        Female   Two-Wheeler   \n",
       "3          Car      Uttar Pradesh          46          Male       Learner   \n",
       "4        Truck              Delhi          63        Female  Four-Wheeler   \n",
       "\n",
       "  Weather_Condition Road_Condition Officer_ID  Issuing_Agency  \\\n",
       "0            Cloudy       Slippery    OFF9971    Local Police   \n",
       "1             Rainy            Dry    OFF6000  Highway Patrol   \n",
       "2             Clear       Potholes    OFF5706    Local Police   \n",
       "3             Rainy            Wet    OFF5575  Highway Patrol   \n",
       "4             Foggy       Potholes    OFF7147  Traffic Police   \n",
       "\n",
       "  License_Validity Helmet_Worn Seatbelt_Worn Traffic_Light_Status  \\\n",
       "0            Valid         NaN           Yes                Green   \n",
       "1            Valid         NaN            No                Green   \n",
       "2            Valid         Yes           Yes               Yellow   \n",
       "3            Valid          No            No                Green   \n",
       "4            Valid         NaN            No                  Red   \n",
       "\n",
       "   Speed_Limit  Recorded_Speed  Alcohol_Level Court_Appearance_Required  \\\n",
       "0          100              95           0.03                       Yes   \n",
       "1           40              48           0.45                        No   \n",
       "2           80              26           0.31                       Yes   \n",
       "3          100             115           0.09                        No   \n",
       "4           30             115           0.28                       Yes   \n",
       "\n",
       "   Previous_Violations         Comments  Year  \n",
       "0                    3  Repeat Offender  2023  \n",
       "1                    2  Repeat Offender  2023  \n",
       "2                    4              NaN  2023  \n",
       "3                    5  Repeat Offender  2023  \n",
       "4                    0              NaN  2023  "
      ]
     },
     "execution_count": 8,
     "metadata": {},
     "output_type": "execute_result"
    }
   ],
   "source": [
    "cleaned_data_frame[\"Year\"]=cleaned_data_frame[\"Date\"].str.split(\"-\").str[0].copy()\n",
    "cleaned_data_frame.head()\n",
    "cleaned_data_frame.drop(columns=\"Date\").copy()\n",
    "cleaned_data_frame.head()\n"
   ]
  },
  {
   "cell_type": "code",
   "execution_count": 9,
   "metadata": {},
   "outputs": [
    {
     "data": {
      "text/plain": [
       "Text(0.5, 1.0, 'Number of Vehicles')"
      ]
     },
     "execution_count": 9,
     "metadata": {},
     "output_type": "execute_result"
    },
    {
     "data": {
      "image/png": "[encoded data removed]",
      "text/plain": [
       "<Figure size 640x480 with 1 Axes>"
      ]
     },
     "metadata": {},
     "output_type": "display_data"
    }
   ],
   "source": [
    "cleaned_data_frame.drop([\"Officer_ID\",\"Comments\",\"Helmet_Worn\",\"Seatbelt_Worn\",\"Date\"],axis=1)\n",
    "ax1=cleaned_data_frame[\"Vehicle_Type\"].value_counts().plot(kind=\"bar\",color=\"skyblue\")\n",
    "ax1.set_ylabel(\"Counts of vechile\")\n",
    "ax1.set_xlabel(\"Vehicle Name\")\n",
    "ax1.set_title(\"Number of Vehicles\")\n"
   ]
  },
  {
   "cell_type": "code",
   "execution_count": 10,
   "metadata": {},
   "outputs": [
    {
     "data": {
      "text/html": [
       "<div>\n",
       "<style scoped>\n",
       "    .dataframe tbody tr th:only-of-type {\n",
       "        vertical-align: middle;\n",
       "    }\n",
       "\n",
       "    .dataframe tbody tr th {\n",
       "        vertical-align: top;\n",
       "    }\n",
       "\n",
       "    .dataframe thead th {\n",
       "        text-align: right;\n",
       "    }\n",
       "</style>\n",
       "<table border=\"1\" class=\"dataframe\">\n",
       "  <thead>\n",
       "    <tr style=\"text-align: right;\">\n",
       "      <th></th>\n",
       "      <th>Violation_Type</th>\n",
       "      <th>Fine_Amount</th>\n",
       "      <th>Location</th>\n",
       "      <th>Date</th>\n",
       "      <th>Vehicle_Type</th>\n",
       "      <th>Registration_State</th>\n",
       "      <th>Driver_Age</th>\n",
       "      <th>Driver_Gender</th>\n",
       "      <th>License_Type</th>\n",
       "      <th>Weather_Condition</th>\n",
       "      <th>Road_Condition</th>\n",
       "      <th>Officer_ID</th>\n",
       "      <th>Issuing_Agency</th>\n",
       "      <th>License_Validity</th>\n",
       "      <th>Helmet_Worn</th>\n",
       "      <th>Seatbelt_Worn</th>\n",
       "      <th>Traffic_Light_Status</th>\n",
       "      <th>Speed_Limit</th>\n",
       "      <th>Recorded_Speed</th>\n",
       "      <th>Alcohol_Level</th>\n",
       "      <th>Court_Appearance_Required</th>\n",
       "      <th>Previous_Violations</th>\n",
       "      <th>Comments</th>\n",
       "      <th>Year</th>\n",
       "    </tr>\n",
       "  </thead>\n",
       "  <tbody>\n",
       "    <tr>\n",
       "      <th>0</th>\n",
       "      <td>Overloading</td>\n",
       "      <td>4544</td>\n",
       "      <td>Karnataka</td>\n",
       "      <td>2023-01-01</td>\n",
       "      <td>Car</td>\n",
       "      <td>West Bengal</td>\n",
       "      <td>25</td>\n",
       "      <td>Male</td>\n",
       "      <td>Commercial</td>\n",
       "      <td>Cloudy</td>\n",
       "      <td>Slippery</td>\n",
       "      <td>OFF9971</td>\n",
       "      <td>Local Police</td>\n",
       "      <td>Valid</td>\n",
       "      <td>NaN</td>\n",
       "      <td>Yes</td>\n",
       "      <td>Green</td>\n",
       "      <td>100</td>\n",
       "      <td>95</td>\n",
       "      <td>0.03</td>\n",
       "      <td>Yes</td>\n",
       "      <td>3</td>\n",
       "      <td>Repeat Offender</td>\n",
       "      <td>2023</td>\n",
       "    </tr>\n",
       "    <tr>\n",
       "      <th>1</th>\n",
       "      <td>Driving Without License</td>\n",
       "      <td>2776</td>\n",
       "      <td>Punjab</td>\n",
       "      <td>2023-01-02</td>\n",
       "      <td>Scooter</td>\n",
       "      <td>Tamil Nadu</td>\n",
       "      <td>32</td>\n",
       "      <td>Female</td>\n",
       "      <td>Commercial</td>\n",
       "      <td>Rainy</td>\n",
       "      <td>Dry</td>\n",
       "      <td>OFF6000</td>\n",
       "      <td>Highway Patrol</td>\n",
       "      <td>Valid</td>\n",
       "      <td>NaN</td>\n",
       "      <td>No</td>\n",
       "      <td>Green</td>\n",
       "      <td>40</td>\n",
       "      <td>48</td>\n",
       "      <td>0.45</td>\n",
       "      <td>No</td>\n",
       "      <td>2</td>\n",
       "      <td>Repeat Offender</td>\n",
       "      <td>2023</td>\n",
       "    </tr>\n",
       "    <tr>\n",
       "      <th>2</th>\n",
       "      <td>Using Mobile Phone</td>\n",
       "      <td>4785</td>\n",
       "      <td>Maharashtra</td>\n",
       "      <td>2023-01-03</td>\n",
       "      <td>Scooter</td>\n",
       "      <td>Tamil Nadu</td>\n",
       "      <td>67</td>\n",
       "      <td>Female</td>\n",
       "      <td>Two-Wheeler</td>\n",
       "      <td>Clear</td>\n",
       "      <td>Potholes</td>\n",
       "      <td>OFF5706</td>\n",
       "      <td>Local Police</td>\n",
       "      <td>Valid</td>\n",
       "      <td>Yes</td>\n",
       "      <td>Yes</td>\n",
       "      <td>Yellow</td>\n",
       "      <td>80</td>\n",
       "      <td>26</td>\n",
       "      <td>0.31</td>\n",
       "      <td>Yes</td>\n",
       "      <td>4</td>\n",
       "      <td>NaN</td>\n",
       "      <td>2023</td>\n",
       "    </tr>\n",
       "    <tr>\n",
       "      <th>3</th>\n",
       "      <td>No Seatbelt</td>\n",
       "      <td>1138</td>\n",
       "      <td>Uttar Pradesh</td>\n",
       "      <td>2023-01-04</td>\n",
       "      <td>Car</td>\n",
       "      <td>Uttar Pradesh</td>\n",
       "      <td>46</td>\n",
       "      <td>Male</td>\n",
       "      <td>Learner</td>\n",
       "      <td>Rainy</td>\n",
       "      <td>Wet</td>\n",
       "      <td>OFF5575</td>\n",
       "      <td>Highway Patrol</td>\n",
       "      <td>Valid</td>\n",
       "      <td>No</td>\n",
       "      <td>No</td>\n",
       "      <td>Green</td>\n",
       "      <td>100</td>\n",
       "      <td>115</td>\n",
       "      <td>0.09</td>\n",
       "      <td>No</td>\n",
       "      <td>5</td>\n",
       "      <td>Repeat Offender</td>\n",
       "      <td>2023</td>\n",
       "    </tr>\n",
       "    <tr>\n",
       "      <th>4</th>\n",
       "      <td>Over-speeding</td>\n",
       "      <td>1610</td>\n",
       "      <td>Karnataka</td>\n",
       "      <td>2023-01-05</td>\n",
       "      <td>Truck</td>\n",
       "      <td>Delhi</td>\n",
       "      <td>63</td>\n",
       "      <td>Female</td>\n",
       "      <td>Four-Wheeler</td>\n",
       "      <td>Foggy</td>\n",
       "      <td>Potholes</td>\n",
       "      <td>OFF7147</td>\n",
       "      <td>Traffic Police</td>\n",
       "      <td>Valid</td>\n",
       "      <td>NaN</td>\n",
       "      <td>No</td>\n",
       "      <td>Red</td>\n",
       "      <td>30</td>\n",
       "      <td>115</td>\n",
       "      <td>0.28</td>\n",
       "      <td>Yes</td>\n",
       "      <td>0</td>\n",
       "      <td>NaN</td>\n",
       "      <td>2023</td>\n",
       "    </tr>\n",
       "  </tbody>\n",
       "</table>\n",
       "</div>"
      ],
      "text/plain": [
       "            Violation_Type  Fine_Amount       Location        Date  \\\n",
       "0              Overloading         4544      Karnataka  2023-01-01   \n",
       "1  Driving Without License         2776         Punjab  2023-01-02   \n",
       "2       Using Mobile Phone         4785    Maharashtra  2023-01-03   \n",
       "3              No Seatbelt         1138  Uttar Pradesh  2023-01-04   \n",
       "4            Over-speeding         1610      Karnataka  2023-01-05   \n",
       "\n",
       "  Vehicle_Type Registration_State  Driver_Age Driver_Gender  License_Type  \\\n",
       "0          Car        West Bengal          25          Male    Commercial   \n",
       "1      Scooter         Tamil Nadu          32        Female    Commercial   \n",
       "2      Scooter         Tamil Nadu          67        Female   Two-Wheeler   \n",
       "3          Car      Uttar Pradesh          46          Male       Learner   \n",
       "4        Truck              Delhi          63        Female  Four-Wheeler   \n",
       "\n",
       "  Weather_Condition Road_Condition Officer_ID  Issuing_Agency  \\\n",
       "0            Cloudy       Slippery    OFF9971    Local Police   \n",
       "1             Rainy            Dry    OFF6000  Highway Patrol   \n",
       "2             Clear       Potholes    OFF5706    Local Police   \n",
       "3             Rainy            Wet    OFF5575  Highway Patrol   \n",
       "4             Foggy       Potholes    OFF7147  Traffic Police   \n",
       "\n",
       "  License_Validity Helmet_Worn Seatbelt_Worn Traffic_Light_Status  \\\n",
       "0            Valid         NaN           Yes                Green   \n",
       "1            Valid         NaN            No                Green   \n",
       "2            Valid         Yes           Yes               Yellow   \n",
       "3            Valid          No            No                Green   \n",
       "4            Valid         NaN            No                  Red   \n",
       "\n",
       "   Speed_Limit  Recorded_Speed  Alcohol_Level Court_Appearance_Required  \\\n",
       "0          100              95           0.03                       Yes   \n",
       "1           40              48           0.45                        No   \n",
       "2           80              26           0.31                       Yes   \n",
       "3          100             115           0.09                        No   \n",
       "4           30             115           0.28                       Yes   \n",
       "\n",
       "   Previous_Violations         Comments  Year  \n",
       "0                    3  Repeat Offender  2023  \n",
       "1                    2  Repeat Offender  2023  \n",
       "2                    4              NaN  2023  \n",
       "3                    5  Repeat Offender  2023  \n",
       "4                    0              NaN  2023  "
      ]
     },
     "execution_count": 10,
     "metadata": {},
     "output_type": "execute_result"
    }
   ],
   "source": [
    "cleaned_data_frame[\"Violation_Type\"].astype(\"category\").cat.codes\n",
    "cleaned_data_frame.head(5)"
   ]
  },
  {
   "cell_type": "code",
   "execution_count": 11,
   "metadata": {},
   "outputs": [
    {
     "data": {
      "text/plain": [
       "Text(0.5, 0, 'Location[Staewise]')"
      ]
     },
     "execution_count": 11,
     "metadata": {},
     "output_type": "execute_result"
    },
    {
     "data": {
      "image/png": "[encoded data removed]",
      "text/plain": [
       "<Figure size 640x480 with 1 Axes>"
      ]
     },
     "metadata": {},
     "output_type": "display_data"
    }
   ],
   "source": [
    "\n",
    "ax1=cleaned_data_frame[\"Location\"].value_counts().plot(kind=\"bar\",title=\"Violation areawise\")\n",
    "ax1.set_ylabel(\"Counts areawise\")\n",
    "ax1.set_facecolor(\"white\")\n",
    "ax1.set_xlabel(\"Location[Staewise]\")"
   ]
  },
  {
   "cell_type": "code",
   "execution_count": 12,
   "metadata": {},
   "outputs": [
    {
     "data": {
      "text/html": [
       "<div>\n",
       "<style scoped>\n",
       "    .dataframe tbody tr th:only-of-type {\n",
       "        vertical-align: middle;\n",
       "    }\n",
       "\n",
       "    .dataframe tbody tr th {\n",
       "        vertical-align: top;\n",
       "    }\n",
       "\n",
       "    .dataframe thead th {\n",
       "        text-align: right;\n",
       "    }\n",
       "</style>\n",
       "<table border=\"1\" class=\"dataframe\">\n",
       "  <thead>\n",
       "    <tr style=\"text-align: right;\">\n",
       "      <th></th>\n",
       "      <th>Violation_Type</th>\n",
       "      <th>Fine_Amount</th>\n",
       "      <th>Location</th>\n",
       "      <th>Date</th>\n",
       "      <th>Vehicle_Type</th>\n",
       "      <th>Registration_State</th>\n",
       "      <th>Driver_Age</th>\n",
       "      <th>Driver_Gender</th>\n",
       "      <th>License_Type</th>\n",
       "      <th>Weather_Condition</th>\n",
       "      <th>Road_Condition</th>\n",
       "      <th>Officer_ID</th>\n",
       "      <th>Issuing_Agency</th>\n",
       "      <th>License_Validity</th>\n",
       "      <th>Helmet_Worn</th>\n",
       "      <th>Seatbelt_Worn</th>\n",
       "      <th>Traffic_Light_Status</th>\n",
       "      <th>Speed_Limit</th>\n",
       "      <th>Recorded_Speed</th>\n",
       "      <th>Alcohol_Level</th>\n",
       "      <th>Court_Appearance_Required</th>\n",
       "      <th>Previous_Violations</th>\n",
       "      <th>Comments</th>\n",
       "      <th>Year</th>\n",
       "    </tr>\n",
       "  </thead>\n",
       "  <tbody>\n",
       "    <tr>\n",
       "      <th>0</th>\n",
       "      <td>Overloading</td>\n",
       "      <td>4544</td>\n",
       "      <td>Karnataka</td>\n",
       "      <td>2023-01-01</td>\n",
       "      <td>Car</td>\n",
       "      <td>West Bengal</td>\n",
       "      <td>25</td>\n",
       "      <td>Male</td>\n",
       "      <td>Commercial</td>\n",
       "      <td>Cloudy</td>\n",
       "      <td>Slippery</td>\n",
       "      <td>OFF9971</td>\n",
       "      <td>Local Police</td>\n",
       "      <td>Valid</td>\n",
       "      <td>NaN</td>\n",
       "      <td>Yes</td>\n",
       "      <td>Green</td>\n",
       "      <td>100</td>\n",
       "      <td>95</td>\n",
       "      <td>0.03</td>\n",
       "      <td>Yes</td>\n",
       "      <td>3</td>\n",
       "      <td>Repeat Offender</td>\n",
       "      <td>2023</td>\n",
       "    </tr>\n",
       "    <tr>\n",
       "      <th>1</th>\n",
       "      <td>Driving Without License</td>\n",
       "      <td>2776</td>\n",
       "      <td>Punjab</td>\n",
       "      <td>2023-01-02</td>\n",
       "      <td>Scooter</td>\n",
       "      <td>Tamil Nadu</td>\n",
       "      <td>32</td>\n",
       "      <td>Female</td>\n",
       "      <td>Commercial</td>\n",
       "      <td>Rainy</td>\n",
       "      <td>Dry</td>\n",
       "      <td>OFF6000</td>\n",
       "      <td>Highway Patrol</td>\n",
       "      <td>Valid</td>\n",
       "      <td>NaN</td>\n",
       "      <td>No</td>\n",
       "      <td>Green</td>\n",
       "      <td>40</td>\n",
       "      <td>48</td>\n",
       "      <td>0.45</td>\n",
       "      <td>No</td>\n",
       "      <td>2</td>\n",
       "      <td>Repeat Offender</td>\n",
       "      <td>2023</td>\n",
       "    </tr>\n",
       "  </tbody>\n",
       "</table>\n",
       "</div>"
      ],
      "text/plain": [
       "            Violation_Type  Fine_Amount   Location        Date Vehicle_Type  \\\n",
       "0              Overloading         4544  Karnataka  2023-01-01          Car   \n",
       "1  Driving Without License         2776     Punjab  2023-01-02      Scooter   \n",
       "\n",
       "  Registration_State  Driver_Age Driver_Gender License_Type Weather_Condition  \\\n",
       "0        West Bengal          25          Male   Commercial            Cloudy   \n",
       "1         Tamil Nadu          32        Female   Commercial             Rainy   \n",
       "\n",
       "  Road_Condition Officer_ID  Issuing_Agency License_Validity Helmet_Worn  \\\n",
       "0       Slippery    OFF9971    Local Police            Valid         NaN   \n",
       "1            Dry    OFF6000  Highway Patrol            Valid         NaN   \n",
       "\n",
       "  Seatbelt_Worn Traffic_Light_Status  Speed_Limit  Recorded_Speed  \\\n",
       "0           Yes                Green          100              95   \n",
       "1            No                Green           40              48   \n",
       "\n",
       "   Alcohol_Level Court_Appearance_Required  Previous_Violations  \\\n",
       "0           0.03                       Yes                    3   \n",
       "1           0.45                        No                    2   \n",
       "\n",
       "          Comments  Year  \n",
       "0  Repeat Offender  2023  \n",
       "1  Repeat Offender  2023  "
      ]
     },
     "execution_count": 12,
     "metadata": {},
     "output_type": "execute_result"
    }
   ],
   "source": [
    "cleaned_data_frame.head(2)"
   ]
  },
  {
   "cell_type": "code",
   "execution_count": 13,
   "metadata": {},
   "outputs": [
    {
     "data": {
      "text/plain": [
       "np.float64(0.006102380428190288)"
      ]
     },
     "execution_count": 13,
     "metadata": {},
     "output_type": "execute_result"
    }
   ],
   "source": [
    "cleaned_data_frame.Driver_Age.corr(cleaned_data_frame.Fine_Amount)\n",
    "\n"
   ]
  },
  {
   "cell_type": "code",
   "execution_count": null,
   "metadata": {},
   "outputs": [],
   "source": []
  },
  {
   "cell_type": "code",
   "execution_count": 14,
   "metadata": {},
   "outputs": [
    {
     "data": {
      "text/plain": [
       "<Axes: >"
      ]
     },
     "execution_count": 14,
     "metadata": {},
     "output_type": "execute_result"
    },
    {
     "data": {
      "image/png": "[encoded data removed]",
      "text/plain": [
       "<Figure size 640x480 with 2 Axes>"
      ]
     },
     "metadata": {},
     "output_type": "display_data"
    }
   ],
   "source": [
    "numerical_dataframe = cleaned_data_frame.select_dtypes(include=['number'])  # Fixed\n",
    "\n",
    "sns.heatmap(numerical_dataframe.corr(),cmap=\"Reds\",annot=True)\n"
   ]
  },
  {
   "cell_type": "code",
   "execution_count": 15,
   "metadata": {},
   "outputs": [
    {
     "data": {
      "text/html": [
       "<div>\n",
       "<style scoped>\n",
       "    .dataframe tbody tr th:only-of-type {\n",
       "        vertical-align: middle;\n",
       "    }\n",
       "\n",
       "    .dataframe tbody tr th {\n",
       "        vertical-align: top;\n",
       "    }\n",
       "\n",
       "    .dataframe thead th {\n",
       "        text-align: right;\n",
       "    }\n",
       "</style>\n",
       "<table border=\"1\" class=\"dataframe\">\n",
       "  <thead>\n",
       "    <tr style=\"text-align: right;\">\n",
       "      <th></th>\n",
       "      <th>Fine_Amount</th>\n",
       "      <th>Driver_Age</th>\n",
       "      <th>Speed_Limit</th>\n",
       "      <th>Recorded_Speed</th>\n",
       "      <th>Alcohol_Level</th>\n",
       "      <th>Previous_Violations</th>\n",
       "    </tr>\n",
       "  </thead>\n",
       "  <tbody>\n",
       "    <tr>\n",
       "      <th>count</th>\n",
       "      <td>4000.000000</td>\n",
       "      <td>4000.000000</td>\n",
       "      <td>4000.000000</td>\n",
       "      <td>4000.000000</td>\n",
       "      <td>4000.000000</td>\n",
       "      <td>4000.00000</td>\n",
       "    </tr>\n",
       "    <tr>\n",
       "      <th>mean</th>\n",
       "      <td>2529.821250</td>\n",
       "      <td>46.658000</td>\n",
       "      <td>59.817500</td>\n",
       "      <td>69.479000</td>\n",
       "      <td>0.251408</td>\n",
       "      <td>2.47750</td>\n",
       "    </tr>\n",
       "    <tr>\n",
       "      <th>std</th>\n",
       "      <td>1417.415712</td>\n",
       "      <td>16.865858</td>\n",
       "      <td>23.633267</td>\n",
       "      <td>29.394652</td>\n",
       "      <td>0.143744</td>\n",
       "      <td>1.71398</td>\n",
       "    </tr>\n",
       "    <tr>\n",
       "      <th>min</th>\n",
       "      <td>100.000000</td>\n",
       "      <td>18.000000</td>\n",
       "      <td>30.000000</td>\n",
       "      <td>20.000000</td>\n",
       "      <td>0.000000</td>\n",
       "      <td>0.00000</td>\n",
       "    </tr>\n",
       "    <tr>\n",
       "      <th>25%</th>\n",
       "      <td>1280.750000</td>\n",
       "      <td>32.000000</td>\n",
       "      <td>40.000000</td>\n",
       "      <td>43.000000</td>\n",
       "      <td>0.130000</td>\n",
       "      <td>1.00000</td>\n",
       "    </tr>\n",
       "    <tr>\n",
       "      <th>50%</th>\n",
       "      <td>2506.000000</td>\n",
       "      <td>47.000000</td>\n",
       "      <td>60.000000</td>\n",
       "      <td>70.000000</td>\n",
       "      <td>0.250000</td>\n",
       "      <td>2.00000</td>\n",
       "    </tr>\n",
       "    <tr>\n",
       "      <th>75%</th>\n",
       "      <td>3733.000000</td>\n",
       "      <td>61.000000</td>\n",
       "      <td>80.000000</td>\n",
       "      <td>95.000000</td>\n",
       "      <td>0.380000</td>\n",
       "      <td>4.00000</td>\n",
       "    </tr>\n",
       "    <tr>\n",
       "      <th>max</th>\n",
       "      <td>5000.000000</td>\n",
       "      <td>75.000000</td>\n",
       "      <td>100.000000</td>\n",
       "      <td>120.000000</td>\n",
       "      <td>0.500000</td>\n",
       "      <td>5.00000</td>\n",
       "    </tr>\n",
       "  </tbody>\n",
       "</table>\n",
       "</div>"
      ],
      "text/plain": [
       "       Fine_Amount   Driver_Age  Speed_Limit  Recorded_Speed  Alcohol_Level  \\\n",
       "count  4000.000000  4000.000000  4000.000000     4000.000000    4000.000000   \n",
       "mean   2529.821250    46.658000    59.817500       69.479000       0.251408   \n",
       "std    1417.415712    16.865858    23.633267       29.394652       0.143744   \n",
       "min     100.000000    18.000000    30.000000       20.000000       0.000000   \n",
       "25%    1280.750000    32.000000    40.000000       43.000000       0.130000   \n",
       "50%    2506.000000    47.000000    60.000000       70.000000       0.250000   \n",
       "75%    3733.000000    61.000000    80.000000       95.000000       0.380000   \n",
       "max    5000.000000    75.000000   100.000000      120.000000       0.500000   \n",
       "\n",
       "       Previous_Violations  \n",
       "count           4000.00000  \n",
       "mean               2.47750  \n",
       "std                1.71398  \n",
       "min                0.00000  \n",
       "25%                1.00000  \n",
       "50%                2.00000  \n",
       "75%                4.00000  \n",
       "max                5.00000  "
      ]
     },
     "execution_count": 15,
     "metadata": {},
     "output_type": "execute_result"
    }
   ],
   "source": [
    "cleaned_data_frame.describe()"
   ]
  },
  {
   "cell_type": "code",
   "execution_count": 16,
   "metadata": {},
   "outputs": [
    {
     "data": {
      "text/html": [
       "<div>\n",
       "<style scoped>\n",
       "    .dataframe tbody tr th:only-of-type {\n",
       "        vertical-align: middle;\n",
       "    }\n",
       "\n",
       "    .dataframe tbody tr th {\n",
       "        vertical-align: top;\n",
       "    }\n",
       "\n",
       "    .dataframe thead th {\n",
       "        text-align: right;\n",
       "    }\n",
       "</style>\n",
       "<table border=\"1\" class=\"dataframe\">\n",
       "  <thead>\n",
       "    <tr style=\"text-align: right;\">\n",
       "      <th></th>\n",
       "      <th>Fine_Amount</th>\n",
       "      <th>Driver_Age</th>\n",
       "      <th>Speed_Limit</th>\n",
       "      <th>Recorded_Speed</th>\n",
       "      <th>Alcohol_Level</th>\n",
       "      <th>Previous_Violations</th>\n",
       "    </tr>\n",
       "  </thead>\n",
       "  <tbody>\n",
       "    <tr>\n",
       "      <th>0</th>\n",
       "      <td>4544</td>\n",
       "      <td>25</td>\n",
       "      <td>100</td>\n",
       "      <td>95</td>\n",
       "      <td>0.03</td>\n",
       "      <td>3</td>\n",
       "    </tr>\n",
       "    <tr>\n",
       "      <th>1</th>\n",
       "      <td>2776</td>\n",
       "      <td>32</td>\n",
       "      <td>40</td>\n",
       "      <td>48</td>\n",
       "      <td>0.45</td>\n",
       "      <td>2</td>\n",
       "    </tr>\n",
       "    <tr>\n",
       "      <th>2</th>\n",
       "      <td>4785</td>\n",
       "      <td>67</td>\n",
       "      <td>80</td>\n",
       "      <td>26</td>\n",
       "      <td>0.31</td>\n",
       "      <td>4</td>\n",
       "    </tr>\n",
       "    <tr>\n",
       "      <th>3</th>\n",
       "      <td>1138</td>\n",
       "      <td>46</td>\n",
       "      <td>100</td>\n",
       "      <td>115</td>\n",
       "      <td>0.09</td>\n",
       "      <td>5</td>\n",
       "    </tr>\n",
       "    <tr>\n",
       "      <th>4</th>\n",
       "      <td>1610</td>\n",
       "      <td>63</td>\n",
       "      <td>30</td>\n",
       "      <td>115</td>\n",
       "      <td>0.28</td>\n",
       "      <td>0</td>\n",
       "    </tr>\n",
       "    <tr>\n",
       "      <th>...</th>\n",
       "      <td>...</td>\n",
       "      <td>...</td>\n",
       "      <td>...</td>\n",
       "      <td>...</td>\n",
       "      <td>...</td>\n",
       "      <td>...</td>\n",
       "    </tr>\n",
       "    <tr>\n",
       "      <th>3995</th>\n",
       "      <td>2180</td>\n",
       "      <td>21</td>\n",
       "      <td>100</td>\n",
       "      <td>90</td>\n",
       "      <td>0.15</td>\n",
       "      <td>2</td>\n",
       "    </tr>\n",
       "    <tr>\n",
       "      <th>3996</th>\n",
       "      <td>2708</td>\n",
       "      <td>69</td>\n",
       "      <td>100</td>\n",
       "      <td>90</td>\n",
       "      <td>0.21</td>\n",
       "      <td>4</td>\n",
       "    </tr>\n",
       "    <tr>\n",
       "      <th>3997</th>\n",
       "      <td>3163</td>\n",
       "      <td>63</td>\n",
       "      <td>60</td>\n",
       "      <td>54</td>\n",
       "      <td>0.28</td>\n",
       "      <td>2</td>\n",
       "    </tr>\n",
       "    <tr>\n",
       "      <th>3998</th>\n",
       "      <td>1691</td>\n",
       "      <td>43</td>\n",
       "      <td>30</td>\n",
       "      <td>77</td>\n",
       "      <td>0.28</td>\n",
       "      <td>2</td>\n",
       "    </tr>\n",
       "    <tr>\n",
       "      <th>3999</th>\n",
       "      <td>2133</td>\n",
       "      <td>24</td>\n",
       "      <td>50</td>\n",
       "      <td>105</td>\n",
       "      <td>0.34</td>\n",
       "      <td>4</td>\n",
       "    </tr>\n",
       "  </tbody>\n",
       "</table>\n",
       "<p>4000 rows × 6 columns</p>\n",
       "</div>"
      ],
      "text/plain": [
       "      Fine_Amount  Driver_Age  Speed_Limit  Recorded_Speed  Alcohol_Level  \\\n",
       "0            4544          25          100              95           0.03   \n",
       "1            2776          32           40              48           0.45   \n",
       "2            4785          67           80              26           0.31   \n",
       "3            1138          46          100             115           0.09   \n",
       "4            1610          63           30             115           0.28   \n",
       "...           ...         ...          ...             ...            ...   \n",
       "3995         2180          21          100              90           0.15   \n",
       "3996         2708          69          100              90           0.21   \n",
       "3997         3163          63           60              54           0.28   \n",
       "3998         1691          43           30              77           0.28   \n",
       "3999         2133          24           50             105           0.34   \n",
       "\n",
       "      Previous_Violations  \n",
       "0                       3  \n",
       "1                       2  \n",
       "2                       4  \n",
       "3                       5  \n",
       "4                       0  \n",
       "...                   ...  \n",
       "3995                    2  \n",
       "3996                    4  \n",
       "3997                    2  \n",
       "3998                    2  \n",
       "3999                    4  \n",
       "\n",
       "[4000 rows x 6 columns]"
      ]
     },
     "execution_count": 16,
     "metadata": {},
     "output_type": "execute_result"
    }
   ],
   "source": [
    "numerical_dataframe"
   ]
  },
  {
   "cell_type": "code",
   "execution_count": 17,
   "metadata": {},
   "outputs": [
    {
     "data": {
      "text/html": [
       "<div>\n",
       "<style scoped>\n",
       "    .dataframe tbody tr th:only-of-type {\n",
       "        vertical-align: middle;\n",
       "    }\n",
       "\n",
       "    .dataframe tbody tr th {\n",
       "        vertical-align: top;\n",
       "    }\n",
       "\n",
       "    .dataframe thead th {\n",
       "        text-align: right;\n",
       "    }\n",
       "</style>\n",
       "<table border=\"1\" class=\"dataframe\">\n",
       "  <thead>\n",
       "    <tr style=\"text-align: right;\">\n",
       "      <th></th>\n",
       "      <th>Violation_Type</th>\n",
       "      <th>Fine_Amount</th>\n",
       "      <th>Location</th>\n",
       "      <th>Date</th>\n",
       "      <th>Vehicle_Type</th>\n",
       "      <th>Registration_State</th>\n",
       "      <th>Driver_Age</th>\n",
       "      <th>Driver_Gender</th>\n",
       "      <th>License_Type</th>\n",
       "      <th>Weather_Condition</th>\n",
       "      <th>Road_Condition</th>\n",
       "      <th>Officer_ID</th>\n",
       "      <th>Issuing_Agency</th>\n",
       "      <th>License_Validity</th>\n",
       "      <th>Helmet_Worn</th>\n",
       "      <th>Seatbelt_Worn</th>\n",
       "      <th>Traffic_Light_Status</th>\n",
       "      <th>Speed_Limit</th>\n",
       "      <th>Recorded_Speed</th>\n",
       "      <th>Alcohol_Level</th>\n",
       "      <th>Court_Appearance_Required</th>\n",
       "      <th>Previous_Violations</th>\n",
       "      <th>Comments</th>\n",
       "      <th>Year</th>\n",
       "    </tr>\n",
       "  </thead>\n",
       "  <tbody>\n",
       "    <tr>\n",
       "      <th>0</th>\n",
       "      <td>Overloading</td>\n",
       "      <td>4544</td>\n",
       "      <td>Karnataka</td>\n",
       "      <td>2023-01-01</td>\n",
       "      <td>Car</td>\n",
       "      <td>West Bengal</td>\n",
       "      <td>25</td>\n",
       "      <td>Male</td>\n",
       "      <td>Commercial</td>\n",
       "      <td>Cloudy</td>\n",
       "      <td>Slippery</td>\n",
       "      <td>OFF9971</td>\n",
       "      <td>Local Police</td>\n",
       "      <td>Valid</td>\n",
       "      <td>NaN</td>\n",
       "      <td>Yes</td>\n",
       "      <td>Green</td>\n",
       "      <td>100</td>\n",
       "      <td>95</td>\n",
       "      <td>0.03</td>\n",
       "      <td>Yes</td>\n",
       "      <td>3</td>\n",
       "      <td>Repeat Offender</td>\n",
       "      <td>2023</td>\n",
       "    </tr>\n",
       "    <tr>\n",
       "      <th>1</th>\n",
       "      <td>Driving Without License</td>\n",
       "      <td>2776</td>\n",
       "      <td>Punjab</td>\n",
       "      <td>2023-01-02</td>\n",
       "      <td>Scooter</td>\n",
       "      <td>Tamil Nadu</td>\n",
       "      <td>32</td>\n",
       "      <td>Female</td>\n",
       "      <td>Commercial</td>\n",
       "      <td>Rainy</td>\n",
       "      <td>Dry</td>\n",
       "      <td>OFF6000</td>\n",
       "      <td>Highway Patrol</td>\n",
       "      <td>Valid</td>\n",
       "      <td>NaN</td>\n",
       "      <td>No</td>\n",
       "      <td>Green</td>\n",
       "      <td>40</td>\n",
       "      <td>48</td>\n",
       "      <td>0.45</td>\n",
       "      <td>No</td>\n",
       "      <td>2</td>\n",
       "      <td>Repeat Offender</td>\n",
       "      <td>2023</td>\n",
       "    </tr>\n",
       "  </tbody>\n",
       "</table>\n",
       "</div>"
      ],
      "text/plain": [
       "            Violation_Type  Fine_Amount   Location        Date Vehicle_Type  \\\n",
       "0              Overloading         4544  Karnataka  2023-01-01          Car   \n",
       "1  Driving Without License         2776     Punjab  2023-01-02      Scooter   \n",
       "\n",
       "  Registration_State  Driver_Age Driver_Gender License_Type Weather_Condition  \\\n",
       "0        West Bengal          25          Male   Commercial            Cloudy   \n",
       "1         Tamil Nadu          32        Female   Commercial             Rainy   \n",
       "\n",
       "  Road_Condition Officer_ID  Issuing_Agency License_Validity Helmet_Worn  \\\n",
       "0       Slippery    OFF9971    Local Police            Valid         NaN   \n",
       "1            Dry    OFF6000  Highway Patrol            Valid         NaN   \n",
       "\n",
       "  Seatbelt_Worn Traffic_Light_Status  Speed_Limit  Recorded_Speed  \\\n",
       "0           Yes                Green          100              95   \n",
       "1            No                Green           40              48   \n",
       "\n",
       "   Alcohol_Level Court_Appearance_Required  Previous_Violations  \\\n",
       "0           0.03                       Yes                    3   \n",
       "1           0.45                        No                    2   \n",
       "\n",
       "          Comments  Year  \n",
       "0  Repeat Offender  2023  \n",
       "1  Repeat Offender  2023  "
      ]
     },
     "execution_count": 17,
     "metadata": {},
     "output_type": "execute_result"
    }
   ],
   "source": [
    "cleaned_data_frame.head(2)"
   ]
  },
  {
   "cell_type": "code",
   "execution_count": 18,
   "metadata": {},
   "outputs": [
    {
     "data": {
      "text/plain": [
       "np.float64(0.006102380428190288)"
      ]
     },
     "execution_count": 18,
     "metadata": {},
     "output_type": "execute_result"
    }
   ],
   "source": [
    "numerical_dataframe.Driver_Age.corr(numerical_dataframe.Fine_Amount)"
   ]
  },
  {
   "cell_type": "code",
   "execution_count": 19,
   "metadata": {},
   "outputs": [
    {
     "data": {
      "text/html": [
       "<div>\n",
       "<style scoped>\n",
       "    .dataframe tbody tr th:only-of-type {\n",
       "        vertical-align: middle;\n",
       "    }\n",
       "\n",
       "    .dataframe tbody tr th {\n",
       "        vertical-align: top;\n",
       "    }\n",
       "\n",
       "    .dataframe thead th {\n",
       "        text-align: right;\n",
       "    }\n",
       "</style>\n",
       "<table border=\"1\" class=\"dataframe\">\n",
       "  <thead>\n",
       "    <tr style=\"text-align: right;\">\n",
       "      <th></th>\n",
       "      <th>Violation_Type</th>\n",
       "      <th>Fine_Amount</th>\n",
       "      <th>Location</th>\n",
       "      <th>Date</th>\n",
       "      <th>Vehicle_Type</th>\n",
       "      <th>Registration_State</th>\n",
       "      <th>Driver_Age</th>\n",
       "      <th>Driver_Gender</th>\n",
       "      <th>License_Type</th>\n",
       "      <th>Weather_Condition</th>\n",
       "      <th>Road_Condition</th>\n",
       "      <th>Officer_ID</th>\n",
       "      <th>Issuing_Agency</th>\n",
       "      <th>License_Validity</th>\n",
       "      <th>Helmet_Worn</th>\n",
       "      <th>Seatbelt_Worn</th>\n",
       "      <th>Traffic_Light_Status</th>\n",
       "      <th>Speed_Limit</th>\n",
       "      <th>Recorded_Speed</th>\n",
       "      <th>Alcohol_Level</th>\n",
       "      <th>Court_Appearance_Required</th>\n",
       "      <th>Previous_Violations</th>\n",
       "      <th>Comments</th>\n",
       "      <th>Year</th>\n",
       "    </tr>\n",
       "  </thead>\n",
       "  <tbody>\n",
       "    <tr>\n",
       "      <th>0</th>\n",
       "      <td>Overloading</td>\n",
       "      <td>4544</td>\n",
       "      <td>Karnataka</td>\n",
       "      <td>2023-01-01</td>\n",
       "      <td>Car</td>\n",
       "      <td>West Bengal</td>\n",
       "      <td>25</td>\n",
       "      <td>Male</td>\n",
       "      <td>Commercial</td>\n",
       "      <td>Cloudy</td>\n",
       "      <td>Slippery</td>\n",
       "      <td>OFF9971</td>\n",
       "      <td>Local Police</td>\n",
       "      <td>Valid</td>\n",
       "      <td>NaN</td>\n",
       "      <td>Yes</td>\n",
       "      <td>Green</td>\n",
       "      <td>100</td>\n",
       "      <td>95</td>\n",
       "      <td>0.03</td>\n",
       "      <td>Yes</td>\n",
       "      <td>3</td>\n",
       "      <td>Repeat Offender</td>\n",
       "      <td>2023</td>\n",
       "    </tr>\n",
       "    <tr>\n",
       "      <th>1</th>\n",
       "      <td>Driving Without License</td>\n",
       "      <td>2776</td>\n",
       "      <td>Punjab</td>\n",
       "      <td>2023-01-02</td>\n",
       "      <td>Scooter</td>\n",
       "      <td>Tamil Nadu</td>\n",
       "      <td>32</td>\n",
       "      <td>Female</td>\n",
       "      <td>Commercial</td>\n",
       "      <td>Rainy</td>\n",
       "      <td>Dry</td>\n",
       "      <td>OFF6000</td>\n",
       "      <td>Highway Patrol</td>\n",
       "      <td>Valid</td>\n",
       "      <td>NaN</td>\n",
       "      <td>No</td>\n",
       "      <td>Green</td>\n",
       "      <td>40</td>\n",
       "      <td>48</td>\n",
       "      <td>0.45</td>\n",
       "      <td>No</td>\n",
       "      <td>2</td>\n",
       "      <td>Repeat Offender</td>\n",
       "      <td>2023</td>\n",
       "    </tr>\n",
       "  </tbody>\n",
       "</table>\n",
       "</div>"
      ],
      "text/plain": [
       "            Violation_Type  Fine_Amount   Location        Date Vehicle_Type  \\\n",
       "0              Overloading         4544  Karnataka  2023-01-01          Car   \n",
       "1  Driving Without License         2776     Punjab  2023-01-02      Scooter   \n",
       "\n",
       "  Registration_State  Driver_Age Driver_Gender License_Type Weather_Condition  \\\n",
       "0        West Bengal          25          Male   Commercial            Cloudy   \n",
       "1         Tamil Nadu          32        Female   Commercial             Rainy   \n",
       "\n",
       "  Road_Condition Officer_ID  Issuing_Agency License_Validity Helmet_Worn  \\\n",
       "0       Slippery    OFF9971    Local Police            Valid         NaN   \n",
       "1            Dry    OFF6000  Highway Patrol            Valid         NaN   \n",
       "\n",
       "  Seatbelt_Worn Traffic_Light_Status  Speed_Limit  Recorded_Speed  \\\n",
       "0           Yes                Green          100              95   \n",
       "1            No                Green           40              48   \n",
       "\n",
       "   Alcohol_Level Court_Appearance_Required  Previous_Violations  \\\n",
       "0           0.03                       Yes                    3   \n",
       "1           0.45                        No                    2   \n",
       "\n",
       "          Comments  Year  \n",
       "0  Repeat Offender  2023  \n",
       "1  Repeat Offender  2023  "
      ]
     },
     "execution_count": 19,
     "metadata": {},
     "output_type": "execute_result"
    }
   ],
   "source": [
    "cleaned_data_frame.head(2)"
   ]
  },
  {
   "cell_type": "code",
   "execution_count": 20,
   "metadata": {},
   "outputs": [
    {
     "data": {
      "text/html": [
       "<div>\n",
       "<style scoped>\n",
       "    .dataframe tbody tr th:only-of-type {\n",
       "        vertical-align: middle;\n",
       "    }\n",
       "\n",
       "    .dataframe tbody tr th {\n",
       "        vertical-align: top;\n",
       "    }\n",
       "\n",
       "    .dataframe thead th {\n",
       "        text-align: right;\n",
       "    }\n",
       "</style>\n",
       "<table border=\"1\" class=\"dataframe\">\n",
       "  <thead>\n",
       "    <tr style=\"text-align: right;\">\n",
       "      <th></th>\n",
       "      <th>count</th>\n",
       "    </tr>\n",
       "    <tr>\n",
       "      <th>Violation_Type</th>\n",
       "      <th></th>\n",
       "    </tr>\n",
       "  </thead>\n",
       "  <tbody>\n",
       "    <tr>\n",
       "      <th>Drunk Driving</th>\n",
       "      <td>488</td>\n",
       "    </tr>\n",
       "    <tr>\n",
       "      <th>No Helmet</th>\n",
       "      <td>463</td>\n",
       "    </tr>\n",
       "    <tr>\n",
       "      <th>Wrong Parking</th>\n",
       "      <td>454</td>\n",
       "    </tr>\n",
       "    <tr>\n",
       "      <th>Driving Without License</th>\n",
       "      <td>451</td>\n",
       "    </tr>\n",
       "    <tr>\n",
       "      <th>Over-speeding</th>\n",
       "      <td>448</td>\n",
       "    </tr>\n",
       "  </tbody>\n",
       "</table>\n",
       "</div>"
      ],
      "text/plain": [
       "                         count\n",
       "Violation_Type                \n",
       "Drunk Driving              488\n",
       "No Helmet                  463\n",
       "Wrong Parking              454\n",
       "Driving Without License    451\n",
       "Over-speeding              448"
      ]
     },
     "execution_count": 20,
     "metadata": {},
     "output_type": "execute_result"
    }
   ],
   "source": [
    "df=cleaned_data_frame.copy()\n",
    "\n",
    "\n",
    "violation=df[\"Violation_Type\"].value_counts()\n",
    "violation_df=pd.DataFrame(violation)\n",
    "violation_df.head()"
   ]
  },
  {
   "cell_type": "code",
   "execution_count": 21,
   "metadata": {},
   "outputs": [
    {
     "name": "stderr",
     "output_type": "stream",
     "text": [
      "C:\\Users\\USER\\AppData\\Local\\Temp\\ipykernel_17260\\890653014.py:3: UserWarning: set_ticklabels() should only be used with a fixed number of ticks, i.e. after set_ticks() or using a FixedLocator.\n",
      "  ax.set_xticklabels(ax.get_xticklabels(), rotation=90)\n"
     ]
    },
    {
     "data": {
      "text/plain": [
       "Text(0.5, 23.999999999999986, 'Number of Violants')"
      ]
     },
     "execution_count": 21,
     "metadata": {},
     "output_type": "execute_result"
    },
    {
     "data": {
      "image/png": "[encoded data removed]",
      "text/plain": [
       "<Figure size 640x480 with 1 Axes>"
      ]
     },
     "metadata": {},
     "output_type": "display_data"
    }
   ],
   "source": [
    "ax=sns.lineplot(violation_df,x=\"Violation_Type\",y=\"count\",marker=\"o\",color=\"black\",markersize=10)\n",
    "ax.set_facecolor(\"skyblue\")\n",
    "ax.set_xticklabels(ax.get_xticklabels(), rotation=90)\n",
    "ax.set_xlabel(\"Rule violation Types\")\n",
    "ax1.set_xlabel(\"Number of Violants\")"
   ]
  },
  {
   "cell_type": "code",
   "execution_count": 22,
   "metadata": {},
   "outputs": [
    {
     "data": {
      "text/html": [
       "<div>\n",
       "<style scoped>\n",
       "    .dataframe tbody tr th:only-of-type {\n",
       "        vertical-align: middle;\n",
       "    }\n",
       "\n",
       "    .dataframe tbody tr th {\n",
       "        vertical-align: top;\n",
       "    }\n",
       "\n",
       "    .dataframe thead th {\n",
       "        text-align: right;\n",
       "    }\n",
       "</style>\n",
       "<table border=\"1\" class=\"dataframe\">\n",
       "  <thead>\n",
       "    <tr style=\"text-align: right;\">\n",
       "      <th></th>\n",
       "      <th>Violation_Type</th>\n",
       "      <th>Fine_Amount</th>\n",
       "      <th>Location</th>\n",
       "      <th>Date</th>\n",
       "      <th>Vehicle_Type</th>\n",
       "      <th>Registration_State</th>\n",
       "      <th>Driver_Age</th>\n",
       "      <th>Driver_Gender</th>\n",
       "      <th>License_Type</th>\n",
       "      <th>Weather_Condition</th>\n",
       "      <th>Road_Condition</th>\n",
       "      <th>Officer_ID</th>\n",
       "      <th>Issuing_Agency</th>\n",
       "      <th>License_Validity</th>\n",
       "      <th>Helmet_Worn</th>\n",
       "      <th>Seatbelt_Worn</th>\n",
       "      <th>Traffic_Light_Status</th>\n",
       "      <th>Speed_Limit</th>\n",
       "      <th>Recorded_Speed</th>\n",
       "      <th>Alcohol_Level</th>\n",
       "      <th>Court_Appearance_Required</th>\n",
       "      <th>Previous_Violations</th>\n",
       "      <th>Comments</th>\n",
       "      <th>Year</th>\n",
       "    </tr>\n",
       "  </thead>\n",
       "  <tbody>\n",
       "    <tr>\n",
       "      <th>0</th>\n",
       "      <td>Overloading</td>\n",
       "      <td>4544</td>\n",
       "      <td>Karnataka</td>\n",
       "      <td>2023-01-01</td>\n",
       "      <td>Car</td>\n",
       "      <td>West Bengal</td>\n",
       "      <td>25</td>\n",
       "      <td>Male</td>\n",
       "      <td>Commercial</td>\n",
       "      <td>Cloudy</td>\n",
       "      <td>Slippery</td>\n",
       "      <td>OFF9971</td>\n",
       "      <td>Local Police</td>\n",
       "      <td>Valid</td>\n",
       "      <td>NaN</td>\n",
       "      <td>Yes</td>\n",
       "      <td>Green</td>\n",
       "      <td>100</td>\n",
       "      <td>95</td>\n",
       "      <td>0.03</td>\n",
       "      <td>Yes</td>\n",
       "      <td>3</td>\n",
       "      <td>Repeat Offender</td>\n",
       "      <td>2023</td>\n",
       "    </tr>\n",
       "    <tr>\n",
       "      <th>1</th>\n",
       "      <td>Driving Without License</td>\n",
       "      <td>2776</td>\n",
       "      <td>Punjab</td>\n",
       "      <td>2023-01-02</td>\n",
       "      <td>Scooter</td>\n",
       "      <td>Tamil Nadu</td>\n",
       "      <td>32</td>\n",
       "      <td>Female</td>\n",
       "      <td>Commercial</td>\n",
       "      <td>Rainy</td>\n",
       "      <td>Dry</td>\n",
       "      <td>OFF6000</td>\n",
       "      <td>Highway Patrol</td>\n",
       "      <td>Valid</td>\n",
       "      <td>NaN</td>\n",
       "      <td>No</td>\n",
       "      <td>Green</td>\n",
       "      <td>40</td>\n",
       "      <td>48</td>\n",
       "      <td>0.45</td>\n",
       "      <td>No</td>\n",
       "      <td>2</td>\n",
       "      <td>Repeat Offender</td>\n",
       "      <td>2023</td>\n",
       "    </tr>\n",
       "  </tbody>\n",
       "</table>\n",
       "</div>"
      ],
      "text/plain": [
       "            Violation_Type  Fine_Amount   Location        Date Vehicle_Type  \\\n",
       "0              Overloading         4544  Karnataka  2023-01-01          Car   \n",
       "1  Driving Without License         2776     Punjab  2023-01-02      Scooter   \n",
       "\n",
       "  Registration_State  Driver_Age Driver_Gender License_Type Weather_Condition  \\\n",
       "0        West Bengal          25          Male   Commercial            Cloudy   \n",
       "1         Tamil Nadu          32        Female   Commercial             Rainy   \n",
       "\n",
       "  Road_Condition Officer_ID  Issuing_Agency License_Validity Helmet_Worn  \\\n",
       "0       Slippery    OFF9971    Local Police            Valid         NaN   \n",
       "1            Dry    OFF6000  Highway Patrol            Valid         NaN   \n",
       "\n",
       "  Seatbelt_Worn Traffic_Light_Status  Speed_Limit  Recorded_Speed  \\\n",
       "0           Yes                Green          100              95   \n",
       "1            No                Green           40              48   \n",
       "\n",
       "   Alcohol_Level Court_Appearance_Required  Previous_Violations  \\\n",
       "0           0.03                       Yes                    3   \n",
       "1           0.45                        No                    2   \n",
       "\n",
       "          Comments  Year  \n",
       "0  Repeat Offender  2023  \n",
       "1  Repeat Offender  2023  "
      ]
     },
     "execution_count": 22,
     "metadata": {},
     "output_type": "execute_result"
    }
   ],
   "source": [
    "df.head(2)"
   ]
  },
  {
   "cell_type": "code",
   "execution_count": 23,
   "metadata": {},
   "outputs": [
    {
     "data": {
      "text/plain": [
       "Text(0, 0.5, 'Alcohol Level')"
      ]
     },
     "execution_count": 23,
     "metadata": {},
     "output_type": "execute_result"
    },
    {
     "data": {
      "image/png": "[encoded data removed]",
      "text/plain": [
       "<Figure size 1400x500 with 2 Axes>"
      ]
     },
     "metadata": {},
     "output_type": "display_data"
    }
   ],
   "source": [
    "grouped_data=df.groupby(\"Vehicle_Type\")[[\"Recorded_Speed\",\"Alcohol_Level\",\"Driver_Age\"]].mean()\n",
    "fig,ax=plt.subplots(1,2,figsize=(14,5))\n",
    "sns.barplot(data=grouped_data, x=\"Vehicle_Type\", y=\"Recorded_Speed\",hue=\"Alcohol_Level\",ax=ax[0])\n",
    "ax[0].set_title(\"Speed vs Vehicle type\")\n",
    "ax[0].set_xlabel(\"Vehicle Name\")\n",
    "ax[0].set_ylabel(\"Speed[Mph]\")\n",
    "ax[0].set_facecolor(\"white\")\n",
    "sns.lineplot(data=grouped_data,x=\"Driver_Age\",y=\"Alcohol_Level\",hue=\"Recorded_Speed\",marker=\"*\",markersize=10,ax=ax[1])\n",
    "fig.patch.set_facecolor('lightblue')\n",
    "ax[1].set_facecolor('lightyellow')\n",
    "ax[1].set_title(\"Driver Age vs Alcohol Level Representation\")\n",
    "ax[1].set_xlabel(\"Age of Drivers\")\n",
    "ax[1].set_ylabel(\"Alcohol Level\")"
   ]
  },
  {
   "cell_type": "code",
   "execution_count": 24,
   "metadata": {},
   "outputs": [
    {
     "data": {
      "text/html": [
       "<div>\n",
       "<style scoped>\n",
       "    .dataframe tbody tr th:only-of-type {\n",
       "        vertical-align: middle;\n",
       "    }\n",
       "\n",
       "    .dataframe tbody tr th {\n",
       "        vertical-align: top;\n",
       "    }\n",
       "\n",
       "    .dataframe thead th {\n",
       "        text-align: right;\n",
       "    }\n",
       "</style>\n",
       "<table border=\"1\" class=\"dataframe\">\n",
       "  <thead>\n",
       "    <tr style=\"text-align: right;\">\n",
       "      <th></th>\n",
       "      <th></th>\n",
       "      <th>Recorded_Speed</th>\n",
       "      <th>Alcohol_Level</th>\n",
       "    </tr>\n",
       "    <tr>\n",
       "      <th>Vehicle_Type</th>\n",
       "      <th>Driver_Age</th>\n",
       "      <th></th>\n",
       "      <th></th>\n",
       "    </tr>\n",
       "  </thead>\n",
       "  <tbody>\n",
       "    <tr>\n",
       "      <th rowspan=\"5\" valign=\"top\">Auto Rickshaw</th>\n",
       "      <th>18</th>\n",
       "      <td>70.600000</td>\n",
       "      <td>0.265000</td>\n",
       "    </tr>\n",
       "    <tr>\n",
       "      <th>19</th>\n",
       "      <td>82.444444</td>\n",
       "      <td>0.190000</td>\n",
       "    </tr>\n",
       "    <tr>\n",
       "      <th>20</th>\n",
       "      <td>58.625000</td>\n",
       "      <td>0.201250</td>\n",
       "    </tr>\n",
       "    <tr>\n",
       "      <th>21</th>\n",
       "      <td>79.200000</td>\n",
       "      <td>0.234000</td>\n",
       "    </tr>\n",
       "    <tr>\n",
       "      <th>22</th>\n",
       "      <td>56.714286</td>\n",
       "      <td>0.297143</td>\n",
       "    </tr>\n",
       "    <tr>\n",
       "      <th>...</th>\n",
       "      <th>...</th>\n",
       "      <td>...</td>\n",
       "      <td>...</td>\n",
       "    </tr>\n",
       "    <tr>\n",
       "      <th rowspan=\"5\" valign=\"top\">Truck</th>\n",
       "      <th>71</th>\n",
       "      <td>83.181818</td>\n",
       "      <td>0.171818</td>\n",
       "    </tr>\n",
       "    <tr>\n",
       "      <th>72</th>\n",
       "      <td>48.363636</td>\n",
       "      <td>0.244545</td>\n",
       "    </tr>\n",
       "    <tr>\n",
       "      <th>73</th>\n",
       "      <td>54.428571</td>\n",
       "      <td>0.164286</td>\n",
       "    </tr>\n",
       "    <tr>\n",
       "      <th>74</th>\n",
       "      <td>56.411765</td>\n",
       "      <td>0.308824</td>\n",
       "    </tr>\n",
       "    <tr>\n",
       "      <th>75</th>\n",
       "      <td>76.500000</td>\n",
       "      <td>0.306429</td>\n",
       "    </tr>\n",
       "  </tbody>\n",
       "</table>\n",
       "<p>348 rows × 2 columns</p>\n",
       "</div>"
      ],
      "text/plain": [
       "                          Recorded_Speed  Alcohol_Level\n",
       "Vehicle_Type  Driver_Age                               \n",
       "Auto Rickshaw 18               70.600000       0.265000\n",
       "              19               82.444444       0.190000\n",
       "              20               58.625000       0.201250\n",
       "              21               79.200000       0.234000\n",
       "              22               56.714286       0.297143\n",
       "...                                  ...            ...\n",
       "Truck         71               83.181818       0.171818\n",
       "              72               48.363636       0.244545\n",
       "              73               54.428571       0.164286\n",
       "              74               56.411765       0.308824\n",
       "              75               76.500000       0.306429\n",
       "\n",
       "[348 rows x 2 columns]"
      ]
     },
     "execution_count": 24,
     "metadata": {},
     "output_type": "execute_result"
    }
   ],
   "source": [
    "grouped_data_next=df.groupby([\"Vehicle_Type\",\"Driver_Age\"])[[\"Recorded_Speed\",\"Alcohol_Level\"]].mean()\n",
    "grouped_data_next\n"
   ]
  },
  {
   "cell_type": "code",
   "execution_count": 25,
   "metadata": {},
   "outputs": [],
   "source": [
    "df=df.drop(\"Comments\",axis=1)\n"
   ]
  },
  {
   "cell_type": "code",
   "execution_count": 26,
   "metadata": {},
   "outputs": [
    {
     "data": {
      "text/plain": [
       "<BarContainer object of 2 artists>"
      ]
     },
     "execution_count": 26,
     "metadata": {},
     "output_type": "execute_result"
    },
    {
     "data": {
      "image/png": "[encoded data removed]",
      "text/plain": [
       "<Figure size 1400x500 with 2 Axes>"
      ]
     },
     "metadata": {},
     "output_type": "display_data"
    }
   ],
   "source": [
    "court=df[\"Court_Appearance_Required\"].value_counts()\n",
    "fig,ax=plt.subplots(1,2,figsize=(14,5))\n",
    "ax[0].pie(court,labels=([\"Yes\",\"No\"]),autopct='%1.1f%%')\n",
    "ax[0].set_title(\"Gulties sent to jail or not\")\n",
    "ax[1].bar([\"Yes\",\"No\"],height=court)"
   ]
  },
  {
   "cell_type": "code",
   "execution_count": 27,
   "metadata": {},
   "outputs": [
    {
     "data": {
      "text/html": [
       "<div>\n",
       "<style scoped>\n",
       "    .dataframe tbody tr th:only-of-type {\n",
       "        vertical-align: middle;\n",
       "    }\n",
       "\n",
       "    .dataframe tbody tr th {\n",
       "        vertical-align: top;\n",
       "    }\n",
       "\n",
       "    .dataframe thead th {\n",
       "        text-align: right;\n",
       "    }\n",
       "</style>\n",
       "<table border=\"1\" class=\"dataframe\">\n",
       "  <thead>\n",
       "    <tr style=\"text-align: right;\">\n",
       "      <th></th>\n",
       "      <th>Violation_Type</th>\n",
       "      <th>Fine_Amount</th>\n",
       "      <th>Location</th>\n",
       "      <th>Date</th>\n",
       "      <th>Vehicle_Type</th>\n",
       "      <th>Registration_State</th>\n",
       "      <th>Driver_Age</th>\n",
       "      <th>Driver_Gender</th>\n",
       "      <th>License_Type</th>\n",
       "      <th>Weather_Condition</th>\n",
       "      <th>Road_Condition</th>\n",
       "      <th>Officer_ID</th>\n",
       "      <th>Issuing_Agency</th>\n",
       "      <th>License_Validity</th>\n",
       "      <th>Helmet_Worn</th>\n",
       "      <th>Seatbelt_Worn</th>\n",
       "      <th>Traffic_Light_Status</th>\n",
       "      <th>Speed_Limit</th>\n",
       "      <th>Recorded_Speed</th>\n",
       "      <th>Alcohol_Level</th>\n",
       "      <th>Court_Appearance_Required</th>\n",
       "      <th>Previous_Violations</th>\n",
       "      <th>Year</th>\n",
       "    </tr>\n",
       "  </thead>\n",
       "  <tbody>\n",
       "    <tr>\n",
       "      <th>0</th>\n",
       "      <td>Overloading</td>\n",
       "      <td>4544</td>\n",
       "      <td>Karnataka</td>\n",
       "      <td>2023-01-01</td>\n",
       "      <td>Car</td>\n",
       "      <td>West Bengal</td>\n",
       "      <td>25</td>\n",
       "      <td>Male</td>\n",
       "      <td>Commercial</td>\n",
       "      <td>Cloudy</td>\n",
       "      <td>Slippery</td>\n",
       "      <td>OFF9971</td>\n",
       "      <td>Local Police</td>\n",
       "      <td>Valid</td>\n",
       "      <td>NaN</td>\n",
       "      <td>Yes</td>\n",
       "      <td>Green</td>\n",
       "      <td>100</td>\n",
       "      <td>95</td>\n",
       "      <td>0.03</td>\n",
       "      <td>Yes</td>\n",
       "      <td>3</td>\n",
       "      <td>2023</td>\n",
       "    </tr>\n",
       "    <tr>\n",
       "      <th>1</th>\n",
       "      <td>Driving Without License</td>\n",
       "      <td>2776</td>\n",
       "      <td>Punjab</td>\n",
       "      <td>2023-01-02</td>\n",
       "      <td>Scooter</td>\n",
       "      <td>Tamil Nadu</td>\n",
       "      <td>32</td>\n",
       "      <td>Female</td>\n",
       "      <td>Commercial</td>\n",
       "      <td>Rainy</td>\n",
       "      <td>Dry</td>\n",
       "      <td>OFF6000</td>\n",
       "      <td>Highway Patrol</td>\n",
       "      <td>Valid</td>\n",
       "      <td>NaN</td>\n",
       "      <td>No</td>\n",
       "      <td>Green</td>\n",
       "      <td>40</td>\n",
       "      <td>48</td>\n",
       "      <td>0.45</td>\n",
       "      <td>No</td>\n",
       "      <td>2</td>\n",
       "      <td>2023</td>\n",
       "    </tr>\n",
       "    <tr>\n",
       "      <th>2</th>\n",
       "      <td>Using Mobile Phone</td>\n",
       "      <td>4785</td>\n",
       "      <td>Maharashtra</td>\n",
       "      <td>2023-01-03</td>\n",
       "      <td>Scooter</td>\n",
       "      <td>Tamil Nadu</td>\n",
       "      <td>67</td>\n",
       "      <td>Female</td>\n",
       "      <td>Two-Wheeler</td>\n",
       "      <td>Clear</td>\n",
       "      <td>Potholes</td>\n",
       "      <td>OFF5706</td>\n",
       "      <td>Local Police</td>\n",
       "      <td>Valid</td>\n",
       "      <td>Yes</td>\n",
       "      <td>Yes</td>\n",
       "      <td>Yellow</td>\n",
       "      <td>80</td>\n",
       "      <td>26</td>\n",
       "      <td>0.31</td>\n",
       "      <td>Yes</td>\n",
       "      <td>4</td>\n",
       "      <td>2023</td>\n",
       "    </tr>\n",
       "    <tr>\n",
       "      <th>3</th>\n",
       "      <td>No Seatbelt</td>\n",
       "      <td>1138</td>\n",
       "      <td>Uttar Pradesh</td>\n",
       "      <td>2023-01-04</td>\n",
       "      <td>Car</td>\n",
       "      <td>Uttar Pradesh</td>\n",
       "      <td>46</td>\n",
       "      <td>Male</td>\n",
       "      <td>Learner</td>\n",
       "      <td>Rainy</td>\n",
       "      <td>Wet</td>\n",
       "      <td>OFF5575</td>\n",
       "      <td>Highway Patrol</td>\n",
       "      <td>Valid</td>\n",
       "      <td>No</td>\n",
       "      <td>No</td>\n",
       "      <td>Green</td>\n",
       "      <td>100</td>\n",
       "      <td>115</td>\n",
       "      <td>0.09</td>\n",
       "      <td>No</td>\n",
       "      <td>5</td>\n",
       "      <td>2023</td>\n",
       "    </tr>\n",
       "    <tr>\n",
       "      <th>4</th>\n",
       "      <td>Over-speeding</td>\n",
       "      <td>1610</td>\n",
       "      <td>Karnataka</td>\n",
       "      <td>2023-01-05</td>\n",
       "      <td>Truck</td>\n",
       "      <td>Delhi</td>\n",
       "      <td>63</td>\n",
       "      <td>Female</td>\n",
       "      <td>Four-Wheeler</td>\n",
       "      <td>Foggy</td>\n",
       "      <td>Potholes</td>\n",
       "      <td>OFF7147</td>\n",
       "      <td>Traffic Police</td>\n",
       "      <td>Valid</td>\n",
       "      <td>NaN</td>\n",
       "      <td>No</td>\n",
       "      <td>Red</td>\n",
       "      <td>30</td>\n",
       "      <td>115</td>\n",
       "      <td>0.28</td>\n",
       "      <td>Yes</td>\n",
       "      <td>0</td>\n",
       "      <td>2023</td>\n",
       "    </tr>\n",
       "  </tbody>\n",
       "</table>\n",
       "</div>"
      ],
      "text/plain": [
       "            Violation_Type  Fine_Amount       Location        Date  \\\n",
       "0              Overloading         4544      Karnataka  2023-01-01   \n",
       "1  Driving Without License         2776         Punjab  2023-01-02   \n",
       "2       Using Mobile Phone         4785    Maharashtra  2023-01-03   \n",
       "3              No Seatbelt         1138  Uttar Pradesh  2023-01-04   \n",
       "4            Over-speeding         1610      Karnataka  2023-01-05   \n",
       "\n",
       "  Vehicle_Type Registration_State  Driver_Age Driver_Gender  License_Type  \\\n",
       "0          Car        West Bengal          25          Male    Commercial   \n",
       "1      Scooter         Tamil Nadu          32        Female    Commercial   \n",
       "2      Scooter         Tamil Nadu          67        Female   Two-Wheeler   \n",
       "3          Car      Uttar Pradesh          46          Male       Learner   \n",
       "4        Truck              Delhi          63        Female  Four-Wheeler   \n",
       "\n",
       "  Weather_Condition Road_Condition Officer_ID  Issuing_Agency  \\\n",
       "0            Cloudy       Slippery    OFF9971    Local Police   \n",
       "1             Rainy            Dry    OFF6000  Highway Patrol   \n",
       "2             Clear       Potholes    OFF5706    Local Police   \n",
       "3             Rainy            Wet    OFF5575  Highway Patrol   \n",
       "4             Foggy       Potholes    OFF7147  Traffic Police   \n",
       "\n",
       "  License_Validity Helmet_Worn Seatbelt_Worn Traffic_Light_Status  \\\n",
       "0            Valid         NaN           Yes                Green   \n",
       "1            Valid         NaN            No                Green   \n",
       "2            Valid         Yes           Yes               Yellow   \n",
       "3            Valid          No            No                Green   \n",
       "4            Valid         NaN            No                  Red   \n",
       "\n",
       "   Speed_Limit  Recorded_Speed  Alcohol_Level Court_Appearance_Required  \\\n",
       "0          100              95           0.03                       Yes   \n",
       "1           40              48           0.45                        No   \n",
       "2           80              26           0.31                       Yes   \n",
       "3          100             115           0.09                        No   \n",
       "4           30             115           0.28                       Yes   \n",
       "\n",
       "   Previous_Violations  Year  \n",
       "0                    3  2023  \n",
       "1                    2  2023  \n",
       "2                    4  2023  \n",
       "3                    5  2023  \n",
       "4                    0  2023  "
      ]
     },
     "execution_count": 27,
     "metadata": {},
     "output_type": "execute_result"
    }
   ],
   "source": [
    "df.head()"
   ]
  },
  {
   "cell_type": "code",
   "execution_count": 28,
   "metadata": {},
   "outputs": [],
   "source": [
    "df=df.drop(columns=\"Date\")\n"
   ]
  },
  {
   "cell_type": "code",
   "execution_count": 29,
   "metadata": {},
   "outputs": [
    {
     "data": {
      "text/html": [
       "<div>\n",
       "<style scoped>\n",
       "    .dataframe tbody tr th:only-of-type {\n",
       "        vertical-align: middle;\n",
       "    }\n",
       "\n",
       "    .dataframe tbody tr th {\n",
       "        vertical-align: top;\n",
       "    }\n",
       "\n",
       "    .dataframe thead th {\n",
       "        text-align: right;\n",
       "    }\n",
       "</style>\n",
       "<table border=\"1\" class=\"dataframe\">\n",
       "  <thead>\n",
       "    <tr style=\"text-align: right;\">\n",
       "      <th></th>\n",
       "      <th>Violation_Type</th>\n",
       "      <th>Fine_Amount</th>\n",
       "      <th>Location</th>\n",
       "      <th>Vehicle_Type</th>\n",
       "      <th>Registration_State</th>\n",
       "      <th>Driver_Age</th>\n",
       "      <th>Driver_Gender</th>\n",
       "      <th>License_Type</th>\n",
       "      <th>Weather_Condition</th>\n",
       "      <th>Road_Condition</th>\n",
       "      <th>Officer_ID</th>\n",
       "      <th>Issuing_Agency</th>\n",
       "      <th>License_Validity</th>\n",
       "      <th>Helmet_Worn</th>\n",
       "      <th>Seatbelt_Worn</th>\n",
       "      <th>Traffic_Light_Status</th>\n",
       "      <th>Speed_Limit</th>\n",
       "      <th>Recorded_Speed</th>\n",
       "      <th>Alcohol_Level</th>\n",
       "      <th>Court_Appearance_Required</th>\n",
       "      <th>Previous_Violations</th>\n",
       "      <th>Year</th>\n",
       "    </tr>\n",
       "  </thead>\n",
       "  <tbody>\n",
       "    <tr>\n",
       "      <th>0</th>\n",
       "      <td>Overloading</td>\n",
       "      <td>4544</td>\n",
       "      <td>Karnataka</td>\n",
       "      <td>Car</td>\n",
       "      <td>West Bengal</td>\n",
       "      <td>25</td>\n",
       "      <td>Male</td>\n",
       "      <td>Commercial</td>\n",
       "      <td>Cloudy</td>\n",
       "      <td>Slippery</td>\n",
       "      <td>OFF9971</td>\n",
       "      <td>Local Police</td>\n",
       "      <td>Valid</td>\n",
       "      <td>NaN</td>\n",
       "      <td>Yes</td>\n",
       "      <td>Green</td>\n",
       "      <td>100</td>\n",
       "      <td>95</td>\n",
       "      <td>0.03</td>\n",
       "      <td>Yes</td>\n",
       "      <td>3</td>\n",
       "      <td>2023</td>\n",
       "    </tr>\n",
       "    <tr>\n",
       "      <th>1</th>\n",
       "      <td>Driving Without License</td>\n",
       "      <td>2776</td>\n",
       "      <td>Punjab</td>\n",
       "      <td>Scooter</td>\n",
       "      <td>Tamil Nadu</td>\n",
       "      <td>32</td>\n",
       "      <td>Female</td>\n",
       "      <td>Commercial</td>\n",
       "      <td>Rainy</td>\n",
       "      <td>Dry</td>\n",
       "      <td>OFF6000</td>\n",
       "      <td>Highway Patrol</td>\n",
       "      <td>Valid</td>\n",
       "      <td>NaN</td>\n",
       "      <td>No</td>\n",
       "      <td>Green</td>\n",
       "      <td>40</td>\n",
       "      <td>48</td>\n",
       "      <td>0.45</td>\n",
       "      <td>No</td>\n",
       "      <td>2</td>\n",
       "      <td>2023</td>\n",
       "    </tr>\n",
       "    <tr>\n",
       "      <th>2</th>\n",
       "      <td>Using Mobile Phone</td>\n",
       "      <td>4785</td>\n",
       "      <td>Maharashtra</td>\n",
       "      <td>Scooter</td>\n",
       "      <td>Tamil Nadu</td>\n",
       "      <td>67</td>\n",
       "      <td>Female</td>\n",
       "      <td>Two-Wheeler</td>\n",
       "      <td>Clear</td>\n",
       "      <td>Potholes</td>\n",
       "      <td>OFF5706</td>\n",
       "      <td>Local Police</td>\n",
       "      <td>Valid</td>\n",
       "      <td>Yes</td>\n",
       "      <td>Yes</td>\n",
       "      <td>Yellow</td>\n",
       "      <td>80</td>\n",
       "      <td>26</td>\n",
       "      <td>0.31</td>\n",
       "      <td>Yes</td>\n",
       "      <td>4</td>\n",
       "      <td>2023</td>\n",
       "    </tr>\n",
       "    <tr>\n",
       "      <th>3</th>\n",
       "      <td>No Seatbelt</td>\n",
       "      <td>1138</td>\n",
       "      <td>Uttar Pradesh</td>\n",
       "      <td>Car</td>\n",
       "      <td>Uttar Pradesh</td>\n",
       "      <td>46</td>\n",
       "      <td>Male</td>\n",
       "      <td>Learner</td>\n",
       "      <td>Rainy</td>\n",
       "      <td>Wet</td>\n",
       "      <td>OFF5575</td>\n",
       "      <td>Highway Patrol</td>\n",
       "      <td>Valid</td>\n",
       "      <td>No</td>\n",
       "      <td>No</td>\n",
       "      <td>Green</td>\n",
       "      <td>100</td>\n",
       "      <td>115</td>\n",
       "      <td>0.09</td>\n",
       "      <td>No</td>\n",
       "      <td>5</td>\n",
       "      <td>2023</td>\n",
       "    </tr>\n",
       "    <tr>\n",
       "      <th>4</th>\n",
       "      <td>Over-speeding</td>\n",
       "      <td>1610</td>\n",
       "      <td>Karnataka</td>\n",
       "      <td>Truck</td>\n",
       "      <td>Delhi</td>\n",
       "      <td>63</td>\n",
       "      <td>Female</td>\n",
       "      <td>Four-Wheeler</td>\n",
       "      <td>Foggy</td>\n",
       "      <td>Potholes</td>\n",
       "      <td>OFF7147</td>\n",
       "      <td>Traffic Police</td>\n",
       "      <td>Valid</td>\n",
       "      <td>NaN</td>\n",
       "      <td>No</td>\n",
       "      <td>Red</td>\n",
       "      <td>30</td>\n",
       "      <td>115</td>\n",
       "      <td>0.28</td>\n",
       "      <td>Yes</td>\n",
       "      <td>0</td>\n",
       "      <td>2023</td>\n",
       "    </tr>\n",
       "  </tbody>\n",
       "</table>\n",
       "</div>"
      ],
      "text/plain": [
       "            Violation_Type  Fine_Amount       Location Vehicle_Type  \\\n",
       "0              Overloading         4544      Karnataka          Car   \n",
       "1  Driving Without License         2776         Punjab      Scooter   \n",
       "2       Using Mobile Phone         4785    Maharashtra      Scooter   \n",
       "3              No Seatbelt         1138  Uttar Pradesh          Car   \n",
       "4            Over-speeding         1610      Karnataka        Truck   \n",
       "\n",
       "  Registration_State  Driver_Age Driver_Gender  License_Type  \\\n",
       "0        West Bengal          25          Male    Commercial   \n",
       "1         Tamil Nadu          32        Female    Commercial   \n",
       "2         Tamil Nadu          67        Female   Two-Wheeler   \n",
       "3      Uttar Pradesh          46          Male       Learner   \n",
       "4              Delhi          63        Female  Four-Wheeler   \n",
       "\n",
       "  Weather_Condition Road_Condition Officer_ID  Issuing_Agency  \\\n",
       "0            Cloudy       Slippery    OFF9971    Local Police   \n",
       "1             Rainy            Dry    OFF6000  Highway Patrol   \n",
       "2             Clear       Potholes    OFF5706    Local Police   \n",
       "3             Rainy            Wet    OFF5575  Highway Patrol   \n",
       "4             Foggy       Potholes    OFF7147  Traffic Police   \n",
       "\n",
       "  License_Validity Helmet_Worn Seatbelt_Worn Traffic_Light_Status  \\\n",
       "0            Valid         NaN           Yes                Green   \n",
       "1            Valid         NaN            No                Green   \n",
       "2            Valid         Yes           Yes               Yellow   \n",
       "3            Valid          No            No                Green   \n",
       "4            Valid         NaN            No                  Red   \n",
       "\n",
       "   Speed_Limit  Recorded_Speed  Alcohol_Level Court_Appearance_Required  \\\n",
       "0          100              95           0.03                       Yes   \n",
       "1           40              48           0.45                        No   \n",
       "2           80              26           0.31                       Yes   \n",
       "3          100             115           0.09                        No   \n",
       "4           30             115           0.28                       Yes   \n",
       "\n",
       "   Previous_Violations  Year  \n",
       "0                    3  2023  \n",
       "1                    2  2023  \n",
       "2                    4  2023  \n",
       "3                    5  2023  \n",
       "4                    0  2023  "
      ]
     },
     "execution_count": 29,
     "metadata": {},
     "output_type": "execute_result"
    }
   ],
   "source": [
    "df.head()"
   ]
  },
  {
   "cell_type": "code",
   "execution_count": 30,
   "metadata": {},
   "outputs": [
    {
     "data": {
      "text/html": [
       "<div>\n",
       "<style scoped>\n",
       "    .dataframe tbody tr th:only-of-type {\n",
       "        vertical-align: middle;\n",
       "    }\n",
       "\n",
       "    .dataframe tbody tr th {\n",
       "        vertical-align: top;\n",
       "    }\n",
       "\n",
       "    .dataframe thead th {\n",
       "        text-align: right;\n",
       "    }\n",
       "</style>\n",
       "<table border=\"1\" class=\"dataframe\">\n",
       "  <thead>\n",
       "    <tr style=\"text-align: right;\">\n",
       "      <th></th>\n",
       "      <th>License_Validity</th>\n",
       "      <th>count</th>\n",
       "    </tr>\n",
       "  </thead>\n",
       "  <tbody>\n",
       "    <tr>\n",
       "      <th>0</th>\n",
       "      <td>Suspended</td>\n",
       "      <td>1371</td>\n",
       "    </tr>\n",
       "    <tr>\n",
       "      <th>1</th>\n",
       "      <td>Valid</td>\n",
       "      <td>1322</td>\n",
       "    </tr>\n",
       "    <tr>\n",
       "      <th>2</th>\n",
       "      <td>Expired</td>\n",
       "      <td>1307</td>\n",
       "    </tr>\n",
       "  </tbody>\n",
       "</table>\n",
       "</div>"
      ],
      "text/plain": [
       "  License_Validity  count\n",
       "0        Suspended   1371\n",
       "1            Valid   1322\n",
       "2          Expired   1307"
      ]
     },
     "execution_count": 30,
     "metadata": {},
     "output_type": "execute_result"
    }
   ],
   "source": [
    "license=pd.DataFrame(df.License_Validity.value_counts()).reset_index()\n",
    "license.columns = ['License_Validity', 'count']\n",
    "import plotly.express as px\n",
    "license"
   ]
  },
  {
   "cell_type": "code",
   "execution_count": 31,
   "metadata": {},
   "outputs": [
    {
     "data": {
      "application/vnd.plotly.v1+json": {
       "config": {
        "plotlyServerURL": "https://plot.ly"
       },
       "data": [
        {
         "hovertemplate": "count=%{x}<br>License_Validity=%{y}<extra></extra>",
         "legendgroup": "",
         "marker": {
          "color": "#636efa",
          "pattern": {
           "shape": ""
          }
         },
         "name": "",
         "orientation": "h",
         "showlegend": false,
         "textposition": "auto",
         "type": "bar",
         "x": {
          "bdata": "WwUqBRsF",
          "dtype": "i2"
         },
         "xaxis": "x",
         "y": [
          "Suspended",
          "Valid",
          "Expired"
         ],
         "yaxis": "y"
        }
       ],
       "layout": {
        "barmode": "relative",
        "height": 300,
        "legend": {
         "tracegroupgap": 0
        },
        "template": {
         "data": {
          "bar": [
           {
            "error_x": {
             "color": "#2a3f5f"
            },
            "error_y": {
             "color": "#2a3f5f"
            },
            "marker": {
             "line": {
              "color": "#E5ECF6",
              "width": 0.5
             },
             "pattern": {
              "fillmode": "overlay",
              "size": 10,
              "solidity": 0.2
             }
            },
            "type": "bar"
           }
          ],
          "barpolar": [
           {
            "marker": {
             "line": {
              "color": "#E5ECF6",
              "width": 0.5
             },
             "pattern": {
              "fillmode": "overlay",
              "size": 10,
              "solidity": 0.2
             }
            },
            "type": "barpolar"
           }
          ],
          "carpet": [
           {
            "aaxis": {
             "endlinecolor": "#2a3f5f",
             "gridcolor": "white",
             "linecolor": "white",
             "minorgridcolor": "white",
             "startlinecolor": "#2a3f5f"
            },
            "baxis": {
             "endlinecolor": "#2a3f5f",
             "gridcolor": "white",
             "linecolor": "white",
             "minorgridcolor": "white",
             "startlinecolor": "#2a3f5f"
            },
            "type": "carpet"
           }
          ],
          "choropleth": [
           {
            "colorbar": {
             "outlinewidth": 0,
             "ticks": ""
            },
            "type": "choropleth"
           }
          ],
          "contour": [
           {
            "colorbar": {
             "outlinewidth": 0,
             "ticks": ""
            },
            "colorscale": [
             [
              0,
              "#0d0887"
             ],
             [
              0.1111111111111111,
              "#46039f"
             ],
             [
              0.2222222222222222,
              "#7201a8"
             ],
             [
              0.3333333333333333,
              "#9c179e"
             ],
             [
              0.4444444444444444,
              "#bd3786"
             ],
             [
              0.5555555555555556,
              "#d8576b"
             ],
             [
              0.6666666666666666,
              "#ed7953"
             ],
             [
              0.7777777777777778,
              "#fb9f3a"
             ],
             [
              0.8888888888888888,
              "#fdca26"
             ],
             [
              1,
              "#f0f921"
             ]
            ],
            "type": "contour"
           }
          ],
          "contourcarpet": [
           {
            "colorbar": {
             "outlinewidth": 0,
             "ticks": ""
            },
            "type": "contourcarpet"
           }
          ],
          "heatmap": [
           {
            "colorbar": {
             "outlinewidth": 0,
             "ticks": ""
            },
            "colorscale": [
             [
              0,
              "#0d0887"
             ],
             [
              0.1111111111111111,
              "#46039f"
             ],
             [
              0.2222222222222222,
              "#7201a8"
             ],
             [
              0.3333333333333333,
              "#9c179e"
             ],
             [
              0.4444444444444444,
              "#bd3786"
             ],
             [
              0.5555555555555556,
              "#d8576b"
             ],
             [
              0.6666666666666666,
              "#ed7953"
             ],
             [
              0.7777777777777778,
              "#fb9f3a"
             ],
             [
              0.8888888888888888,
              "#fdca26"
             ],
             [
              1,
              "#f0f921"
             ]
            ],
            "type": "heatmap"
           }
          ],
          "histogram": [
           {
            "marker": {
             "pattern": {
              "fillmode": "overlay",
              "size": 10,
              "solidity": 0.2
             }
            },
            "type": "histogram"
           }
          ],
          "histogram2d": [
           {
            "colorbar": {
             "outlinewidth": 0,
             "ticks": ""
            },
            "colorscale": [
             [
              0,
              "#0d0887"
             ],
             [
              0.1111111111111111,
              "#46039f"
             ],
             [
              0.2222222222222222,
              "#7201a8"
             ],
             [
              0.3333333333333333,
              "#9c179e"
             ],
             [
              0.4444444444444444,
              "#bd3786"
             ],
             [
              0.5555555555555556,
              "#d8576b"
             ],
             [
              0.6666666666666666,
              "#ed7953"
             ],
             [
              0.7777777777777778,
              "#fb9f3a"
             ],
             [
              0.8888888888888888,
              "#fdca26"
             ],
             [
              1,
              "#f0f921"
             ]
            ],
            "type": "histogram2d"
           }
          ],
          "histogram2dcontour": [
           {
            "colorbar": {
             "outlinewidth": 0,
             "ticks": ""
            },
            "colorscale": [
             [
              0,
              "#0d0887"
             ],
             [
              0.1111111111111111,
              "#46039f"
             ],
             [
              0.2222222222222222,
              "#7201a8"
             ],
             [
              0.3333333333333333,
              "#9c179e"
             ],
             [
              0.4444444444444444,
              "#bd3786"
             ],
             [
              0.5555555555555556,
              "#d8576b"
             ],
             [
              0.6666666666666666,
              "#ed7953"
             ],
             [
              0.7777777777777778,
              "#fb9f3a"
             ],
             [
              0.8888888888888888,
              "#fdca26"
             ],
             [
              1,
              "#f0f921"
             ]
            ],
            "type": "histogram2dcontour"
           }
          ],
          "mesh3d": [
           {
            "colorbar": {
             "outlinewidth": 0,
             "ticks": ""
            },
            "type": "mesh3d"
           }
          ],
          "parcoords": [
           {
            "line": {
             "colorbar": {
              "outlinewidth": 0,
              "ticks": ""
             }
            },
            "type": "parcoords"
           }
          ],
          "pie": [
           {
            "automargin": true,
            "type": "pie"
           }
          ],
          "scatter": [
           {
            "fillpattern": {
             "fillmode": "overlay",
             "size": 10,
             "solidity": 0.2
            },
            "type": "scatter"
           }
          ],
          "scatter3d": [
           {
            "line": {
             "colorbar": {
              "outlinewidth": 0,
              "ticks": ""
             }
            },
            "marker": {
             "colorbar": {
              "outlinewidth": 0,
              "ticks": ""
             }
            },
            "type": "scatter3d"
           }
          ],
          "scattercarpet": [
           {
            "marker": {
             "colorbar": {
              "outlinewidth": 0,
              "ticks": ""
             }
            },
            "type": "scattercarpet"
           }
          ],
          "scattergeo": [
           {
            "marker": {
             "colorbar": {
              "outlinewidth": 0,
              "ticks": ""
             }
            },
            "type": "scattergeo"
           }
          ],
          "scattergl": [
           {
            "marker": {
             "colorbar": {
              "outlinewidth": 0,
              "ticks": ""
             }
            },
            "type": "scattergl"
           }
          ],
          "scattermap": [
           {
            "marker": {
             "colorbar": {
              "outlinewidth": 0,
              "ticks": ""
             }
            },
            "type": "scattermap"
           }
          ],
          "scattermapbox": [
           {
            "marker": {
             "colorbar": {
              "outlinewidth": 0,
              "ticks": ""
             }
            },
            "type": "scattermapbox"
           }
          ],
          "scatterpolar": [
           {
            "marker": {
             "colorbar": {
              "outlinewidth": 0,
              "ticks": ""
             }
            },
            "type": "scatterpolar"
           }
          ],
          "scatterpolargl": [
           {
            "marker": {
             "colorbar": {
              "outlinewidth": 0,
              "ticks": ""
             }
            },
            "type": "scatterpolargl"
           }
          ],
          "scatterternary": [
           {
            "marker": {
             "colorbar": {
              "outlinewidth": 0,
              "ticks": ""
             }
            },
            "type": "scatterternary"
           }
          ],
          "surface": [
           {
            "colorbar": {
             "outlinewidth": 0,
             "ticks": ""
            },
            "colorscale": [
             [
              0,
              "#0d0887"
             ],
             [
              0.1111111111111111,
              "#46039f"
             ],
             [
              0.2222222222222222,
              "#7201a8"
             ],
             [
              0.3333333333333333,
              "#9c179e"
             ],
             [
              0.4444444444444444,
              "#bd3786"
             ],
             [
              0.5555555555555556,
              "#d8576b"
             ],
             [
              0.6666666666666666,
              "#ed7953"
             ],
             [
              0.7777777777777778,
              "#fb9f3a"
             ],
             [
              0.8888888888888888,
              "#fdca26"
             ],
             [
              1,
              "#f0f921"
             ]
            ],
            "type": "surface"
           }
          ],
          "table": [
           {
            "cells": {
             "fill": {
              "color": "#EBF0F8"
             },
             "line": {
              "color": "white"
             }
            },
            "header": {
             "fill": {
              "color": "#C8D4E3"
             },
             "line": {
              "color": "white"
             }
            },
            "type": "table"
           }
          ]
         },
         "layout": {
          "annotationdefaults": {
           "arrowcolor": "#2a3f5f",
           "arrowhead": 0,
           "arrowwidth": 1
          },
          "autotypenumbers": "strict",
          "coloraxis": {
           "colorbar": {
            "outlinewidth": 0,
            "ticks": ""
           }
          },
          "colorscale": {
           "diverging": [
            [
             0,
             "#8e0152"
            ],
            [
             0.1,
             "#c51b7d"
            ],
            [
             0.2,
             "#de77ae"
            ],
            [
             0.3,
             "#f1b6da"
            ],
            [
             0.4,
             "#fde0ef"
            ],
            [
             0.5,
             "#f7f7f7"
            ],
            [
             0.6,
             "#e6f5d0"
            ],
            [
             0.7,
             "#b8e186"
            ],
            [
             0.8,
             "#7fbc41"
            ],
            [
             0.9,
             "#4d9221"
            ],
            [
             1,
             "#276419"
            ]
           ],
           "sequential": [
            [
             0,
             "#0d0887"
            ],
            [
             0.1111111111111111,
             "#46039f"
            ],
            [
             0.2222222222222222,
             "#7201a8"
            ],
            [
             0.3333333333333333,
             "#9c179e"
            ],
            [
             0.4444444444444444,
             "#bd3786"
            ],
            [
             0.5555555555555556,
             "#d8576b"
            ],
            [
             0.6666666666666666,
             "#ed7953"
            ],
            [
             0.7777777777777778,
             "#fb9f3a"
            ],
            [
             0.8888888888888888,
             "#fdca26"
            ],
            [
             1,
             "#f0f921"
            ]
           ],
           "sequentialminus": [
            [
             0,
             "#0d0887"
            ],
            [
             0.1111111111111111,
             "#46039f"
            ],
            [
             0.2222222222222222,
             "#7201a8"
            ],
            [
             0.3333333333333333,
             "#9c179e"
            ],
            [
             0.4444444444444444,
             "#bd3786"
            ],
            [
             0.5555555555555556,
             "#d8576b"
            ],
            [
             0.6666666666666666,
             "#ed7953"
            ],
            [
             0.7777777777777778,
             "#fb9f3a"
            ],
            [
             0.8888888888888888,
             "#fdca26"
            ],
            [
             1,
             "#f0f921"
            ]
           ]
          },
          "colorway": [
           "#636efa",
           "#EF553B",
           "#00cc96",
           "#ab63fa",
           "#FFA15A",
           "#19d3f3",
           "#FF6692",
           "#B6E880",
           "#FF97FF",
           "#FECB52"
          ],
          "font": {
           "color": "#2a3f5f"
          },
          "geo": {
           "bgcolor": "white",
           "lakecolor": "white",
           "landcolor": "#E5ECF6",
           "showlakes": true,
           "showland": true,
           "subunitcolor": "white"
          },
          "hoverlabel": {
           "align": "left"
          },
          "hovermode": "closest",
          "mapbox": {
           "style": "light"
          },
          "paper_bgcolor": "white",
          "plot_bgcolor": "#E5ECF6",
          "polar": {
           "angularaxis": {
            "gridcolor": "white",
            "linecolor": "white",
            "ticks": ""
           },
           "bgcolor": "#E5ECF6",
           "radialaxis": {
            "gridcolor": "white",
            "linecolor": "white",
            "ticks": ""
           }
          },
          "scene": {
           "xaxis": {
            "backgroundcolor": "#E5ECF6",
            "gridcolor": "white",
            "gridwidth": 2,
            "linecolor": "white",
            "showbackground": true,
            "ticks": "",
            "zerolinecolor": "white"
           },
           "yaxis": {
            "backgroundcolor": "#E5ECF6",
            "gridcolor": "white",
            "gridwidth": 2,
            "linecolor": "white",
            "showbackground": true,
            "ticks": "",
            "zerolinecolor": "white"
           },
           "zaxis": {
            "backgroundcolor": "#E5ECF6",
            "gridcolor": "white",
            "gridwidth": 2,
            "linecolor": "white",
            "showbackground": true,
            "ticks": "",
            "zerolinecolor": "white"
           }
          },
          "shapedefaults": {
           "line": {
            "color": "#2a3f5f"
           }
          },
          "ternary": {
           "aaxis": {
            "gridcolor": "white",
            "linecolor": "white",
            "ticks": ""
           },
           "baxis": {
            "gridcolor": "white",
            "linecolor": "white",
            "ticks": ""
           },
           "bgcolor": "#E5ECF6",
           "caxis": {
            "gridcolor": "white",
            "linecolor": "white",
            "ticks": ""
           }
          },
          "title": {
           "x": 0.05
          },
          "xaxis": {
           "automargin": true,
           "gridcolor": "white",
           "linecolor": "white",
           "ticks": "",
           "title": {
            "standoff": 15
           },
           "zerolinecolor": "white",
           "zerolinewidth": 2
          },
          "yaxis": {
           "automargin": true,
           "gridcolor": "white",
           "linecolor": "white",
           "ticks": "",
           "title": {
            "standoff": 15
           },
           "zerolinecolor": "white",
           "zerolinewidth": 2
          }
         }
        },
        "title": {
         "text": "License Validity vs Count"
        },
        "width": 800,
        "xaxis": {
         "anchor": "y",
         "domain": [
          0,
          1
         ],
         "title": {
          "text": "Count"
         }
        },
        "yaxis": {
         "anchor": "x",
         "domain": [
          0,
          1
         ],
         "title": {
          "text": "license"
         }
        }
       }
      }
     },
     "metadata": {},
     "output_type": "display_data"
    }
   ],
   "source": [
    "\n",
    "fig = px.bar(license, y='License_Validity', x='count', title=\"License Validity vs Count\")\n",
    "fig.update_layout(\n",
    "    width=800, \n",
    "    height=300,\n",
    "    xaxis_title=\"Count\",\n",
    "    yaxis_title=\"license\"\n",
    ")\n"
   ]
  },
  {
   "cell_type": "code",
   "execution_count": 32,
   "metadata": {},
   "outputs": [
    {
     "data": {
      "text/plain": [
       "Alcoholic\n",
       "True     3960\n",
       "False      40\n",
       "Name: count, dtype: int64"
      ]
     },
     "execution_count": 32,
     "metadata": {},
     "output_type": "execute_result"
    }
   ],
   "source": [
    "df.Alcohol_Level.max()\n",
    "df.Alcohol_Level.min()\n",
    "df[\"Alcoholic\"]=df[\"Alcohol_Level\"]>0\n",
    "df.Alcoholic.value_counts()\n"
   ]
  },
  {
   "cell_type": "code",
   "execution_count": 33,
   "metadata": {},
   "outputs": [
    {
     "data": {
      "application/vnd.plotly.v1+json": {
       "config": {
        "plotlyServerURL": "https://plot.ly"
       },
       "data": [
        {
         "hovertemplate": "count=%{x}<br>Alcoholic=%{y}<extra></extra>",
         "legendgroup": "",
         "marker": {
          "color": "#636efa",
          "pattern": {
           "shape": ""
          }
         },
         "name": "",
         "orientation": "h",
         "showlegend": false,
         "textposition": "auto",
         "type": "bar",
         "x": {
          "bdata": "eA8oAA==",
          "dtype": "i2"
         },
         "xaxis": "x",
         "y": [
          true,
          false
         ],
         "yaxis": "y"
        }
       ],
       "layout": {
        "barmode": "relative",
        "legend": {
         "tracegroupgap": 0
        },
        "margin": {
         "t": 60
        },
        "template": {
         "data": {
          "bar": [
           {
            "error_x": {
             "color": "#2a3f5f"
            },
            "error_y": {
             "color": "#2a3f5f"
            },
            "marker": {
             "line": {
              "color": "#E5ECF6",
              "width": 0.5
             },
             "pattern": {
              "fillmode": "overlay",
              "size": 10,
              "solidity": 0.2
             }
            },
            "type": "bar"
           }
          ],
          "barpolar": [
           {
            "marker": {
             "line": {
              "color": "#E5ECF6",
              "width": 0.5
             },
             "pattern": {
              "fillmode": "overlay",
              "size": 10,
              "solidity": 0.2
             }
            },
            "type": "barpolar"
           }
          ],
          "carpet": [
           {
            "aaxis": {
             "endlinecolor": "#2a3f5f",
             "gridcolor": "white",
             "linecolor": "white",
             "minorgridcolor": "white",
             "startlinecolor": "#2a3f5f"
            },
            "baxis": {
             "endlinecolor": "#2a3f5f",
             "gridcolor": "white",
             "linecolor": "white",
             "minorgridcolor": "white",
             "startlinecolor": "#2a3f5f"
            },
            "type": "carpet"
           }
          ],
          "choropleth": [
           {
            "colorbar": {
             "outlinewidth": 0,
             "ticks": ""
            },
            "type": "choropleth"
           }
          ],
          "contour": [
           {
            "colorbar": {
             "outlinewidth": 0,
             "ticks": ""
            },
            "colorscale": [
             [
              0,
              "#0d0887"
             ],
             [
              0.1111111111111111,
              "#46039f"
             ],
             [
              0.2222222222222222,
              "#7201a8"
             ],
             [
              0.3333333333333333,
              "#9c179e"
             ],
             [
              0.4444444444444444,
              "#bd3786"
             ],
             [
              0.5555555555555556,
              "#d8576b"
             ],
             [
              0.6666666666666666,
              "#ed7953"
             ],
             [
              0.7777777777777778,
              "#fb9f3a"
             ],
             [
              0.8888888888888888,
              "#fdca26"
             ],
             [
              1,
              "#f0f921"
             ]
            ],
            "type": "contour"
           }
          ],
          "contourcarpet": [
           {
            "colorbar": {
             "outlinewidth": 0,
             "ticks": ""
            },
            "type": "contourcarpet"
           }
          ],
          "heatmap": [
           {
            "colorbar": {
             "outlinewidth": 0,
             "ticks": ""
            },
            "colorscale": [
             [
              0,
              "#0d0887"
             ],
             [
              0.1111111111111111,
              "#46039f"
             ],
             [
              0.2222222222222222,
              "#7201a8"
             ],
             [
              0.3333333333333333,
              "#9c179e"
             ],
             [
              0.4444444444444444,
              "#bd3786"
             ],
             [
              0.5555555555555556,
              "#d8576b"
             ],
             [
              0.6666666666666666,
              "#ed7953"
             ],
             [
              0.7777777777777778,
              "#fb9f3a"
             ],
             [
              0.8888888888888888,
              "#fdca26"
             ],
             [
              1,
              "#f0f921"
             ]
            ],
            "type": "heatmap"
           }
          ],
          "histogram": [
           {
            "marker": {
             "pattern": {
              "fillmode": "overlay",
              "size": 10,
              "solidity": 0.2
             }
            },
            "type": "histogram"
           }
          ],
          "histogram2d": [
           {
            "colorbar": {
             "outlinewidth": 0,
             "ticks": ""
            },
            "colorscale": [
             [
              0,
              "#0d0887"
             ],
             [
              0.1111111111111111,
              "#46039f"
             ],
             [
              0.2222222222222222,
              "#7201a8"
             ],
             [
              0.3333333333333333,
              "#9c179e"
             ],
             [
              0.4444444444444444,
              "#bd3786"
             ],
             [
              0.5555555555555556,
              "#d8576b"
             ],
             [
              0.6666666666666666,
              "#ed7953"
             ],
             [
              0.7777777777777778,
              "#fb9f3a"
             ],
             [
              0.8888888888888888,
              "#fdca26"
             ],
             [
              1,
              "#f0f921"
             ]
            ],
            "type": "histogram2d"
           }
          ],
          "histogram2dcontour": [
           {
            "colorbar": {
             "outlinewidth": 0,
             "ticks": ""
            },
            "colorscale": [
             [
              0,
              "#0d0887"
             ],
             [
              0.1111111111111111,
              "#46039f"
             ],
             [
              0.2222222222222222,
              "#7201a8"
             ],
             [
              0.3333333333333333,
              "#9c179e"
             ],
             [
              0.4444444444444444,
              "#bd3786"
             ],
             [
              0.5555555555555556,
              "#d8576b"
             ],
             [
              0.6666666666666666,
              "#ed7953"
             ],
             [
              0.7777777777777778,
              "#fb9f3a"
             ],
             [
              0.8888888888888888,
              "#fdca26"
             ],
             [
              1,
              "#f0f921"
             ]
            ],
            "type": "histogram2dcontour"
           }
          ],
          "mesh3d": [
           {
            "colorbar": {
             "outlinewidth": 0,
             "ticks": ""
            },
            "type": "mesh3d"
           }
          ],
          "parcoords": [
           {
            "line": {
             "colorbar": {
              "outlinewidth": 0,
              "ticks": ""
             }
            },
            "type": "parcoords"
           }
          ],
          "pie": [
           {
            "automargin": true,
            "type": "pie"
           }
          ],
          "scatter": [
           {
            "fillpattern": {
             "fillmode": "overlay",
             "size": 10,
             "solidity": 0.2
            },
            "type": "scatter"
           }
          ],
          "scatter3d": [
           {
            "line": {
             "colorbar": {
              "outlinewidth": 0,
              "ticks": ""
             }
            },
            "marker": {
             "colorbar": {
              "outlinewidth": 0,
              "ticks": ""
             }
            },
            "type": "scatter3d"
           }
          ],
          "scattercarpet": [
           {
            "marker": {
             "colorbar": {
              "outlinewidth": 0,
              "ticks": ""
             }
            },
            "type": "scattercarpet"
           }
          ],
          "scattergeo": [
           {
            "marker": {
             "colorbar": {
              "outlinewidth": 0,
              "ticks": ""
             }
            },
            "type": "scattergeo"
           }
          ],
          "scattergl": [
           {
            "marker": {
             "colorbar": {
              "outlinewidth": 0,
              "ticks": ""
             }
            },
            "type": "scattergl"
           }
          ],
          "scattermap": [
           {
            "marker": {
             "colorbar": {
              "outlinewidth": 0,
              "ticks": ""
             }
            },
            "type": "scattermap"
           }
          ],
          "scattermapbox": [
           {
            "marker": {
             "colorbar": {
              "outlinewidth": 0,
              "ticks": ""
             }
            },
            "type": "scattermapbox"
           }
          ],
          "scatterpolar": [
           {
            "marker": {
             "colorbar": {
              "outlinewidth": 0,
              "ticks": ""
             }
            },
            "type": "scatterpolar"
           }
          ],
          "scatterpolargl": [
           {
            "marker": {
             "colorbar": {
              "outlinewidth": 0,
              "ticks": ""
             }
            },
            "type": "scatterpolargl"
           }
          ],
          "scatterternary": [
           {
            "marker": {
             "colorbar": {
              "outlinewidth": 0,
              "ticks": ""
             }
            },
            "type": "scatterternary"
           }
          ],
          "surface": [
           {
            "colorbar": {
             "outlinewidth": 0,
             "ticks": ""
            },
            "colorscale": [
             [
              0,
              "#0d0887"
             ],
             [
              0.1111111111111111,
              "#46039f"
             ],
             [
              0.2222222222222222,
              "#7201a8"
             ],
             [
              0.3333333333333333,
              "#9c179e"
             ],
             [
              0.4444444444444444,
              "#bd3786"
             ],
             [
              0.5555555555555556,
              "#d8576b"
             ],
             [
              0.6666666666666666,
              "#ed7953"
             ],
             [
              0.7777777777777778,
              "#fb9f3a"
             ],
             [
              0.8888888888888888,
              "#fdca26"
             ],
             [
              1,
              "#f0f921"
             ]
            ],
            "type": "surface"
           }
          ],
          "table": [
           {
            "cells": {
             "fill": {
              "color": "#EBF0F8"
             },
             "line": {
              "color": "white"
             }
            },
            "header": {
             "fill": {
              "color": "#C8D4E3"
             },
             "line": {
              "color": "white"
             }
            },
            "type": "table"
           }
          ]
         },
         "layout": {
          "annotationdefaults": {
           "arrowcolor": "#2a3f5f",
           "arrowhead": 0,
           "arrowwidth": 1
          },
          "autotypenumbers": "strict",
          "coloraxis": {
           "colorbar": {
            "outlinewidth": 0,
            "ticks": ""
           }
          },
          "colorscale": {
           "diverging": [
            [
             0,
             "#8e0152"
            ],
            [
             0.1,
             "#c51b7d"
            ],
            [
             0.2,
             "#de77ae"
            ],
            [
             0.3,
             "#f1b6da"
            ],
            [
             0.4,
             "#fde0ef"
            ],
            [
             0.5,
             "#f7f7f7"
            ],
            [
             0.6,
             "#e6f5d0"
            ],
            [
             0.7,
             "#b8e186"
            ],
            [
             0.8,
             "#7fbc41"
            ],
            [
             0.9,
             "#4d9221"
            ],
            [
             1,
             "#276419"
            ]
           ],
           "sequential": [
            [
             0,
             "#0d0887"
            ],
            [
             0.1111111111111111,
             "#46039f"
            ],
            [
             0.2222222222222222,
             "#7201a8"
            ],
            [
             0.3333333333333333,
             "#9c179e"
            ],
            [
             0.4444444444444444,
             "#bd3786"
            ],
            [
             0.5555555555555556,
             "#d8576b"
            ],
            [
             0.6666666666666666,
             "#ed7953"
            ],
            [
             0.7777777777777778,
             "#fb9f3a"
            ],
            [
             0.8888888888888888,
             "#fdca26"
            ],
            [
             1,
             "#f0f921"
            ]
           ],
           "sequentialminus": [
            [
             0,
             "#0d0887"
            ],
            [
             0.1111111111111111,
             "#46039f"
            ],
            [
             0.2222222222222222,
             "#7201a8"
            ],
            [
             0.3333333333333333,
             "#9c179e"
            ],
            [
             0.4444444444444444,
             "#bd3786"
            ],
            [
             0.5555555555555556,
             "#d8576b"
            ],
            [
             0.6666666666666666,
             "#ed7953"
            ],
            [
             0.7777777777777778,
             "#fb9f3a"
            ],
            [
             0.8888888888888888,
             "#fdca26"
            ],
            [
             1,
             "#f0f921"
            ]
           ]
          },
          "colorway": [
           "#636efa",
           "#EF553B",
           "#00cc96",
           "#ab63fa",
           "#FFA15A",
           "#19d3f3",
           "#FF6692",
           "#B6E880",
           "#FF97FF",
           "#FECB52"
          ],
          "font": {
           "color": "#2a3f5f"
          },
          "geo": {
           "bgcolor": "white",
           "lakecolor": "white",
           "landcolor": "#E5ECF6",
           "showlakes": true,
           "showland": true,
           "subunitcolor": "white"
          },
          "hoverlabel": {
           "align": "left"
          },
          "hovermode": "closest",
          "mapbox": {
           "style": "light"
          },
          "paper_bgcolor": "white",
          "plot_bgcolor": "#E5ECF6",
          "polar": {
           "angularaxis": {
            "gridcolor": "white",
            "linecolor": "white",
            "ticks": ""
           },
           "bgcolor": "#E5ECF6",
           "radialaxis": {
            "gridcolor": "white",
            "linecolor": "white",
            "ticks": ""
           }
          },
          "scene": {
           "xaxis": {
            "backgroundcolor": "#E5ECF6",
            "gridcolor": "white",
            "gridwidth": 2,
            "linecolor": "white",
            "showbackground": true,
            "ticks": "",
            "zerolinecolor": "white"
           },
           "yaxis": {
            "backgroundcolor": "#E5ECF6",
            "gridcolor": "white",
            "gridwidth": 2,
            "linecolor": "white",
            "showbackground": true,
            "ticks": "",
            "zerolinecolor": "white"
           },
           "zaxis": {
            "backgroundcolor": "#E5ECF6",
            "gridcolor": "white",
            "gridwidth": 2,
            "linecolor": "white",
            "showbackground": true,
            "ticks": "",
            "zerolinecolor": "white"
           }
          },
          "shapedefaults": {
           "line": {
            "color": "#2a3f5f"
           }
          },
          "ternary": {
           "aaxis": {
            "gridcolor": "white",
            "linecolor": "white",
            "ticks": ""
           },
           "baxis": {
            "gridcolor": "white",
            "linecolor": "white",
            "ticks": ""
           },
           "bgcolor": "#E5ECF6",
           "caxis": {
            "gridcolor": "white",
            "linecolor": "white",
            "ticks": ""
           }
          },
          "title": {
           "x": 0.05
          },
          "xaxis": {
           "automargin": true,
           "gridcolor": "white",
           "linecolor": "white",
           "ticks": "",
           "title": {
            "standoff": 15
           },
           "zerolinecolor": "white",
           "zerolinewidth": 2
          },
          "yaxis": {
           "automargin": true,
           "gridcolor": "white",
           "linecolor": "white",
           "ticks": "",
           "title": {
            "standoff": 15
           },
           "zerolinecolor": "white",
           "zerolinewidth": 2
          }
         }
        },
        "title": {
         "text": "Representation of violents who are alcoholic and non alcoholic"
        },
        "xaxis": {
         "anchor": "y",
         "domain": [
          0,
          1
         ],
         "title": {
          "text": "Number of violents who are alcoholic"
         }
        },
        "yaxis": {
         "anchor": "x",
         "domain": [
          0,
          1
         ],
         "title": {
          "text": "True False based on alcoholic or not"
         }
        }
       }
      }
     },
     "metadata": {},
     "output_type": "display_data"
    }
   ],
   "source": [
    "\n",
    "\n",
    "df_1=df.Alcoholic.value_counts().reset_index()\n",
    "df_1.columns=[\"Alcoholic\",\"count\"]\n",
    "import plotly_express as px \n",
    "set_fig=px.bar(df_1,x=\"count\",y=\"Alcoholic\")\n",
    "set_fig.update_layout(xaxis_title=\"Number of violents who are alcoholic\",yaxis_title=\"True False based on alcoholic or not\",title=\"Representation of violents who are alcoholic and non alcoholic\")\n",
    "set_fig.show()"
   ]
  },
  {
   "cell_type": "code",
   "execution_count": 34,
   "metadata": {},
   "outputs": [
    {
     "data": {
      "text/plain": [
       "Index(['Violation_Type', 'Fine_Amount', 'Location', 'Vehicle_Type',\n",
       "       'Registration_State', 'Driver_Age', 'Driver_Gender', 'License_Type',\n",
       "       'Weather_Condition', 'Road_Condition', 'Officer_ID', 'Issuing_Agency',\n",
       "       'License_Validity', 'Helmet_Worn', 'Seatbelt_Worn',\n",
       "       'Traffic_Light_Status', 'Speed_Limit', 'Recorded_Speed',\n",
       "       'Alcohol_Level', 'Court_Appearance_Required', 'Previous_Violations',\n",
       "       'Year', 'Alcoholic', 'Overspeed', 'Overspeed_and_Alcoholic'],\n",
       "      dtype='object')"
      ]
     },
     "execution_count": 34,
     "metadata": {},
     "output_type": "execute_result"
    }
   ],
   "source": [
    "df[\"Overspeed\"]=df[\"Recorded_Speed\"]>df[\"Speed_Limit\"]\n",
    "df.head()\n",
    "df.Overspeed.value_counts()\n",
    "\n",
    "\n",
    "df[\"Overspeed_and_Alcoholic\"]=df[\"Overspeed\"] & df[\"Alcoholic\"]\n",
    "df.Overspeed_and_Alcoholic.value_counts()\n",
    "\n",
    "df.columns"
   ]
  },
  {
   "cell_type": "code",
   "execution_count": 35,
   "metadata": {},
   "outputs": [],
   "source": [
    "df_clean=df.drop([\"Vehicle_Type\",\"Registration_State\",\"Driver_Gender\",\"License_Type\",\"Weather_Condition\",\"Road_Condition\",\"Officer_ID\", 'Issuing_Agency',\n",
    "       'License_Validity', 'Helmet_Worn', 'Seatbelt_Worn',\n",
    "       'Traffic_Light_Status','Court_Appearance_Required', 'Previous_Violations',\n",
    "       'Year',\"Location\"],axis=1)"
   ]
  },
  {
   "cell_type": "code",
   "execution_count": 36,
   "metadata": {},
   "outputs": [],
   "source": [
    "def get_alcoholic(x):\n",
    "    if x==True:\n",
    "        return \"Yes\"\n",
    "    elif x==False:\n",
    "        return \"No\"\n",
    "    else:\n",
    "        return \"No\"\n",
    "\n",
    "df_clean[\"Alcoholic\"]=df_clean[\"Alcoholic\"].apply(lambda x:get_alcoholic(x))\n",
    "\n",
    "\n",
    "\n",
    "\n",
    "def get_overspeed(x):\n",
    "    if x==True:\n",
    "        return \"Yes\"\n",
    "    elif x==False:\n",
    "        return \"No\"\n",
    "    else:\n",
    "        return \"No\"\n",
    "\n",
    "df_clean[\"Overspeed\"]=df_clean[\"Overspeed\"].apply(lambda x:get_overspeed(x))\n",
    "\n",
    "def get_overspeednd(x):\n",
    "    if x==True:\n",
    "        return \"Yes\"\n",
    "    elif x==False:\n",
    "        return \"No\"\n",
    "    else:\n",
    "        return \"No\"\n",
    "\n",
    "df_clean[\"Overspeed_and_Alcoholic\"]=df_clean[\"Overspeed_and_Alcoholic\"].apply(lambda x:get_overspeednd(x))"
   ]
  },
  {
   "cell_type": "code",
   "execution_count": 37,
   "metadata": {},
   "outputs": [
    {
     "data": {
      "text/plain": [
       "(3200, 9)"
      ]
     },
     "execution_count": 37,
     "metadata": {},
     "output_type": "execute_result"
    }
   ],
   "source": [
    "from sklearn.model_selection import train_test_split\n",
    "\n",
    "train_df,test_df=train_test_split(df_clean,test_size=0.2)\n",
    "train_df.shape"
   ]
  },
  {
   "cell_type": "code",
   "execution_count": 38,
   "metadata": {},
   "outputs": [
    {
     "data": {
      "text/plain": [
       "<Axes: >"
      ]
     },
     "execution_count": 38,
     "metadata": {},
     "output_type": "execute_result"
    },
    {
     "data": {
      "image/png": "[encoded data removed]",
      "text/plain": [
       "<Figure size 640x480 with 2 Axes>"
      ]
     },
     "metadata": {},
     "output_type": "display_data"
    }
   ],
   "source": [
    "numerical_col=df_clean.select_dtypes(include=[\"number\"]).reset_index()\n",
    "catagorical_col=df_clean.select_dtypes('object').reset_index()\n",
    "sns.heatmap(numerical_col.corr(),cmap=\"Reds\",annot=True)"
   ]
  },
  {
   "cell_type": "code",
   "execution_count": 39,
   "metadata": {},
   "outputs": [
    {
     "name": "stdout",
     "output_type": "stream",
     "text": [
      "['Violation_Type', 'Fine_Amount', 'Driver_Age', 'Speed_Limit', 'Alcohol_Level', 'Alcoholic', 'Overspeed', 'Overspeed_and_Alcoholic']\n"
     ]
    },
    {
     "data": {
      "text/html": [
       "<div>\n",
       "<style scoped>\n",
       "    .dataframe tbody tr th:only-of-type {\n",
       "        vertical-align: middle;\n",
       "    }\n",
       "\n",
       "    .dataframe tbody tr th {\n",
       "        vertical-align: top;\n",
       "    }\n",
       "\n",
       "    .dataframe thead th {\n",
       "        text-align: right;\n",
       "    }\n",
       "</style>\n",
       "<table border=\"1\" class=\"dataframe\">\n",
       "  <thead>\n",
       "    <tr style=\"text-align: right;\">\n",
       "      <th></th>\n",
       "      <th>Violation_Type</th>\n",
       "      <th>Fine_Amount</th>\n",
       "      <th>Driver_Age</th>\n",
       "      <th>Speed_Limit</th>\n",
       "      <th>Recorded_Speed</th>\n",
       "      <th>Alcohol_Level</th>\n",
       "      <th>Alcoholic</th>\n",
       "      <th>Overspeed</th>\n",
       "      <th>Overspeed_and_Alcoholic</th>\n",
       "    </tr>\n",
       "  </thead>\n",
       "  <tbody>\n",
       "    <tr>\n",
       "      <th>0</th>\n",
       "      <td>Overloading</td>\n",
       "      <td>4544</td>\n",
       "      <td>25</td>\n",
       "      <td>100</td>\n",
       "      <td>95</td>\n",
       "      <td>0.03</td>\n",
       "      <td>Yes</td>\n",
       "      <td>No</td>\n",
       "      <td>No</td>\n",
       "    </tr>\n",
       "    <tr>\n",
       "      <th>1</th>\n",
       "      <td>Driving Without License</td>\n",
       "      <td>2776</td>\n",
       "      <td>32</td>\n",
       "      <td>40</td>\n",
       "      <td>48</td>\n",
       "      <td>0.45</td>\n",
       "      <td>Yes</td>\n",
       "      <td>Yes</td>\n",
       "      <td>Yes</td>\n",
       "    </tr>\n",
       "  </tbody>\n",
       "</table>\n",
       "</div>"
      ],
      "text/plain": [
       "            Violation_Type  Fine_Amount  Driver_Age  Speed_Limit  \\\n",
       "0              Overloading         4544          25          100   \n",
       "1  Driving Without License         2776          32           40   \n",
       "\n",
       "   Recorded_Speed  Alcohol_Level Alcoholic Overspeed Overspeed_and_Alcoholic  \n",
       "0              95           0.03       Yes        No                      No  \n",
       "1              48           0.45       Yes       Yes                     Yes  "
      ]
     },
     "execution_count": 39,
     "metadata": {},
     "output_type": "execute_result"
    }
   ],
   "source": [
    "#Lets select the target columns and input columns\n",
    "input_col = list(train_df.columns)\n",
    "input_col = [col for i, col in enumerate(input_col) if i != 4]\n",
    "print(input_col)\n",
    "\n",
    "target_col=\"Recorded_Speed\"\n",
    "df_clean.head(2)"
   ]
  },
  {
   "cell_type": "code",
   "execution_count": 40,
   "metadata": {},
   "outputs": [],
   "source": [
    "train_inputs=train_df[input_col].copy()\n",
    "train_target=train_df[target_col].copy()"
   ]
  },
  {
   "cell_type": "code",
   "execution_count": 41,
   "metadata": {},
   "outputs": [
    {
     "data": {
      "text/plain": [
       "pandas.core.series.Series"
      ]
     },
     "execution_count": 41,
     "metadata": {},
     "output_type": "execute_result"
    }
   ],
   "source": [
    "type(train_target)"
   ]
  },
  {
   "cell_type": "code",
   "execution_count": 42,
   "metadata": {},
   "outputs": [],
   "source": [
    "#Convert_colomns to numeric dataframe \n",
    "numeric_col1=train_df.select_dtypes(include=[\"number\"])\n",
    "catagorical_column1=train_inputs.select_dtypes('object')"
   ]
  },
  {
   "cell_type": "code",
   "execution_count": 43,
   "metadata": {},
   "outputs": [
    {
     "data": {
      "text/plain": [
       "['Fine_Amount', 'Driver_Age', 'Speed_Limit', 'Recorded_Speed', 'Alcohol_Level']"
      ]
     },
     "execution_count": 43,
     "metadata": {},
     "output_type": "execute_result"
    }
   ],
   "source": [
    "numeric_col1.describe()\n",
    "numeric_col_final=list(numeric_col1)\n",
    "numeric_col_final"
   ]
  },
  {
   "cell_type": "code",
   "execution_count": 44,
   "metadata": {},
   "outputs": [
    {
     "data": {
      "text/html": [
       "<div>\n",
       "<style scoped>\n",
       "    .dataframe tbody tr th:only-of-type {\n",
       "        vertical-align: middle;\n",
       "    }\n",
       "\n",
       "    .dataframe tbody tr th {\n",
       "        vertical-align: top;\n",
       "    }\n",
       "\n",
       "    .dataframe thead th {\n",
       "        text-align: right;\n",
       "    }\n",
       "</style>\n",
       "<table border=\"1\" class=\"dataframe\">\n",
       "  <thead>\n",
       "    <tr style=\"text-align: right;\">\n",
       "      <th></th>\n",
       "      <th>Violation_Type</th>\n",
       "      <th>Alcoholic</th>\n",
       "      <th>Overspeed</th>\n",
       "      <th>Overspeed_and_Alcoholic</th>\n",
       "    </tr>\n",
       "  </thead>\n",
       "  <tbody>\n",
       "    <tr>\n",
       "      <th>count</th>\n",
       "      <td>3200</td>\n",
       "      <td>3200</td>\n",
       "      <td>3200</td>\n",
       "      <td>3200</td>\n",
       "    </tr>\n",
       "    <tr>\n",
       "      <th>unique</th>\n",
       "      <td>9</td>\n",
       "      <td>2</td>\n",
       "      <td>2</td>\n",
       "      <td>2</td>\n",
       "    </tr>\n",
       "    <tr>\n",
       "      <th>top</th>\n",
       "      <td>Drunk Driving</td>\n",
       "      <td>Yes</td>\n",
       "      <td>Yes</td>\n",
       "      <td>Yes</td>\n",
       "    </tr>\n",
       "    <tr>\n",
       "      <th>freq</th>\n",
       "      <td>382</td>\n",
       "      <td>3167</td>\n",
       "      <td>1874</td>\n",
       "      <td>1853</td>\n",
       "    </tr>\n",
       "  </tbody>\n",
       "</table>\n",
       "</div>"
      ],
      "text/plain": [
       "       Violation_Type Alcoholic Overspeed Overspeed_and_Alcoholic\n",
       "count            3200      3200      3200                    3200\n",
       "unique              9         2         2                       2\n",
       "top     Drunk Driving       Yes       Yes                     Yes\n",
       "freq              382      3167      1874                    1853"
      ]
     },
     "execution_count": 44,
     "metadata": {},
     "output_type": "execute_result"
    }
   ],
   "source": [
    "catagorical_col=list(catagorical_column1)\n",
    "train_df[catagorical_col].describe()"
   ]
  },
  {
   "cell_type": "code",
   "execution_count": 45,
   "metadata": {},
   "outputs": [
    {
     "data": {
      "text/plain": [
       "array(['Using Mobile Phone', 'No Helmet', 'Signal Jumping', 'No Seatbelt',\n",
       "       'Driving Without License', 'Drunk Driving', 'Over-speeding',\n",
       "       'Overloading', 'Wrong Parking'], dtype=object)"
      ]
     },
     "execution_count": 45,
     "metadata": {},
     "output_type": "execute_result"
    }
   ],
   "source": [
    "train_df[catagorical_col].Violation_Type.unique()\n"
   ]
  },
  {
   "cell_type": "code",
   "execution_count": 46,
   "metadata": {},
   "outputs": [
    {
     "data": {
      "text/html": [
       "<div>\n",
       "<style scoped>\n",
       "    .dataframe tbody tr th:only-of-type {\n",
       "        vertical-align: middle;\n",
       "    }\n",
       "\n",
       "    .dataframe tbody tr th {\n",
       "        vertical-align: top;\n",
       "    }\n",
       "\n",
       "    .dataframe thead th {\n",
       "        text-align: right;\n",
       "    }\n",
       "</style>\n",
       "<table border=\"1\" class=\"dataframe\">\n",
       "  <thead>\n",
       "    <tr style=\"text-align: right;\">\n",
       "      <th></th>\n",
       "      <th>index</th>\n",
       "      <th>Recorded_Speed</th>\n",
       "    </tr>\n",
       "  </thead>\n",
       "  <tbody>\n",
       "    <tr>\n",
       "      <th>0</th>\n",
       "      <td>72</td>\n",
       "      <td>77</td>\n",
       "    </tr>\n",
       "    <tr>\n",
       "      <th>1</th>\n",
       "      <td>2811</td>\n",
       "      <td>60</td>\n",
       "    </tr>\n",
       "    <tr>\n",
       "      <th>2</th>\n",
       "      <td>836</td>\n",
       "      <td>61</td>\n",
       "    </tr>\n",
       "    <tr>\n",
       "      <th>3</th>\n",
       "      <td>3183</td>\n",
       "      <td>88</td>\n",
       "    </tr>\n",
       "    <tr>\n",
       "      <th>4</th>\n",
       "      <td>3181</td>\n",
       "      <td>71</td>\n",
       "    </tr>\n",
       "    <tr>\n",
       "      <th>...</th>\n",
       "      <td>...</td>\n",
       "      <td>...</td>\n",
       "    </tr>\n",
       "    <tr>\n",
       "      <th>3195</th>\n",
       "      <td>3654</td>\n",
       "      <td>26</td>\n",
       "    </tr>\n",
       "    <tr>\n",
       "      <th>3196</th>\n",
       "      <td>3491</td>\n",
       "      <td>68</td>\n",
       "    </tr>\n",
       "    <tr>\n",
       "      <th>3197</th>\n",
       "      <td>3077</td>\n",
       "      <td>41</td>\n",
       "    </tr>\n",
       "    <tr>\n",
       "      <th>3198</th>\n",
       "      <td>1440</td>\n",
       "      <td>38</td>\n",
       "    </tr>\n",
       "    <tr>\n",
       "      <th>3199</th>\n",
       "      <td>1046</td>\n",
       "      <td>48</td>\n",
       "    </tr>\n",
       "  </tbody>\n",
       "</table>\n",
       "<p>3200 rows × 2 columns</p>\n",
       "</div>"
      ],
      "text/plain": [
       "      index  Recorded_Speed\n",
       "0        72              77\n",
       "1      2811              60\n",
       "2       836              61\n",
       "3      3183              88\n",
       "4      3181              71\n",
       "...     ...             ...\n",
       "3195   3654              26\n",
       "3196   3491              68\n",
       "3197   3077              41\n",
       "3198   1440              38\n",
       "3199   1046              48\n",
       "\n",
       "[3200 rows x 2 columns]"
      ]
     },
     "execution_count": 46,
     "metadata": {},
     "output_type": "execute_result"
    }
   ],
   "source": [
    "train_df.reset_index()\n",
    "train_inputs.reset_index()\n",
    "train_target.reset_index()"
   ]
  },
  {
   "cell_type": "code",
   "execution_count": 47,
   "metadata": {},
   "outputs": [
    {
     "data": {
      "text/plain": [
       "Fine_Amount       0\n",
       "Driver_Age        0\n",
       "Speed_Limit       0\n",
       "Recorded_Speed    0\n",
       "Alcohol_Level     0\n",
       "dtype: int64"
      ]
     },
     "execution_count": 47,
     "metadata": {},
     "output_type": "execute_result"
    }
   ],
   "source": [
    "#Lets train the dataseries\n",
    "#Replacing nun values with mean we will use imputer for this \n",
    "\n",
    "from sklearn.impute import SimpleImputer\n",
    "\n",
    "imputer=SimpleImputer(strategy=\"mean\")\n",
    "\n",
    "numerical_col=list(numeric_col_final)\n",
    "df_clean[numeric_col_final].isna().sum()"
   ]
  },
  {
   "cell_type": "code",
   "execution_count": 48,
   "metadata": {},
   "outputs": [
    {
     "data": {
      "text/plain": [
       "[np.float64(2529.82125),\n",
       " np.float64(46.658),\n",
       " np.float64(59.8175),\n",
       " np.float64(69.479),\n",
       " np.float64(0.2514075)]"
      ]
     },
     "execution_count": 48,
     "metadata": {},
     "output_type": "execute_result"
    }
   ],
   "source": [
    "imputer.fit(df_clean[numeric_col_final])\n",
    "list(imputer.statistics_)"
   ]
  },
  {
   "cell_type": "code",
   "execution_count": 49,
   "metadata": {},
   "outputs": [
    {
     "data": {
      "text/html": [
       "<div>\n",
       "<style scoped>\n",
       "    .dataframe tbody tr th:only-of-type {\n",
       "        vertical-align: middle;\n",
       "    }\n",
       "\n",
       "    .dataframe tbody tr th {\n",
       "        vertical-align: top;\n",
       "    }\n",
       "\n",
       "    .dataframe thead th {\n",
       "        text-align: right;\n",
       "    }\n",
       "</style>\n",
       "<table border=\"1\" class=\"dataframe\">\n",
       "  <thead>\n",
       "    <tr style=\"text-align: right;\">\n",
       "      <th></th>\n",
       "      <th>Fine_Amount</th>\n",
       "      <th>Driver_Age</th>\n",
       "      <th>Speed_Limit</th>\n",
       "      <th>Recorded_Speed</th>\n",
       "      <th>Alcohol_Level</th>\n",
       "    </tr>\n",
       "  </thead>\n",
       "  <tbody>\n",
       "    <tr>\n",
       "      <th>count</th>\n",
       "      <td>3200.000000</td>\n",
       "      <td>3200.000000</td>\n",
       "      <td>3200.000000</td>\n",
       "      <td>3200.000000</td>\n",
       "      <td>3200.000000</td>\n",
       "    </tr>\n",
       "    <tr>\n",
       "      <th>mean</th>\n",
       "      <td>2525.704688</td>\n",
       "      <td>46.477812</td>\n",
       "      <td>59.775000</td>\n",
       "      <td>69.167812</td>\n",
       "      <td>0.251575</td>\n",
       "    </tr>\n",
       "    <tr>\n",
       "      <th>std</th>\n",
       "      <td>1415.362995</td>\n",
       "      <td>16.881049</td>\n",
       "      <td>23.697307</td>\n",
       "      <td>29.500695</td>\n",
       "      <td>0.143525</td>\n",
       "    </tr>\n",
       "    <tr>\n",
       "      <th>min</th>\n",
       "      <td>100.000000</td>\n",
       "      <td>18.000000</td>\n",
       "      <td>30.000000</td>\n",
       "      <td>20.000000</td>\n",
       "      <td>0.000000</td>\n",
       "    </tr>\n",
       "    <tr>\n",
       "      <th>25%</th>\n",
       "      <td>1281.000000</td>\n",
       "      <td>32.000000</td>\n",
       "      <td>40.000000</td>\n",
       "      <td>43.000000</td>\n",
       "      <td>0.130000</td>\n",
       "    </tr>\n",
       "    <tr>\n",
       "      <th>50%</th>\n",
       "      <td>2500.500000</td>\n",
       "      <td>46.000000</td>\n",
       "      <td>60.000000</td>\n",
       "      <td>69.000000</td>\n",
       "      <td>0.250000</td>\n",
       "    </tr>\n",
       "    <tr>\n",
       "      <th>75%</th>\n",
       "      <td>3706.750000</td>\n",
       "      <td>61.000000</td>\n",
       "      <td>80.000000</td>\n",
       "      <td>95.000000</td>\n",
       "      <td>0.380000</td>\n",
       "    </tr>\n",
       "    <tr>\n",
       "      <th>max</th>\n",
       "      <td>5000.000000</td>\n",
       "      <td>75.000000</td>\n",
       "      <td>100.000000</td>\n",
       "      <td>120.000000</td>\n",
       "      <td>0.500000</td>\n",
       "    </tr>\n",
       "  </tbody>\n",
       "</table>\n",
       "</div>"
      ],
      "text/plain": [
       "       Fine_Amount   Driver_Age  Speed_Limit  Recorded_Speed  Alcohol_Level\n",
       "count  3200.000000  3200.000000  3200.000000     3200.000000    3200.000000\n",
       "mean   2525.704688    46.477812    59.775000       69.167812       0.251575\n",
       "std    1415.362995    16.881049    23.697307       29.500695       0.143525\n",
       "min     100.000000    18.000000    30.000000       20.000000       0.000000\n",
       "25%    1281.000000    32.000000    40.000000       43.000000       0.130000\n",
       "50%    2500.500000    46.000000    60.000000       69.000000       0.250000\n",
       "75%    3706.750000    61.000000    80.000000       95.000000       0.380000\n",
       "max    5000.000000    75.000000   100.000000      120.000000       0.500000"
      ]
     },
     "execution_count": 49,
     "metadata": {},
     "output_type": "execute_result"
    }
   ],
   "source": [
    "train_df[numeric_col_final]=imputer.transform(train_df[numeric_col_final])\n",
    "train_df[numeric_col_final].describe()"
   ]
  },
  {
   "cell_type": "markdown",
   "metadata": {},
   "source": [
    "# Scaling neumeric feature"
   ]
  },
  {
   "cell_type": "code",
   "execution_count": 50,
   "metadata": {},
   "outputs": [
    {
     "data": {
      "text/plain": [
       "['Fine_Amount', 'Driver_Age', 'Speed_Limit', 'Alcohol_Level']"
      ]
     },
     "execution_count": 50,
     "metadata": {},
     "output_type": "execute_result"
    }
   ],
   "source": [
    "numeric_col_final=train_inputs.select_dtypes(include=[\"number\"])\n",
    "numeric_col_final=list(numeric_col_final)\n",
    "numeric_col_final"
   ]
  },
  {
   "cell_type": "code",
   "execution_count": 51,
   "metadata": {},
   "outputs": [],
   "source": [
    "from sklearn.preprocessing import MinMaxScaler"
   ]
  },
  {
   "cell_type": "code",
   "execution_count": 52,
   "metadata": {},
   "outputs": [],
   "source": [
    "scaler=MinMaxScaler()"
   ]
  },
  {
   "cell_type": "code",
   "execution_count": 53,
   "metadata": {},
   "outputs": [
    {
     "data": {
      "text/html": [
       "<style>#sk-container-id-1 {\n",
       "  /* Definition of color scheme common for light and dark mode */\n",
       "  --sklearn-color-text: #000;\n",
       "  --sklearn-color-text-muted: #666;\n",
       "  --sklearn-color-line: gray;\n",
       "  /* Definition of color scheme for unfitted estimators */\n",
       "  --sklearn-color-unfitted-level-0: #fff5e6;\n",
       "  --sklearn-color-unfitted-level-1: #f6e4d2;\n",
       "  --sklearn-color-unfitted-level-2: #ffe0b3;\n",
       "  --sklearn-color-unfitted-level-3: chocolate;\n",
       "  /* Definition of color scheme for fitted estimators */\n",
       "  --sklearn-color-fitted-level-0: #f0f8ff;\n",
       "  --sklearn-color-fitted-level-1: #d4ebff;\n",
       "  --sklearn-color-fitted-level-2: #b3dbfd;\n",
       "  --sklearn-color-fitted-level-3: cornflowerblue;\n",
       "\n",
       "  /* Specific color for light theme */\n",
       "  --sklearn-color-text-on-default-background: var(--sg-text-color, var(--theme-code-foreground, var(--jp-content-font-color1, black)));\n",
       "  --sklearn-color-background: var(--sg-background-color, var(--theme-background, var(--jp-layout-color0, white)));\n",
       "  --sklearn-color-border-box: var(--sg-text-color, var(--theme-code-foreground, var(--jp-content-font-color1, black)));\n",
       "  --sklearn-color-icon: #696969;\n",
       "\n",
       "  @media (prefers-color-scheme: dark) {\n",
       "    /* Redefinition of color scheme for dark theme */\n",
       "    --sklearn-color-text-on-default-background: var(--sg-text-color, var(--theme-code-foreground, var(--jp-content-font-color1, white)));\n",
       "    --sklearn-color-background: var(--sg-background-color, var(--theme-background, var(--jp-layout-color0, #111)));\n",
       "    --sklearn-color-border-box: var(--sg-text-color, var(--theme-code-foreground, var(--jp-content-font-color1, white)));\n",
       "    --sklearn-color-icon: #878787;\n",
       "  }\n",
       "}\n",
       "\n",
       "#sk-container-id-1 {\n",
       "  color: var(--sklearn-color-text);\n",
       "}\n",
       "\n",
       "#sk-container-id-1 pre {\n",
       "  padding: 0;\n",
       "}\n",
       "\n",
       "#sk-container-id-1 input.sk-hidden--visually {\n",
       "  border: 0;\n",
       "  clip: rect(1px 1px 1px 1px);\n",
       "  clip: rect(1px, 1px, 1px, 1px);\n",
       "  height: 1px;\n",
       "  margin: -1px;\n",
       "  overflow: hidden;\n",
       "  padding: 0;\n",
       "  position: absolute;\n",
       "  width: 1px;\n",
       "}\n",
       "\n",
       "#sk-container-id-1 div.sk-dashed-wrapped {\n",
       "  border: 1px dashed var(--sklearn-color-line);\n",
       "  margin: 0 0.4em 0.5em 0.4em;\n",
       "  box-sizing: border-box;\n",
       "  padding-bottom: 0.4em;\n",
       "  background-color: var(--sklearn-color-background);\n",
       "}\n",
       "\n",
       "#sk-container-id-1 div.sk-container {\n",
       "  /* jupyter's `normalize.less` sets `[hidden] { display: none; }`\n",
       "     but bootstrap.min.css set `[hidden] { display: none !important; }`\n",
       "     so we also need the `!important` here to be able to override the\n",
       "     default hidden behavior on the sphinx rendered scikit-learn.org.\n",
       "     See: https://github.com/scikit-learn/scikit-learn/issues/21755 */\n",
       "  display: inline-block !important;\n",
       "  position: relative;\n",
       "}\n",
       "\n",
       "#sk-container-id-1 div.sk-text-repr-fallback {\n",
       "  display: none;\n",
       "}\n",
       "\n",
       "div.sk-parallel-item,\n",
       "div.sk-serial,\n",
       "div.sk-item {\n",
       "  /* draw centered vertical line to link estimators */\n",
       "  background-image: linear-gradient(var(--sklearn-color-text-on-default-background), var(--sklearn-color-text-on-default-background));\n",
       "  background-size: 2px 100%;\n",
       "  background-repeat: no-repeat;\n",
       "  background-position: center center;\n",
       "}\n",
       "\n",
       "/* Parallel-specific style estimator block */\n",
       "\n",
       "#sk-container-id-1 div.sk-parallel-item::after {\n",
       "  content: \"\";\n",
       "  width: 100%;\n",
       "  border-bottom: 2px solid var(--sklearn-color-text-on-default-background);\n",
       "  flex-grow: 1;\n",
       "}\n",
       "\n",
       "#sk-container-id-1 div.sk-parallel {\n",
       "  display: flex;\n",
       "  align-items: stretch;\n",
       "  justify-content: center;\n",
       "  background-color: var(--sklearn-color-background);\n",
       "  position: relative;\n",
       "}\n",
       "\n",
       "#sk-container-id-1 div.sk-parallel-item {\n",
       "  display: flex;\n",
       "  flex-direction: column;\n",
       "}\n",
       "\n",
       "#sk-container-id-1 div.sk-parallel-item:first-child::after {\n",
       "  align-self: flex-end;\n",
       "  width: 50%;\n",
       "}\n",
       "\n",
       "#sk-container-id-1 div.sk-parallel-item:last-child::after {\n",
       "  align-self: flex-start;\n",
       "  width: 50%;\n",
       "}\n",
       "\n",
       "#sk-container-id-1 div.sk-parallel-item:only-child::after {\n",
       "  width: 0;\n",
       "}\n",
       "\n",
       "/* Serial-specific style estimator block */\n",
       "\n",
       "#sk-container-id-1 div.sk-serial {\n",
       "  display: flex;\n",
       "  flex-direction: column;\n",
       "  align-items: center;\n",
       "  background-color: var(--sklearn-color-background);\n",
       "  padding-right: 1em;\n",
       "  padding-left: 1em;\n",
       "}\n",
       "\n",
       "\n",
       "/* Toggleable style: style used for estimator/Pipeline/ColumnTransformer box that is\n",
       "clickable and can be expanded/collapsed.\n",
       "- Pipeline and ColumnTransformer use this feature and define the default style\n",
       "- Estimators will overwrite some part of the style using the `sk-estimator` class\n",
       "*/\n",
       "\n",
       "/* Pipeline and ColumnTransformer style (default) */\n",
       "\n",
       "#sk-container-id-1 div.sk-toggleable {\n",
       "  /* Default theme specific background. It is overwritten whether we have a\n",
       "  specific estimator or a Pipeline/ColumnTransformer */\n",
       "  background-color: var(--sklearn-color-background);\n",
       "}\n",
       "\n",
       "/* Toggleable label */\n",
       "#sk-container-id-1 label.sk-toggleable__label {\n",
       "  cursor: pointer;\n",
       "  display: flex;\n",
       "  width: 100%;\n",
       "  margin-bottom: 0;\n",
       "  padding: 0.5em;\n",
       "  box-sizing: border-box;\n",
       "  text-align: center;\n",
       "  align-items: start;\n",
       "  justify-content: space-between;\n",
       "  gap: 0.5em;\n",
       "}\n",
       "\n",
       "#sk-container-id-1 label.sk-toggleable__label .caption {\n",
       "  font-size: 0.6rem;\n",
       "  font-weight: lighter;\n",
       "  color: var(--sklearn-color-text-muted);\n",
       "}\n",
       "\n",
       "#sk-container-id-1 label.sk-toggleable__label-arrow:before {\n",
       "  /* Arrow on the left of the label */\n",
       "  content: \"▸\";\n",
       "  float: left;\n",
       "  margin-right: 0.25em;\n",
       "  color: var(--sklearn-color-icon);\n",
       "}\n",
       "\n",
       "#sk-container-id-1 label.sk-toggleable__label-arrow:hover:before {\n",
       "  color: var(--sklearn-color-text);\n",
       "}\n",
       "\n",
       "/* Toggleable content - dropdown */\n",
       "\n",
       "#sk-container-id-1 div.sk-toggleable__content {\n",
       "  max-height: 0;\n",
       "  max-width: 0;\n",
       "  overflow: hidden;\n",
       "  text-align: left;\n",
       "  /* unfitted */\n",
       "  background-color: var(--sklearn-color-unfitted-level-0);\n",
       "}\n",
       "\n",
       "#sk-container-id-1 div.sk-toggleable__content.fitted {\n",
       "  /* fitted */\n",
       "  background-color: var(--sklearn-color-fitted-level-0);\n",
       "}\n",
       "\n",
       "#sk-container-id-1 div.sk-toggleable__content pre {\n",
       "  margin: 0.2em;\n",
       "  border-radius: 0.25em;\n",
       "  color: var(--sklearn-color-text);\n",
       "  /* unfitted */\n",
       "  background-color: var(--sklearn-color-unfitted-level-0);\n",
       "}\n",
       "\n",
       "#sk-container-id-1 div.sk-toggleable__content.fitted pre {\n",
       "  /* unfitted */\n",
       "  background-color: var(--sklearn-color-fitted-level-0);\n",
       "}\n",
       "\n",
       "#sk-container-id-1 input.sk-toggleable__control:checked~div.sk-toggleable__content {\n",
       "  /* Expand drop-down */\n",
       "  max-height: 200px;\n",
       "  max-width: 100%;\n",
       "  overflow: auto;\n",
       "}\n",
       "\n",
       "#sk-container-id-1 input.sk-toggleable__control:checked~label.sk-toggleable__label-arrow:before {\n",
       "  content: \"▾\";\n",
       "}\n",
       "\n",
       "/* Pipeline/ColumnTransformer-specific style */\n",
       "\n",
       "#sk-container-id-1 div.sk-label input.sk-toggleable__control:checked~label.sk-toggleable__label {\n",
       "  color: var(--sklearn-color-text);\n",
       "  background-color: var(--sklearn-color-unfitted-level-2);\n",
       "}\n",
       "\n",
       "#sk-container-id-1 div.sk-label.fitted input.sk-toggleable__control:checked~label.sk-toggleable__label {\n",
       "  background-color: var(--sklearn-color-fitted-level-2);\n",
       "}\n",
       "\n",
       "/* Estimator-specific style */\n",
       "\n",
       "/* Colorize estimator box */\n",
       "#sk-container-id-1 div.sk-estimator input.sk-toggleable__control:checked~label.sk-toggleable__label {\n",
       "  /* unfitted */\n",
       "  background-color: var(--sklearn-color-unfitted-level-2);\n",
       "}\n",
       "\n",
       "#sk-container-id-1 div.sk-estimator.fitted input.sk-toggleable__control:checked~label.sk-toggleable__label {\n",
       "  /* fitted */\n",
       "  background-color: var(--sklearn-color-fitted-level-2);\n",
       "}\n",
       "\n",
       "#sk-container-id-1 div.sk-label label.sk-toggleable__label,\n",
       "#sk-container-id-1 div.sk-label label {\n",
       "  /* The background is the default theme color */\n",
       "  color: var(--sklearn-color-text-on-default-background);\n",
       "}\n",
       "\n",
       "/* On hover, darken the color of the background */\n",
       "#sk-container-id-1 div.sk-label:hover label.sk-toggleable__label {\n",
       "  color: var(--sklearn-color-text);\n",
       "  background-color: var(--sklearn-color-unfitted-level-2);\n",
       "}\n",
       "\n",
       "/* Label box, darken color on hover, fitted */\n",
       "#sk-container-id-1 div.sk-label.fitted:hover label.sk-toggleable__label.fitted {\n",
       "  color: var(--sklearn-color-text);\n",
       "  background-color: var(--sklearn-color-fitted-level-2);\n",
       "}\n",
       "\n",
       "/* Estimator label */\n",
       "\n",
       "#sk-container-id-1 div.sk-label label {\n",
       "  font-family: monospace;\n",
       "  font-weight: bold;\n",
       "  display: inline-block;\n",
       "  line-height: 1.2em;\n",
       "}\n",
       "\n",
       "#sk-container-id-1 div.sk-label-container {\n",
       "  text-align: center;\n",
       "}\n",
       "\n",
       "/* Estimator-specific */\n",
       "#sk-container-id-1 div.sk-estimator {\n",
       "  font-family: monospace;\n",
       "  border: 1px dotted var(--sklearn-color-border-box);\n",
       "  border-radius: 0.25em;\n",
       "  box-sizing: border-box;\n",
       "  margin-bottom: 0.5em;\n",
       "  /* unfitted */\n",
       "  background-color: var(--sklearn-color-unfitted-level-0);\n",
       "}\n",
       "\n",
       "#sk-container-id-1 div.sk-estimator.fitted {\n",
       "  /* fitted */\n",
       "  background-color: var(--sklearn-color-fitted-level-0);\n",
       "}\n",
       "\n",
       "/* on hover */\n",
       "#sk-container-id-1 div.sk-estimator:hover {\n",
       "  /* unfitted */\n",
       "  background-color: var(--sklearn-color-unfitted-level-2);\n",
       "}\n",
       "\n",
       "#sk-container-id-1 div.sk-estimator.fitted:hover {\n",
       "  /* fitted */\n",
       "  background-color: var(--sklearn-color-fitted-level-2);\n",
       "}\n",
       "\n",
       "/* Specification for estimator info (e.g. \"i\" and \"?\") */\n",
       "\n",
       "/* Common style for \"i\" and \"?\" */\n",
       "\n",
       ".sk-estimator-doc-link,\n",
       "a:link.sk-estimator-doc-link,\n",
       "a:visited.sk-estimator-doc-link {\n",
       "  float: right;\n",
       "  font-size: smaller;\n",
       "  line-height: 1em;\n",
       "  font-family: monospace;\n",
       "  background-color: var(--sklearn-color-background);\n",
       "  border-radius: 1em;\n",
       "  height: 1em;\n",
       "  width: 1em;\n",
       "  text-decoration: none !important;\n",
       "  margin-left: 0.5em;\n",
       "  text-align: center;\n",
       "  /* unfitted */\n",
       "  border: var(--sklearn-color-unfitted-level-1) 1pt solid;\n",
       "  color: var(--sklearn-color-unfitted-level-1);\n",
       "}\n",
       "\n",
       ".sk-estimator-doc-link.fitted,\n",
       "a:link.sk-estimator-doc-link.fitted,\n",
       "a:visited.sk-estimator-doc-link.fitted {\n",
       "  /* fitted */\n",
       "  border: var(--sklearn-color-fitted-level-1) 1pt solid;\n",
       "  color: var(--sklearn-color-fitted-level-1);\n",
       "}\n",
       "\n",
       "/* On hover */\n",
       "div.sk-estimator:hover .sk-estimator-doc-link:hover,\n",
       ".sk-estimator-doc-link:hover,\n",
       "div.sk-label-container:hover .sk-estimator-doc-link:hover,\n",
       ".sk-estimator-doc-link:hover {\n",
       "  /* unfitted */\n",
       "  background-color: var(--sklearn-color-unfitted-level-3);\n",
       "  color: var(--sklearn-color-background);\n",
       "  text-decoration: none;\n",
       "}\n",
       "\n",
       "div.sk-estimator.fitted:hover .sk-estimator-doc-link.fitted:hover,\n",
       ".sk-estimator-doc-link.fitted:hover,\n",
       "div.sk-label-container:hover .sk-estimator-doc-link.fitted:hover,\n",
       ".sk-estimator-doc-link.fitted:hover {\n",
       "  /* fitted */\n",
       "  background-color: var(--sklearn-color-fitted-level-3);\n",
       "  color: var(--sklearn-color-background);\n",
       "  text-decoration: none;\n",
       "}\n",
       "\n",
       "/* Span, style for the box shown on hovering the info icon */\n",
       ".sk-estimator-doc-link span {\n",
       "  display: none;\n",
       "  z-index: 9999;\n",
       "  position: relative;\n",
       "  font-weight: normal;\n",
       "  right: .2ex;\n",
       "  padding: .5ex;\n",
       "  margin: .5ex;\n",
       "  width: min-content;\n",
       "  min-width: 20ex;\n",
       "  max-width: 50ex;\n",
       "  color: var(--sklearn-color-text);\n",
       "  box-shadow: 2pt 2pt 4pt #999;\n",
       "  /* unfitted */\n",
       "  background: var(--sklearn-color-unfitted-level-0);\n",
       "  border: .5pt solid var(--sklearn-color-unfitted-level-3);\n",
       "}\n",
       "\n",
       ".sk-estimator-doc-link.fitted span {\n",
       "  /* fitted */\n",
       "  background: var(--sklearn-color-fitted-level-0);\n",
       "  border: var(--sklearn-color-fitted-level-3);\n",
       "}\n",
       "\n",
       ".sk-estimator-doc-link:hover span {\n",
       "  display: block;\n",
       "}\n",
       "\n",
       "/* \"?\"-specific style due to the `<a>` HTML tag */\n",
       "\n",
       "#sk-container-id-1 a.estimator_doc_link {\n",
       "  float: right;\n",
       "  font-size: 1rem;\n",
       "  line-height: 1em;\n",
       "  font-family: monospace;\n",
       "  background-color: var(--sklearn-color-background);\n",
       "  border-radius: 1rem;\n",
       "  height: 1rem;\n",
       "  width: 1rem;\n",
       "  text-decoration: none;\n",
       "  /* unfitted */\n",
       "  color: var(--sklearn-color-unfitted-level-1);\n",
       "  border: var(--sklearn-color-unfitted-level-1) 1pt solid;\n",
       "}\n",
       "\n",
       "#sk-container-id-1 a.estimator_doc_link.fitted {\n",
       "  /* fitted */\n",
       "  border: var(--sklearn-color-fitted-level-1) 1pt solid;\n",
       "  color: var(--sklearn-color-fitted-level-1);\n",
       "}\n",
       "\n",
       "/* On hover */\n",
       "#sk-container-id-1 a.estimator_doc_link:hover {\n",
       "  /* unfitted */\n",
       "  background-color: var(--sklearn-color-unfitted-level-3);\n",
       "  color: var(--sklearn-color-background);\n",
       "  text-decoration: none;\n",
       "}\n",
       "\n",
       "#sk-container-id-1 a.estimator_doc_link.fitted:hover {\n",
       "  /* fitted */\n",
       "  background-color: var(--sklearn-color-fitted-level-3);\n",
       "}\n",
       "</style><div id=\"sk-container-id-1\" class=\"sk-top-container\"><div class=\"sk-text-repr-fallback\"><pre>MinMaxScaler()</pre><b>In a Jupyter environment, please rerun this cell to show the HTML representation or trust the notebook. <br />On GitHub, the HTML representation is unable to render, please try loading this page with nbviewer.org.</b></div><div class=\"sk-container\" hidden><div class=\"sk-item\"><div class=\"sk-estimator fitted sk-toggleable\"><input class=\"sk-toggleable__control sk-hidden--visually\" id=\"sk-estimator-id-1\" type=\"checkbox\" checked><label for=\"sk-estimator-id-1\" class=\"sk-toggleable__label fitted sk-toggleable__label-arrow\"><div><div>MinMaxScaler</div></div><div><a class=\"sk-estimator-doc-link fitted\" rel=\"noreferrer\" target=\"_blank\" href=\"https://scikit-learn.org/1.6/modules/generated/sklearn.preprocessing.MinMaxScaler.html\">?<span>Documentation for MinMaxScaler</span></a><span class=\"sk-estimator-doc-link fitted\">i<span>Fitted</span></span></div></label><div class=\"sk-toggleable__content fitted\"><pre>MinMaxScaler()</pre></div> </div></div></div></div>"
      ],
      "text/plain": [
       "MinMaxScaler()"
      ]
     },
     "execution_count": 53,
     "metadata": {},
     "output_type": "execute_result"
    }
   ],
   "source": [
    "scaler.fit(train_df[numeric_col_final])"
   ]
  },
  {
   "cell_type": "code",
   "execution_count": 54,
   "metadata": {},
   "outputs": [
    {
     "data": {
      "text/plain": [
       "array([100.,  18.,  30.,   0.])"
      ]
     },
     "execution_count": 54,
     "metadata": {},
     "output_type": "execute_result"
    }
   ],
   "source": [
    "scaler.data_max_\n",
    "scaler.data_min_"
   ]
  },
  {
   "cell_type": "code",
   "execution_count": 55,
   "metadata": {},
   "outputs": [
    {
     "data": {
      "text/html": [
       "<div>\n",
       "<style scoped>\n",
       "    .dataframe tbody tr th:only-of-type {\n",
       "        vertical-align: middle;\n",
       "    }\n",
       "\n",
       "    .dataframe tbody tr th {\n",
       "        vertical-align: top;\n",
       "    }\n",
       "\n",
       "    .dataframe thead th {\n",
       "        text-align: right;\n",
       "    }\n",
       "</style>\n",
       "<table border=\"1\" class=\"dataframe\">\n",
       "  <thead>\n",
       "    <tr style=\"text-align: right;\">\n",
       "      <th></th>\n",
       "      <th>Violation_Type</th>\n",
       "      <th>Fine_Amount</th>\n",
       "      <th>Driver_Age</th>\n",
       "      <th>Speed_Limit</th>\n",
       "      <th>Alcohol_Level</th>\n",
       "      <th>Alcoholic</th>\n",
       "      <th>Overspeed</th>\n",
       "      <th>Overspeed_and_Alcoholic</th>\n",
       "    </tr>\n",
       "  </thead>\n",
       "  <tbody>\n",
       "    <tr>\n",
       "      <th>72</th>\n",
       "      <td>Using Mobile Phone</td>\n",
       "      <td>0.879592</td>\n",
       "      <td>0.596491</td>\n",
       "      <td>0.142857</td>\n",
       "      <td>0.30</td>\n",
       "      <td>Yes</td>\n",
       "      <td>Yes</td>\n",
       "      <td>Yes</td>\n",
       "    </tr>\n",
       "    <tr>\n",
       "      <th>2811</th>\n",
       "      <td>No Helmet</td>\n",
       "      <td>0.843878</td>\n",
       "      <td>0.210526</td>\n",
       "      <td>0.428571</td>\n",
       "      <td>0.72</td>\n",
       "      <td>Yes</td>\n",
       "      <td>No</td>\n",
       "      <td>No</td>\n",
       "    </tr>\n",
       "    <tr>\n",
       "      <th>836</th>\n",
       "      <td>Signal Jumping</td>\n",
       "      <td>0.843878</td>\n",
       "      <td>0.245614</td>\n",
       "      <td>0.142857</td>\n",
       "      <td>0.14</td>\n",
       "      <td>Yes</td>\n",
       "      <td>Yes</td>\n",
       "      <td>Yes</td>\n",
       "    </tr>\n",
       "    <tr>\n",
       "      <th>3183</th>\n",
       "      <td>Using Mobile Phone</td>\n",
       "      <td>0.061837</td>\n",
       "      <td>0.035088</td>\n",
       "      <td>0.285714</td>\n",
       "      <td>0.32</td>\n",
       "      <td>Yes</td>\n",
       "      <td>Yes</td>\n",
       "      <td>Yes</td>\n",
       "    </tr>\n",
       "    <tr>\n",
       "      <th>3181</th>\n",
       "      <td>No Seatbelt</td>\n",
       "      <td>0.066122</td>\n",
       "      <td>0.280702</td>\n",
       "      <td>0.000000</td>\n",
       "      <td>0.94</td>\n",
       "      <td>Yes</td>\n",
       "      <td>Yes</td>\n",
       "      <td>Yes</td>\n",
       "    </tr>\n",
       "    <tr>\n",
       "      <th>...</th>\n",
       "      <td>...</td>\n",
       "      <td>...</td>\n",
       "      <td>...</td>\n",
       "      <td>...</td>\n",
       "      <td>...</td>\n",
       "      <td>...</td>\n",
       "      <td>...</td>\n",
       "      <td>...</td>\n",
       "    </tr>\n",
       "    <tr>\n",
       "      <th>3654</th>\n",
       "      <td>Drunk Driving</td>\n",
       "      <td>0.005102</td>\n",
       "      <td>0.333333</td>\n",
       "      <td>0.142857</td>\n",
       "      <td>0.20</td>\n",
       "      <td>Yes</td>\n",
       "      <td>No</td>\n",
       "      <td>No</td>\n",
       "    </tr>\n",
       "    <tr>\n",
       "      <th>3491</th>\n",
       "      <td>Overloading</td>\n",
       "      <td>0.433469</td>\n",
       "      <td>0.842105</td>\n",
       "      <td>0.000000</td>\n",
       "      <td>0.36</td>\n",
       "      <td>Yes</td>\n",
       "      <td>Yes</td>\n",
       "      <td>Yes</td>\n",
       "    </tr>\n",
       "    <tr>\n",
       "      <th>3077</th>\n",
       "      <td>Using Mobile Phone</td>\n",
       "      <td>0.641224</td>\n",
       "      <td>0.000000</td>\n",
       "      <td>0.285714</td>\n",
       "      <td>0.76</td>\n",
       "      <td>Yes</td>\n",
       "      <td>No</td>\n",
       "      <td>No</td>\n",
       "    </tr>\n",
       "    <tr>\n",
       "      <th>1440</th>\n",
       "      <td>Wrong Parking</td>\n",
       "      <td>0.796122</td>\n",
       "      <td>0.403509</td>\n",
       "      <td>0.000000</td>\n",
       "      <td>1.00</td>\n",
       "      <td>Yes</td>\n",
       "      <td>Yes</td>\n",
       "      <td>Yes</td>\n",
       "    </tr>\n",
       "    <tr>\n",
       "      <th>1046</th>\n",
       "      <td>Using Mobile Phone</td>\n",
       "      <td>0.724490</td>\n",
       "      <td>0.473684</td>\n",
       "      <td>1.000000</td>\n",
       "      <td>0.56</td>\n",
       "      <td>Yes</td>\n",
       "      <td>No</td>\n",
       "      <td>No</td>\n",
       "    </tr>\n",
       "  </tbody>\n",
       "</table>\n",
       "<p>3200 rows × 8 columns</p>\n",
       "</div>"
      ],
      "text/plain": [
       "          Violation_Type  Fine_Amount  Driver_Age  Speed_Limit  Alcohol_Level  \\\n",
       "72    Using Mobile Phone     0.879592    0.596491     0.142857           0.30   \n",
       "2811           No Helmet     0.843878    0.210526     0.428571           0.72   \n",
       "836       Signal Jumping     0.843878    0.245614     0.142857           0.14   \n",
       "3183  Using Mobile Phone     0.061837    0.035088     0.285714           0.32   \n",
       "3181         No Seatbelt     0.066122    0.280702     0.000000           0.94   \n",
       "...                  ...          ...         ...          ...            ...   \n",
       "3654       Drunk Driving     0.005102    0.333333     0.142857           0.20   \n",
       "3491         Overloading     0.433469    0.842105     0.000000           0.36   \n",
       "3077  Using Mobile Phone     0.641224    0.000000     0.285714           0.76   \n",
       "1440       Wrong Parking     0.796122    0.403509     0.000000           1.00   \n",
       "1046  Using Mobile Phone     0.724490    0.473684     1.000000           0.56   \n",
       "\n",
       "     Alcoholic Overspeed Overspeed_and_Alcoholic  \n",
       "72         Yes       Yes                     Yes  \n",
       "2811       Yes        No                      No  \n",
       "836        Yes       Yes                     Yes  \n",
       "3183       Yes       Yes                     Yes  \n",
       "3181       Yes       Yes                     Yes  \n",
       "...        ...       ...                     ...  \n",
       "3654       Yes        No                      No  \n",
       "3491       Yes       Yes                     Yes  \n",
       "3077       Yes        No                      No  \n",
       "1440       Yes       Yes                     Yes  \n",
       "1046       Yes        No                      No  \n",
       "\n",
       "[3200 rows x 8 columns]"
      ]
     },
     "execution_count": 55,
     "metadata": {},
     "output_type": "execute_result"
    }
   ],
   "source": [
    "train_inputs[numeric_col_final]=scaler.transform(train_inputs[numeric_col_final])\n",
    "train_inputs"
   ]
  },
  {
   "cell_type": "markdown",
   "metadata": {},
   "source": [
    "# ENCODING CATAGORICAL DATA SET "
   ]
  },
  {
   "cell_type": "code",
   "execution_count": 56,
   "metadata": {},
   "outputs": [],
   "source": [
    "train_df[catagorical_col]\n",
    "from sklearn.preprocessing import OneHotEncoder"
   ]
  },
  {
   "cell_type": "code",
   "execution_count": 57,
   "metadata": {},
   "outputs": [],
   "source": [
    "encoder=OneHotEncoder(sparse_output=False,handle_unknown='ignore')"
   ]
  },
  {
   "cell_type": "code",
   "execution_count": 58,
   "metadata": {},
   "outputs": [
    {
     "data": {
      "text/html": [
       "<style>#sk-container-id-2 {\n",
       "  /* Definition of color scheme common for light and dark mode */\n",
       "  --sklearn-color-text: #000;\n",
       "  --sklearn-color-text-muted: #666;\n",
       "  --sklearn-color-line: gray;\n",
       "  /* Definition of color scheme for unfitted estimators */\n",
       "  --sklearn-color-unfitted-level-0: #fff5e6;\n",
       "  --sklearn-color-unfitted-level-1: #f6e4d2;\n",
       "  --sklearn-color-unfitted-level-2: #ffe0b3;\n",
       "  --sklearn-color-unfitted-level-3: chocolate;\n",
       "  /* Definition of color scheme for fitted estimators */\n",
       "  --sklearn-color-fitted-level-0: #f0f8ff;\n",
       "  --sklearn-color-fitted-level-1: #d4ebff;\n",
       "  --sklearn-color-fitted-level-2: #b3dbfd;\n",
       "  --sklearn-color-fitted-level-3: cornflowerblue;\n",
       "\n",
       "  /* Specific color for light theme */\n",
       "  --sklearn-color-text-on-default-background: var(--sg-text-color, var(--theme-code-foreground, var(--jp-content-font-color1, black)));\n",
       "  --sklearn-color-background: var(--sg-background-color, var(--theme-background, var(--jp-layout-color0, white)));\n",
       "  --sklearn-color-border-box: var(--sg-text-color, var(--theme-code-foreground, var(--jp-content-font-color1, black)));\n",
       "  --sklearn-color-icon: #696969;\n",
       "\n",
       "  @media (prefers-color-scheme: dark) {\n",
       "    /* Redefinition of color scheme for dark theme */\n",
       "    --sklearn-color-text-on-default-background: var(--sg-text-color, var(--theme-code-foreground, var(--jp-content-font-color1, white)));\n",
       "    --sklearn-color-background: var(--sg-background-color, var(--theme-background, var(--jp-layout-color0, #111)));\n",
       "    --sklearn-color-border-box: var(--sg-text-color, var(--theme-code-foreground, var(--jp-content-font-color1, white)));\n",
       "    --sklearn-color-icon: #878787;\n",
       "  }\n",
       "}\n",
       "\n",
       "#sk-container-id-2 {\n",
       "  color: var(--sklearn-color-text);\n",
       "}\n",
       "\n",
       "#sk-container-id-2 pre {\n",
       "  padding: 0;\n",
       "}\n",
       "\n",
       "#sk-container-id-2 input.sk-hidden--visually {\n",
       "  border: 0;\n",
       "  clip: rect(1px 1px 1px 1px);\n",
       "  clip: rect(1px, 1px, 1px, 1px);\n",
       "  height: 1px;\n",
       "  margin: -1px;\n",
       "  overflow: hidden;\n",
       "  padding: 0;\n",
       "  position: absolute;\n",
       "  width: 1px;\n",
       "}\n",
       "\n",
       "#sk-container-id-2 div.sk-dashed-wrapped {\n",
       "  border: 1px dashed var(--sklearn-color-line);\n",
       "  margin: 0 0.4em 0.5em 0.4em;\n",
       "  box-sizing: border-box;\n",
       "  padding-bottom: 0.4em;\n",
       "  background-color: var(--sklearn-color-background);\n",
       "}\n",
       "\n",
       "#sk-container-id-2 div.sk-container {\n",
       "  /* jupyter's `normalize.less` sets `[hidden] { display: none; }`\n",
       "     but bootstrap.min.css set `[hidden] { display: none !important; }`\n",
       "     so we also need the `!important` here to be able to override the\n",
       "     default hidden behavior on the sphinx rendered scikit-learn.org.\n",
       "     See: https://github.com/scikit-learn/scikit-learn/issues/21755 */\n",
       "  display: inline-block !important;\n",
       "  position: relative;\n",
       "}\n",
       "\n",
       "#sk-container-id-2 div.sk-text-repr-fallback {\n",
       "  display: none;\n",
       "}\n",
       "\n",
       "div.sk-parallel-item,\n",
       "div.sk-serial,\n",
       "div.sk-item {\n",
       "  /* draw centered vertical line to link estimators */\n",
       "  background-image: linear-gradient(var(--sklearn-color-text-on-default-background), var(--sklearn-color-text-on-default-background));\n",
       "  background-size: 2px 100%;\n",
       "  background-repeat: no-repeat;\n",
       "  background-position: center center;\n",
       "}\n",
       "\n",
       "/* Parallel-specific style estimator block */\n",
       "\n",
       "#sk-container-id-2 div.sk-parallel-item::after {\n",
       "  content: \"\";\n",
       "  width: 100%;\n",
       "  border-bottom: 2px solid var(--sklearn-color-text-on-default-background);\n",
       "  flex-grow: 1;\n",
       "}\n",
       "\n",
       "#sk-container-id-2 div.sk-parallel {\n",
       "  display: flex;\n",
       "  align-items: stretch;\n",
       "  justify-content: center;\n",
       "  background-color: var(--sklearn-color-background);\n",
       "  position: relative;\n",
       "}\n",
       "\n",
       "#sk-container-id-2 div.sk-parallel-item {\n",
       "  display: flex;\n",
       "  flex-direction: column;\n",
       "}\n",
       "\n",
       "#sk-container-id-2 div.sk-parallel-item:first-child::after {\n",
       "  align-self: flex-end;\n",
       "  width: 50%;\n",
       "}\n",
       "\n",
       "#sk-container-id-2 div.sk-parallel-item:last-child::after {\n",
       "  align-self: flex-start;\n",
       "  width: 50%;\n",
       "}\n",
       "\n",
       "#sk-container-id-2 div.sk-parallel-item:only-child::after {\n",
       "  width: 0;\n",
       "}\n",
       "\n",
       "/* Serial-specific style estimator block */\n",
       "\n",
       "#sk-container-id-2 div.sk-serial {\n",
       "  display: flex;\n",
       "  flex-direction: column;\n",
       "  align-items: center;\n",
       "  background-color: var(--sklearn-color-background);\n",
       "  padding-right: 1em;\n",
       "  padding-left: 1em;\n",
       "}\n",
       "\n",
       "\n",
       "/* Toggleable style: style used for estimator/Pipeline/ColumnTransformer box that is\n",
       "clickable and can be expanded/collapsed.\n",
       "- Pipeline and ColumnTransformer use this feature and define the default style\n",
       "- Estimators will overwrite some part of the style using the `sk-estimator` class\n",
       "*/\n",
       "\n",
       "/* Pipeline and ColumnTransformer style (default) */\n",
       "\n",
       "#sk-container-id-2 div.sk-toggleable {\n",
       "  /* Default theme specific background. It is overwritten whether we have a\n",
       "  specific estimator or a Pipeline/ColumnTransformer */\n",
       "  background-color: var(--sklearn-color-background);\n",
       "}\n",
       "\n",
       "/* Toggleable label */\n",
       "#sk-container-id-2 label.sk-toggleable__label {\n",
       "  cursor: pointer;\n",
       "  display: flex;\n",
       "  width: 100%;\n",
       "  margin-bottom: 0;\n",
       "  padding: 0.5em;\n",
       "  box-sizing: border-box;\n",
       "  text-align: center;\n",
       "  align-items: start;\n",
       "  justify-content: space-between;\n",
       "  gap: 0.5em;\n",
       "}\n",
       "\n",
       "#sk-container-id-2 label.sk-toggleable__label .caption {\n",
       "  font-size: 0.6rem;\n",
       "  font-weight: lighter;\n",
       "  color: var(--sklearn-color-text-muted);\n",
       "}\n",
       "\n",
       "#sk-container-id-2 label.sk-toggleable__label-arrow:before {\n",
       "  /* Arrow on the left of the label */\n",
       "  content: \"▸\";\n",
       "  float: left;\n",
       "  margin-right: 0.25em;\n",
       "  color: var(--sklearn-color-icon);\n",
       "}\n",
       "\n",
       "#sk-container-id-2 label.sk-toggleable__label-arrow:hover:before {\n",
       "  color: var(--sklearn-color-text);\n",
       "}\n",
       "\n",
       "/* Toggleable content - dropdown */\n",
       "\n",
       "#sk-container-id-2 div.sk-toggleable__content {\n",
       "  max-height: 0;\n",
       "  max-width: 0;\n",
       "  overflow: hidden;\n",
       "  text-align: left;\n",
       "  /* unfitted */\n",
       "  background-color: var(--sklearn-color-unfitted-level-0);\n",
       "}\n",
       "\n",
       "#sk-container-id-2 div.sk-toggleable__content.fitted {\n",
       "  /* fitted */\n",
       "  background-color: var(--sklearn-color-fitted-level-0);\n",
       "}\n",
       "\n",
       "#sk-container-id-2 div.sk-toggleable__content pre {\n",
       "  margin: 0.2em;\n",
       "  border-radius: 0.25em;\n",
       "  color: var(--sklearn-color-text);\n",
       "  /* unfitted */\n",
       "  background-color: var(--sklearn-color-unfitted-level-0);\n",
       "}\n",
       "\n",
       "#sk-container-id-2 div.sk-toggleable__content.fitted pre {\n",
       "  /* unfitted */\n",
       "  background-color: var(--sklearn-color-fitted-level-0);\n",
       "}\n",
       "\n",
       "#sk-container-id-2 input.sk-toggleable__control:checked~div.sk-toggleable__content {\n",
       "  /* Expand drop-down */\n",
       "  max-height: 200px;\n",
       "  max-width: 100%;\n",
       "  overflow: auto;\n",
       "}\n",
       "\n",
       "#sk-container-id-2 input.sk-toggleable__control:checked~label.sk-toggleable__label-arrow:before {\n",
       "  content: \"▾\";\n",
       "}\n",
       "\n",
       "/* Pipeline/ColumnTransformer-specific style */\n",
       "\n",
       "#sk-container-id-2 div.sk-label input.sk-toggleable__control:checked~label.sk-toggleable__label {\n",
       "  color: var(--sklearn-color-text);\n",
       "  background-color: var(--sklearn-color-unfitted-level-2);\n",
       "}\n",
       "\n",
       "#sk-container-id-2 div.sk-label.fitted input.sk-toggleable__control:checked~label.sk-toggleable__label {\n",
       "  background-color: var(--sklearn-color-fitted-level-2);\n",
       "}\n",
       "\n",
       "/* Estimator-specific style */\n",
       "\n",
       "/* Colorize estimator box */\n",
       "#sk-container-id-2 div.sk-estimator input.sk-toggleable__control:checked~label.sk-toggleable__label {\n",
       "  /* unfitted */\n",
       "  background-color: var(--sklearn-color-unfitted-level-2);\n",
       "}\n",
       "\n",
       "#sk-container-id-2 div.sk-estimator.fitted input.sk-toggleable__control:checked~label.sk-toggleable__label {\n",
       "  /* fitted */\n",
       "  background-color: var(--sklearn-color-fitted-level-2);\n",
       "}\n",
       "\n",
       "#sk-container-id-2 div.sk-label label.sk-toggleable__label,\n",
       "#sk-container-id-2 div.sk-label label {\n",
       "  /* The background is the default theme color */\n",
       "  color: var(--sklearn-color-text-on-default-background);\n",
       "}\n",
       "\n",
       "/* On hover, darken the color of the background */\n",
       "#sk-container-id-2 div.sk-label:hover label.sk-toggleable__label {\n",
       "  color: var(--sklearn-color-text);\n",
       "  background-color: var(--sklearn-color-unfitted-level-2);\n",
       "}\n",
       "\n",
       "/* Label box, darken color on hover, fitted */\n",
       "#sk-container-id-2 div.sk-label.fitted:hover label.sk-toggleable__label.fitted {\n",
       "  color: var(--sklearn-color-text);\n",
       "  background-color: var(--sklearn-color-fitted-level-2);\n",
       "}\n",
       "\n",
       "/* Estimator label */\n",
       "\n",
       "#sk-container-id-2 div.sk-label label {\n",
       "  font-family: monospace;\n",
       "  font-weight: bold;\n",
       "  display: inline-block;\n",
       "  line-height: 1.2em;\n",
       "}\n",
       "\n",
       "#sk-container-id-2 div.sk-label-container {\n",
       "  text-align: center;\n",
       "}\n",
       "\n",
       "/* Estimator-specific */\n",
       "#sk-container-id-2 div.sk-estimator {\n",
       "  font-family: monospace;\n",
       "  border: 1px dotted var(--sklearn-color-border-box);\n",
       "  border-radius: 0.25em;\n",
       "  box-sizing: border-box;\n",
       "  margin-bottom: 0.5em;\n",
       "  /* unfitted */\n",
       "  background-color: var(--sklearn-color-unfitted-level-0);\n",
       "}\n",
       "\n",
       "#sk-container-id-2 div.sk-estimator.fitted {\n",
       "  /* fitted */\n",
       "  background-color: var(--sklearn-color-fitted-level-0);\n",
       "}\n",
       "\n",
       "/* on hover */\n",
       "#sk-container-id-2 div.sk-estimator:hover {\n",
       "  /* unfitted */\n",
       "  background-color: var(--sklearn-color-unfitted-level-2);\n",
       "}\n",
       "\n",
       "#sk-container-id-2 div.sk-estimator.fitted:hover {\n",
       "  /* fitted */\n",
       "  background-color: var(--sklearn-color-fitted-level-2);\n",
       "}\n",
       "\n",
       "/* Specification for estimator info (e.g. \"i\" and \"?\") */\n",
       "\n",
       "/* Common style for \"i\" and \"?\" */\n",
       "\n",
       ".sk-estimator-doc-link,\n",
       "a:link.sk-estimator-doc-link,\n",
       "a:visited.sk-estimator-doc-link {\n",
       "  float: right;\n",
       "  font-size: smaller;\n",
       "  line-height: 1em;\n",
       "  font-family: monospace;\n",
       "  background-color: var(--sklearn-color-background);\n",
       "  border-radius: 1em;\n",
       "  height: 1em;\n",
       "  width: 1em;\n",
       "  text-decoration: none !important;\n",
       "  margin-left: 0.5em;\n",
       "  text-align: center;\n",
       "  /* unfitted */\n",
       "  border: var(--sklearn-color-unfitted-level-1) 1pt solid;\n",
       "  color: var(--sklearn-color-unfitted-level-1);\n",
       "}\n",
       "\n",
       ".sk-estimator-doc-link.fitted,\n",
       "a:link.sk-estimator-doc-link.fitted,\n",
       "a:visited.sk-estimator-doc-link.fitted {\n",
       "  /* fitted */\n",
       "  border: var(--sklearn-color-fitted-level-1) 1pt solid;\n",
       "  color: var(--sklearn-color-fitted-level-1);\n",
       "}\n",
       "\n",
       "/* On hover */\n",
       "div.sk-estimator:hover .sk-estimator-doc-link:hover,\n",
       ".sk-estimator-doc-link:hover,\n",
       "div.sk-label-container:hover .sk-estimator-doc-link:hover,\n",
       ".sk-estimator-doc-link:hover {\n",
       "  /* unfitted */\n",
       "  background-color: var(--sklearn-color-unfitted-level-3);\n",
       "  color: var(--sklearn-color-background);\n",
       "  text-decoration: none;\n",
       "}\n",
       "\n",
       "div.sk-estimator.fitted:hover .sk-estimator-doc-link.fitted:hover,\n",
       ".sk-estimator-doc-link.fitted:hover,\n",
       "div.sk-label-container:hover .sk-estimator-doc-link.fitted:hover,\n",
       ".sk-estimator-doc-link.fitted:hover {\n",
       "  /* fitted */\n",
       "  background-color: var(--sklearn-color-fitted-level-3);\n",
       "  color: var(--sklearn-color-background);\n",
       "  text-decoration: none;\n",
       "}\n",
       "\n",
       "/* Span, style for the box shown on hovering the info icon */\n",
       ".sk-estimator-doc-link span {\n",
       "  display: none;\n",
       "  z-index: 9999;\n",
       "  position: relative;\n",
       "  font-weight: normal;\n",
       "  right: .2ex;\n",
       "  padding: .5ex;\n",
       "  margin: .5ex;\n",
       "  width: min-content;\n",
       "  min-width: 20ex;\n",
       "  max-width: 50ex;\n",
       "  color: var(--sklearn-color-text);\n",
       "  box-shadow: 2pt 2pt 4pt #999;\n",
       "  /* unfitted */\n",
       "  background: var(--sklearn-color-unfitted-level-0);\n",
       "  border: .5pt solid var(--sklearn-color-unfitted-level-3);\n",
       "}\n",
       "\n",
       ".sk-estimator-doc-link.fitted span {\n",
       "  /* fitted */\n",
       "  background: var(--sklearn-color-fitted-level-0);\n",
       "  border: var(--sklearn-color-fitted-level-3);\n",
       "}\n",
       "\n",
       ".sk-estimator-doc-link:hover span {\n",
       "  display: block;\n",
       "}\n",
       "\n",
       "/* \"?\"-specific style due to the `<a>` HTML tag */\n",
       "\n",
       "#sk-container-id-2 a.estimator_doc_link {\n",
       "  float: right;\n",
       "  font-size: 1rem;\n",
       "  line-height: 1em;\n",
       "  font-family: monospace;\n",
       "  background-color: var(--sklearn-color-background);\n",
       "  border-radius: 1rem;\n",
       "  height: 1rem;\n",
       "  width: 1rem;\n",
       "  text-decoration: none;\n",
       "  /* unfitted */\n",
       "  color: var(--sklearn-color-unfitted-level-1);\n",
       "  border: var(--sklearn-color-unfitted-level-1) 1pt solid;\n",
       "}\n",
       "\n",
       "#sk-container-id-2 a.estimator_doc_link.fitted {\n",
       "  /* fitted */\n",
       "  border: var(--sklearn-color-fitted-level-1) 1pt solid;\n",
       "  color: var(--sklearn-color-fitted-level-1);\n",
       "}\n",
       "\n",
       "/* On hover */\n",
       "#sk-container-id-2 a.estimator_doc_link:hover {\n",
       "  /* unfitted */\n",
       "  background-color: var(--sklearn-color-unfitted-level-3);\n",
       "  color: var(--sklearn-color-background);\n",
       "  text-decoration: none;\n",
       "}\n",
       "\n",
       "#sk-container-id-2 a.estimator_doc_link.fitted:hover {\n",
       "  /* fitted */\n",
       "  background-color: var(--sklearn-color-fitted-level-3);\n",
       "}\n",
       "</style><div id=\"sk-container-id-2\" class=\"sk-top-container\"><div class=\"sk-text-repr-fallback\"><pre>OneHotEncoder(handle_unknown=&#x27;ignore&#x27;, sparse_output=False)</pre><b>In a Jupyter environment, please rerun this cell to show the HTML representation or trust the notebook. <br />On GitHub, the HTML representation is unable to render, please try loading this page with nbviewer.org.</b></div><div class=\"sk-container\" hidden><div class=\"sk-item\"><div class=\"sk-estimator fitted sk-toggleable\"><input class=\"sk-toggleable__control sk-hidden--visually\" id=\"sk-estimator-id-2\" type=\"checkbox\" checked><label for=\"sk-estimator-id-2\" class=\"sk-toggleable__label fitted sk-toggleable__label-arrow\"><div><div>OneHotEncoder</div></div><div><a class=\"sk-estimator-doc-link fitted\" rel=\"noreferrer\" target=\"_blank\" href=\"https://scikit-learn.org/1.6/modules/generated/sklearn.preprocessing.OneHotEncoder.html\">?<span>Documentation for OneHotEncoder</span></a><span class=\"sk-estimator-doc-link fitted\">i<span>Fitted</span></span></div></label><div class=\"sk-toggleable__content fitted\"><pre>OneHotEncoder(handle_unknown=&#x27;ignore&#x27;, sparse_output=False)</pre></div> </div></div></div></div>"
      ],
      "text/plain": [
       "OneHotEncoder(handle_unknown='ignore', sparse_output=False)"
      ]
     },
     "execution_count": 58,
     "metadata": {},
     "output_type": "execute_result"
    }
   ],
   "source": [
    "encoder.fit(train_df[catagorical_col])"
   ]
  },
  {
   "cell_type": "code",
   "execution_count": 59,
   "metadata": {},
   "outputs": [
    {
     "data": {
      "text/plain": [
       "[array(['Driving Without License', 'Drunk Driving', 'No Helmet',\n",
       "        'No Seatbelt', 'Over-speeding', 'Overloading', 'Signal Jumping',\n",
       "        'Using Mobile Phone', 'Wrong Parking'], dtype=object),\n",
       " array(['No', 'Yes'], dtype=object),\n",
       " array(['No', 'Yes'], dtype=object),\n",
       " array(['No', 'Yes'], dtype=object)]"
      ]
     },
     "execution_count": 59,
     "metadata": {},
     "output_type": "execute_result"
    }
   ],
   "source": [
    "encoder.categories_"
   ]
  },
  {
   "cell_type": "code",
   "execution_count": 64,
   "metadata": {},
   "outputs": [
    {
     "name": "stdout",
     "output_type": "stream",
     "text": [
      "['Violation_Type_Driving Without License', 'Violation_Type_Drunk Driving', 'Violation_Type_No Helmet', 'Violation_Type_No Seatbelt', 'Violation_Type_Over-speeding', 'Violation_Type_Overloading', 'Violation_Type_Signal Jumping', 'Violation_Type_Using Mobile Phone', 'Violation_Type_Wrong Parking', 'Alcoholic_No', 'Alcoholic_Yes', 'Overspeed_No', 'Overspeed_Yes', 'Overspeed_and_Alcoholic_No', 'Overspeed_and_Alcoholic_Yes']\n"
     ]
    },
    {
     "data": {
      "text/plain": [
       "['Violation_Type', 'Alcoholic', 'Overspeed', 'Overspeed_and_Alcoholic']"
      ]
     },
     "execution_count": 64,
     "metadata": {},
     "output_type": "execute_result"
    }
   ],
   "source": [
    "encoded_cols=list(encoder.get_feature_names_out(catagorical_col))\n",
    "print(encoded_cols)\n",
    "catagorical_col"
   ]
  },
  {
   "cell_type": "code",
   "execution_count": 61,
   "metadata": {},
   "outputs": [
    {
     "data": {
      "text/html": [
       "<div>\n",
       "<style scoped>\n",
       "    .dataframe tbody tr th:only-of-type {\n",
       "        vertical-align: middle;\n",
       "    }\n",
       "\n",
       "    .dataframe tbody tr th {\n",
       "        vertical-align: top;\n",
       "    }\n",
       "\n",
       "    .dataframe thead th {\n",
       "        text-align: right;\n",
       "    }\n",
       "</style>\n",
       "<table border=\"1\" class=\"dataframe\">\n",
       "  <thead>\n",
       "    <tr style=\"text-align: right;\">\n",
       "      <th></th>\n",
       "      <th>Violation_Type</th>\n",
       "      <th>Fine_Amount</th>\n",
       "      <th>Driver_Age</th>\n",
       "      <th>Speed_Limit</th>\n",
       "      <th>Alcohol_Level</th>\n",
       "      <th>Alcoholic</th>\n",
       "      <th>Overspeed</th>\n",
       "      <th>Overspeed_and_Alcoholic</th>\n",
       "      <th>Violation_Type_Driving Without License</th>\n",
       "      <th>Violation_Type_Drunk Driving</th>\n",
       "      <th>Violation_Type_No Helmet</th>\n",
       "      <th>Violation_Type_No Seatbelt</th>\n",
       "      <th>Violation_Type_Over-speeding</th>\n",
       "      <th>Violation_Type_Overloading</th>\n",
       "      <th>Violation_Type_Signal Jumping</th>\n",
       "      <th>Violation_Type_Using Mobile Phone</th>\n",
       "      <th>Violation_Type_Wrong Parking</th>\n",
       "      <th>Alcoholic_No</th>\n",
       "      <th>Alcoholic_Yes</th>\n",
       "      <th>Overspeed_No</th>\n",
       "      <th>Overspeed_Yes</th>\n",
       "      <th>Overspeed_and_Alcoholic_No</th>\n",
       "      <th>Overspeed_and_Alcoholic_Yes</th>\n",
       "    </tr>\n",
       "  </thead>\n",
       "  <tbody>\n",
       "    <tr>\n",
       "      <th>72</th>\n",
       "      <td>Using Mobile Phone</td>\n",
       "      <td>0.879592</td>\n",
       "      <td>0.596491</td>\n",
       "      <td>0.142857</td>\n",
       "      <td>0.30</td>\n",
       "      <td>Yes</td>\n",
       "      <td>Yes</td>\n",
       "      <td>Yes</td>\n",
       "      <td>0.0</td>\n",
       "      <td>0.0</td>\n",
       "      <td>0.0</td>\n",
       "      <td>0.0</td>\n",
       "      <td>0.0</td>\n",
       "      <td>0.0</td>\n",
       "      <td>0.0</td>\n",
       "      <td>1.0</td>\n",
       "      <td>0.0</td>\n",
       "      <td>0.0</td>\n",
       "      <td>1.0</td>\n",
       "      <td>0.0</td>\n",
       "      <td>1.0</td>\n",
       "      <td>0.0</td>\n",
       "      <td>1.0</td>\n",
       "    </tr>\n",
       "    <tr>\n",
       "      <th>2811</th>\n",
       "      <td>No Helmet</td>\n",
       "      <td>0.843878</td>\n",
       "      <td>0.210526</td>\n",
       "      <td>0.428571</td>\n",
       "      <td>0.72</td>\n",
       "      <td>Yes</td>\n",
       "      <td>No</td>\n",
       "      <td>No</td>\n",
       "      <td>0.0</td>\n",
       "      <td>0.0</td>\n",
       "      <td>1.0</td>\n",
       "      <td>0.0</td>\n",
       "      <td>0.0</td>\n",
       "      <td>0.0</td>\n",
       "      <td>0.0</td>\n",
       "      <td>0.0</td>\n",
       "      <td>0.0</td>\n",
       "      <td>0.0</td>\n",
       "      <td>1.0</td>\n",
       "      <td>1.0</td>\n",
       "      <td>0.0</td>\n",
       "      <td>1.0</td>\n",
       "      <td>0.0</td>\n",
       "    </tr>\n",
       "    <tr>\n",
       "      <th>836</th>\n",
       "      <td>Signal Jumping</td>\n",
       "      <td>0.843878</td>\n",
       "      <td>0.245614</td>\n",
       "      <td>0.142857</td>\n",
       "      <td>0.14</td>\n",
       "      <td>Yes</td>\n",
       "      <td>Yes</td>\n",
       "      <td>Yes</td>\n",
       "      <td>0.0</td>\n",
       "      <td>0.0</td>\n",
       "      <td>0.0</td>\n",
       "      <td>0.0</td>\n",
       "      <td>0.0</td>\n",
       "      <td>0.0</td>\n",
       "      <td>1.0</td>\n",
       "      <td>0.0</td>\n",
       "      <td>0.0</td>\n",
       "      <td>0.0</td>\n",
       "      <td>1.0</td>\n",
       "      <td>0.0</td>\n",
       "      <td>1.0</td>\n",
       "      <td>0.0</td>\n",
       "      <td>1.0</td>\n",
       "    </tr>\n",
       "    <tr>\n",
       "      <th>3183</th>\n",
       "      <td>Using Mobile Phone</td>\n",
       "      <td>0.061837</td>\n",
       "      <td>0.035088</td>\n",
       "      <td>0.285714</td>\n",
       "      <td>0.32</td>\n",
       "      <td>Yes</td>\n",
       "      <td>Yes</td>\n",
       "      <td>Yes</td>\n",
       "      <td>0.0</td>\n",
       "      <td>0.0</td>\n",
       "      <td>0.0</td>\n",
       "      <td>0.0</td>\n",
       "      <td>0.0</td>\n",
       "      <td>0.0</td>\n",
       "      <td>0.0</td>\n",
       "      <td>1.0</td>\n",
       "      <td>0.0</td>\n",
       "      <td>0.0</td>\n",
       "      <td>1.0</td>\n",
       "      <td>0.0</td>\n",
       "      <td>1.0</td>\n",
       "      <td>0.0</td>\n",
       "      <td>1.0</td>\n",
       "    </tr>\n",
       "    <tr>\n",
       "      <th>3181</th>\n",
       "      <td>No Seatbelt</td>\n",
       "      <td>0.066122</td>\n",
       "      <td>0.280702</td>\n",
       "      <td>0.000000</td>\n",
       "      <td>0.94</td>\n",
       "      <td>Yes</td>\n",
       "      <td>Yes</td>\n",
       "      <td>Yes</td>\n",
       "      <td>0.0</td>\n",
       "      <td>0.0</td>\n",
       "      <td>0.0</td>\n",
       "      <td>1.0</td>\n",
       "      <td>0.0</td>\n",
       "      <td>0.0</td>\n",
       "      <td>0.0</td>\n",
       "      <td>0.0</td>\n",
       "      <td>0.0</td>\n",
       "      <td>0.0</td>\n",
       "      <td>1.0</td>\n",
       "      <td>0.0</td>\n",
       "      <td>1.0</td>\n",
       "      <td>0.0</td>\n",
       "      <td>1.0</td>\n",
       "    </tr>\n",
       "    <tr>\n",
       "      <th>...</th>\n",
       "      <td>...</td>\n",
       "      <td>...</td>\n",
       "      <td>...</td>\n",
       "      <td>...</td>\n",
       "      <td>...</td>\n",
       "      <td>...</td>\n",
       "      <td>...</td>\n",
       "      <td>...</td>\n",
       "      <td>...</td>\n",
       "      <td>...</td>\n",
       "      <td>...</td>\n",
       "      <td>...</td>\n",
       "      <td>...</td>\n",
       "      <td>...</td>\n",
       "      <td>...</td>\n",
       "      <td>...</td>\n",
       "      <td>...</td>\n",
       "      <td>...</td>\n",
       "      <td>...</td>\n",
       "      <td>...</td>\n",
       "      <td>...</td>\n",
       "      <td>...</td>\n",
       "      <td>...</td>\n",
       "    </tr>\n",
       "    <tr>\n",
       "      <th>3654</th>\n",
       "      <td>Drunk Driving</td>\n",
       "      <td>0.005102</td>\n",
       "      <td>0.333333</td>\n",
       "      <td>0.142857</td>\n",
       "      <td>0.20</td>\n",
       "      <td>Yes</td>\n",
       "      <td>No</td>\n",
       "      <td>No</td>\n",
       "      <td>0.0</td>\n",
       "      <td>1.0</td>\n",
       "      <td>0.0</td>\n",
       "      <td>0.0</td>\n",
       "      <td>0.0</td>\n",
       "      <td>0.0</td>\n",
       "      <td>0.0</td>\n",
       "      <td>0.0</td>\n",
       "      <td>0.0</td>\n",
       "      <td>0.0</td>\n",
       "      <td>1.0</td>\n",
       "      <td>1.0</td>\n",
       "      <td>0.0</td>\n",
       "      <td>1.0</td>\n",
       "      <td>0.0</td>\n",
       "    </tr>\n",
       "    <tr>\n",
       "      <th>3491</th>\n",
       "      <td>Overloading</td>\n",
       "      <td>0.433469</td>\n",
       "      <td>0.842105</td>\n",
       "      <td>0.000000</td>\n",
       "      <td>0.36</td>\n",
       "      <td>Yes</td>\n",
       "      <td>Yes</td>\n",
       "      <td>Yes</td>\n",
       "      <td>0.0</td>\n",
       "      <td>0.0</td>\n",
       "      <td>0.0</td>\n",
       "      <td>0.0</td>\n",
       "      <td>0.0</td>\n",
       "      <td>1.0</td>\n",
       "      <td>0.0</td>\n",
       "      <td>0.0</td>\n",
       "      <td>0.0</td>\n",
       "      <td>0.0</td>\n",
       "      <td>1.0</td>\n",
       "      <td>0.0</td>\n",
       "      <td>1.0</td>\n",
       "      <td>0.0</td>\n",
       "      <td>1.0</td>\n",
       "    </tr>\n",
       "    <tr>\n",
       "      <th>3077</th>\n",
       "      <td>Using Mobile Phone</td>\n",
       "      <td>0.641224</td>\n",
       "      <td>0.000000</td>\n",
       "      <td>0.285714</td>\n",
       "      <td>0.76</td>\n",
       "      <td>Yes</td>\n",
       "      <td>No</td>\n",
       "      <td>No</td>\n",
       "      <td>0.0</td>\n",
       "      <td>0.0</td>\n",
       "      <td>0.0</td>\n",
       "      <td>0.0</td>\n",
       "      <td>0.0</td>\n",
       "      <td>0.0</td>\n",
       "      <td>0.0</td>\n",
       "      <td>1.0</td>\n",
       "      <td>0.0</td>\n",
       "      <td>0.0</td>\n",
       "      <td>1.0</td>\n",
       "      <td>1.0</td>\n",
       "      <td>0.0</td>\n",
       "      <td>1.0</td>\n",
       "      <td>0.0</td>\n",
       "    </tr>\n",
       "    <tr>\n",
       "      <th>1440</th>\n",
       "      <td>Wrong Parking</td>\n",
       "      <td>0.796122</td>\n",
       "      <td>0.403509</td>\n",
       "      <td>0.000000</td>\n",
       "      <td>1.00</td>\n",
       "      <td>Yes</td>\n",
       "      <td>Yes</td>\n",
       "      <td>Yes</td>\n",
       "      <td>0.0</td>\n",
       "      <td>0.0</td>\n",
       "      <td>0.0</td>\n",
       "      <td>0.0</td>\n",
       "      <td>0.0</td>\n",
       "      <td>0.0</td>\n",
       "      <td>0.0</td>\n",
       "      <td>0.0</td>\n",
       "      <td>1.0</td>\n",
       "      <td>0.0</td>\n",
       "      <td>1.0</td>\n",
       "      <td>0.0</td>\n",
       "      <td>1.0</td>\n",
       "      <td>0.0</td>\n",
       "      <td>1.0</td>\n",
       "    </tr>\n",
       "    <tr>\n",
       "      <th>1046</th>\n",
       "      <td>Using Mobile Phone</td>\n",
       "      <td>0.724490</td>\n",
       "      <td>0.473684</td>\n",
       "      <td>1.000000</td>\n",
       "      <td>0.56</td>\n",
       "      <td>Yes</td>\n",
       "      <td>No</td>\n",
       "      <td>No</td>\n",
       "      <td>0.0</td>\n",
       "      <td>0.0</td>\n",
       "      <td>0.0</td>\n",
       "      <td>0.0</td>\n",
       "      <td>0.0</td>\n",
       "      <td>0.0</td>\n",
       "      <td>0.0</td>\n",
       "      <td>1.0</td>\n",
       "      <td>0.0</td>\n",
       "      <td>0.0</td>\n",
       "      <td>1.0</td>\n",
       "      <td>1.0</td>\n",
       "      <td>0.0</td>\n",
       "      <td>1.0</td>\n",
       "      <td>0.0</td>\n",
       "    </tr>\n",
       "  </tbody>\n",
       "</table>\n",
       "<p>3200 rows × 23 columns</p>\n",
       "</div>"
      ],
      "text/plain": [
       "          Violation_Type  Fine_Amount  Driver_Age  Speed_Limit  Alcohol_Level  \\\n",
       "72    Using Mobile Phone     0.879592    0.596491     0.142857           0.30   \n",
       "2811           No Helmet     0.843878    0.210526     0.428571           0.72   \n",
       "836       Signal Jumping     0.843878    0.245614     0.142857           0.14   \n",
       "3183  Using Mobile Phone     0.061837    0.035088     0.285714           0.32   \n",
       "3181         No Seatbelt     0.066122    0.280702     0.000000           0.94   \n",
       "...                  ...          ...         ...          ...            ...   \n",
       "3654       Drunk Driving     0.005102    0.333333     0.142857           0.20   \n",
       "3491         Overloading     0.433469    0.842105     0.000000           0.36   \n",
       "3077  Using Mobile Phone     0.641224    0.000000     0.285714           0.76   \n",
       "1440       Wrong Parking     0.796122    0.403509     0.000000           1.00   \n",
       "1046  Using Mobile Phone     0.724490    0.473684     1.000000           0.56   \n",
       "\n",
       "     Alcoholic Overspeed Overspeed_and_Alcoholic  \\\n",
       "72         Yes       Yes                     Yes   \n",
       "2811       Yes        No                      No   \n",
       "836        Yes       Yes                     Yes   \n",
       "3183       Yes       Yes                     Yes   \n",
       "3181       Yes       Yes                     Yes   \n",
       "...        ...       ...                     ...   \n",
       "3654       Yes        No                      No   \n",
       "3491       Yes       Yes                     Yes   \n",
       "3077       Yes        No                      No   \n",
       "1440       Yes       Yes                     Yes   \n",
       "1046       Yes        No                      No   \n",
       "\n",
       "      Violation_Type_Driving Without License  Violation_Type_Drunk Driving  \\\n",
       "72                                       0.0                           0.0   \n",
       "2811                                     0.0                           0.0   \n",
       "836                                      0.0                           0.0   \n",
       "3183                                     0.0                           0.0   \n",
       "3181                                     0.0                           0.0   \n",
       "...                                      ...                           ...   \n",
       "3654                                     0.0                           1.0   \n",
       "3491                                     0.0                           0.0   \n",
       "3077                                     0.0                           0.0   \n",
       "1440                                     0.0                           0.0   \n",
       "1046                                     0.0                           0.0   \n",
       "\n",
       "      Violation_Type_No Helmet  Violation_Type_No Seatbelt  \\\n",
       "72                         0.0                         0.0   \n",
       "2811                       1.0                         0.0   \n",
       "836                        0.0                         0.0   \n",
       "3183                       0.0                         0.0   \n",
       "3181                       0.0                         1.0   \n",
       "...                        ...                         ...   \n",
       "3654                       0.0                         0.0   \n",
       "3491                       0.0                         0.0   \n",
       "3077                       0.0                         0.0   \n",
       "1440                       0.0                         0.0   \n",
       "1046                       0.0                         0.0   \n",
       "\n",
       "      Violation_Type_Over-speeding  Violation_Type_Overloading  \\\n",
       "72                             0.0                         0.0   \n",
       "2811                           0.0                         0.0   \n",
       "836                            0.0                         0.0   \n",
       "3183                           0.0                         0.0   \n",
       "3181                           0.0                         0.0   \n",
       "...                            ...                         ...   \n",
       "3654                           0.0                         0.0   \n",
       "3491                           0.0                         1.0   \n",
       "3077                           0.0                         0.0   \n",
       "1440                           0.0                         0.0   \n",
       "1046                           0.0                         0.0   \n",
       "\n",
       "      Violation_Type_Signal Jumping  Violation_Type_Using Mobile Phone  \\\n",
       "72                              0.0                                1.0   \n",
       "2811                            0.0                                0.0   \n",
       "836                             1.0                                0.0   \n",
       "3183                            0.0                                1.0   \n",
       "3181                            0.0                                0.0   \n",
       "...                             ...                                ...   \n",
       "3654                            0.0                                0.0   \n",
       "3491                            0.0                                0.0   \n",
       "3077                            0.0                                1.0   \n",
       "1440                            0.0                                0.0   \n",
       "1046                            0.0                                1.0   \n",
       "\n",
       "      Violation_Type_Wrong Parking  Alcoholic_No  Alcoholic_Yes  Overspeed_No  \\\n",
       "72                             0.0           0.0            1.0           0.0   \n",
       "2811                           0.0           0.0            1.0           1.0   \n",
       "836                            0.0           0.0            1.0           0.0   \n",
       "3183                           0.0           0.0            1.0           0.0   \n",
       "3181                           0.0           0.0            1.0           0.0   \n",
       "...                            ...           ...            ...           ...   \n",
       "3654                           0.0           0.0            1.0           1.0   \n",
       "3491                           0.0           0.0            1.0           0.0   \n",
       "3077                           0.0           0.0            1.0           1.0   \n",
       "1440                           1.0           0.0            1.0           0.0   \n",
       "1046                           0.0           0.0            1.0           1.0   \n",
       "\n",
       "      Overspeed_Yes  Overspeed_and_Alcoholic_No  Overspeed_and_Alcoholic_Yes  \n",
       "72              1.0                         0.0                          1.0  \n",
       "2811            0.0                         1.0                          0.0  \n",
       "836             1.0                         0.0                          1.0  \n",
       "3183            1.0                         0.0                          1.0  \n",
       "3181            1.0                         0.0                          1.0  \n",
       "...             ...                         ...                          ...  \n",
       "3654            0.0                         1.0                          0.0  \n",
       "3491            1.0                         0.0                          1.0  \n",
       "3077            0.0                         1.0                          0.0  \n",
       "1440            1.0                         0.0                          1.0  \n",
       "1046            0.0                         1.0                          0.0  \n",
       "\n",
       "[3200 rows x 23 columns]"
      ]
     },
     "execution_count": 61,
     "metadata": {},
     "output_type": "execute_result"
    }
   ],
   "source": [
    "encoded_array=encoder.transform(train_df[catagorical_col])\n",
    "train_inputs[encoded_cols]=encoder.transform(train_inputs[catagorical_col])\n",
    "train_inputs"
   ]
  },
  {
   "cell_type": "code",
   "execution_count": 62,
   "metadata": {},
   "outputs": [
    {
     "name": "stdout",
     "output_type": "stream",
     "text": [
      "(3200,)\n",
      "(3200, 23)\n"
     ]
    }
   ],
   "source": [
    "print(train_target.shape)\n",
    "print(train_inputs.shape)"
   ]
  },
  {
   "cell_type": "code",
   "execution_count": null,
   "metadata": {},
   "outputs": [],
   "source": [
    "train_inputs.to_parquet(\"train_inputs.parquet\")"
   ]
  },
  {
   "cell_type": "code",
   "execution_count": 65,
   "metadata": {},
   "outputs": [],
   "source": [
    "pd.DataFrame(train_target).to_parquet(\"train_target.parquet\")"
   ]
  },
  {
   "cell_type": "code",
   "execution_count": 67,
   "metadata": {},
   "outputs": [],
   "source": [
    "train_input=pd.read_parquet(\"./train_inputs.parquet\")\n",
    "train_targets=pd.read_parquet(\"./train_target.parquet\")"
   ]
  },
  {
   "cell_type": "code",
   "execution_count": 70,
   "metadata": {},
   "outputs": [],
   "source": [
    "from sklearn.linear_model import LogisticRegression"
   ]
  },
  {
   "cell_type": "code",
   "execution_count": 71,
   "metadata": {},
   "outputs": [],
   "source": [
    "model=LogisticRegression(solver=\"liblinear\")"
   ]
  },
  {
   "cell_type": "code",
   "execution_count": 78,
   "metadata": {},
   "outputs": [
    {
     "data": {
      "text/html": [
       "<style>#sk-container-id-5 {\n",
       "  /* Definition of color scheme common for light and dark mode */\n",
       "  --sklearn-color-text: #000;\n",
       "  --sklearn-color-text-muted: #666;\n",
       "  --sklearn-color-line: gray;\n",
       "  /* Definition of color scheme for unfitted estimators */\n",
       "  --sklearn-color-unfitted-level-0: #fff5e6;\n",
       "  --sklearn-color-unfitted-level-1: #f6e4d2;\n",
       "  --sklearn-color-unfitted-level-2: #ffe0b3;\n",
       "  --sklearn-color-unfitted-level-3: chocolate;\n",
       "  /* Definition of color scheme for fitted estimators */\n",
       "  --sklearn-color-fitted-level-0: #f0f8ff;\n",
       "  --sklearn-color-fitted-level-1: #d4ebff;\n",
       "  --sklearn-color-fitted-level-2: #b3dbfd;\n",
       "  --sklearn-color-fitted-level-3: cornflowerblue;\n",
       "\n",
       "  /* Specific color for light theme */\n",
       "  --sklearn-color-text-on-default-background: var(--sg-text-color, var(--theme-code-foreground, var(--jp-content-font-color1, black)));\n",
       "  --sklearn-color-background: var(--sg-background-color, var(--theme-background, var(--jp-layout-color0, white)));\n",
       "  --sklearn-color-border-box: var(--sg-text-color, var(--theme-code-foreground, var(--jp-content-font-color1, black)));\n",
       "  --sklearn-color-icon: #696969;\n",
       "\n",
       "  @media (prefers-color-scheme: dark) {\n",
       "    /* Redefinition of color scheme for dark theme */\n",
       "    --sklearn-color-text-on-default-background: var(--sg-text-color, var(--theme-code-foreground, var(--jp-content-font-color1, white)));\n",
       "    --sklearn-color-background: var(--sg-background-color, var(--theme-background, var(--jp-layout-color0, #111)));\n",
       "    --sklearn-color-border-box: var(--sg-text-color, var(--theme-code-foreground, var(--jp-content-font-color1, white)));\n",
       "    --sklearn-color-icon: #878787;\n",
       "  }\n",
       "}\n",
       "\n",
       "#sk-container-id-5 {\n",
       "  color: var(--sklearn-color-text);\n",
       "}\n",
       "\n",
       "#sk-container-id-5 pre {\n",
       "  padding: 0;\n",
       "}\n",
       "\n",
       "#sk-container-id-5 input.sk-hidden--visually {\n",
       "  border: 0;\n",
       "  clip: rect(1px 1px 1px 1px);\n",
       "  clip: rect(1px, 1px, 1px, 1px);\n",
       "  height: 1px;\n",
       "  margin: -1px;\n",
       "  overflow: hidden;\n",
       "  padding: 0;\n",
       "  position: absolute;\n",
       "  width: 1px;\n",
       "}\n",
       "\n",
       "#sk-container-id-5 div.sk-dashed-wrapped {\n",
       "  border: 1px dashed var(--sklearn-color-line);\n",
       "  margin: 0 0.4em 0.5em 0.4em;\n",
       "  box-sizing: border-box;\n",
       "  padding-bottom: 0.4em;\n",
       "  background-color: var(--sklearn-color-background);\n",
       "}\n",
       "\n",
       "#sk-container-id-5 div.sk-container {\n",
       "  /* jupyter's `normalize.less` sets `[hidden] { display: none; }`\n",
       "     but bootstrap.min.css set `[hidden] { display: none !important; }`\n",
       "     so we also need the `!important` here to be able to override the\n",
       "     default hidden behavior on the sphinx rendered scikit-learn.org.\n",
       "     See: https://github.com/scikit-learn/scikit-learn/issues/21755 */\n",
       "  display: inline-block !important;\n",
       "  position: relative;\n",
       "}\n",
       "\n",
       "#sk-container-id-5 div.sk-text-repr-fallback {\n",
       "  display: none;\n",
       "}\n",
       "\n",
       "div.sk-parallel-item,\n",
       "div.sk-serial,\n",
       "div.sk-item {\n",
       "  /* draw centered vertical line to link estimators */\n",
       "  background-image: linear-gradient(var(--sklearn-color-text-on-default-background), var(--sklearn-color-text-on-default-background));\n",
       "  background-size: 2px 100%;\n",
       "  background-repeat: no-repeat;\n",
       "  background-position: center center;\n",
       "}\n",
       "\n",
       "/* Parallel-specific style estimator block */\n",
       "\n",
       "#sk-container-id-5 div.sk-parallel-item::after {\n",
       "  content: \"\";\n",
       "  width: 100%;\n",
       "  border-bottom: 2px solid var(--sklearn-color-text-on-default-background);\n",
       "  flex-grow: 1;\n",
       "}\n",
       "\n",
       "#sk-container-id-5 div.sk-parallel {\n",
       "  display: flex;\n",
       "  align-items: stretch;\n",
       "  justify-content: center;\n",
       "  background-color: var(--sklearn-color-background);\n",
       "  position: relative;\n",
       "}\n",
       "\n",
       "#sk-container-id-5 div.sk-parallel-item {\n",
       "  display: flex;\n",
       "  flex-direction: column;\n",
       "}\n",
       "\n",
       "#sk-container-id-5 div.sk-parallel-item:first-child::after {\n",
       "  align-self: flex-end;\n",
       "  width: 50%;\n",
       "}\n",
       "\n",
       "#sk-container-id-5 div.sk-parallel-item:last-child::after {\n",
       "  align-self: flex-start;\n",
       "  width: 50%;\n",
       "}\n",
       "\n",
       "#sk-container-id-5 div.sk-parallel-item:only-child::after {\n",
       "  width: 0;\n",
       "}\n",
       "\n",
       "/* Serial-specific style estimator block */\n",
       "\n",
       "#sk-container-id-5 div.sk-serial {\n",
       "  display: flex;\n",
       "  flex-direction: column;\n",
       "  align-items: center;\n",
       "  background-color: var(--sklearn-color-background);\n",
       "  padding-right: 1em;\n",
       "  padding-left: 1em;\n",
       "}\n",
       "\n",
       "\n",
       "/* Toggleable style: style used for estimator/Pipeline/ColumnTransformer box that is\n",
       "clickable and can be expanded/collapsed.\n",
       "- Pipeline and ColumnTransformer use this feature and define the default style\n",
       "- Estimators will overwrite some part of the style using the `sk-estimator` class\n",
       "*/\n",
       "\n",
       "/* Pipeline and ColumnTransformer style (default) */\n",
       "\n",
       "#sk-container-id-5 div.sk-toggleable {\n",
       "  /* Default theme specific background. It is overwritten whether we have a\n",
       "  specific estimator or a Pipeline/ColumnTransformer */\n",
       "  background-color: var(--sklearn-color-background);\n",
       "}\n",
       "\n",
       "/* Toggleable label */\n",
       "#sk-container-id-5 label.sk-toggleable__label {\n",
       "  cursor: pointer;\n",
       "  display: flex;\n",
       "  width: 100%;\n",
       "  margin-bottom: 0;\n",
       "  padding: 0.5em;\n",
       "  box-sizing: border-box;\n",
       "  text-align: center;\n",
       "  align-items: start;\n",
       "  justify-content: space-between;\n",
       "  gap: 0.5em;\n",
       "}\n",
       "\n",
       "#sk-container-id-5 label.sk-toggleable__label .caption {\n",
       "  font-size: 0.6rem;\n",
       "  font-weight: lighter;\n",
       "  color: var(--sklearn-color-text-muted);\n",
       "}\n",
       "\n",
       "#sk-container-id-5 label.sk-toggleable__label-arrow:before {\n",
       "  /* Arrow on the left of the label */\n",
       "  content: \"▸\";\n",
       "  float: left;\n",
       "  margin-right: 0.25em;\n",
       "  color: var(--sklearn-color-icon);\n",
       "}\n",
       "\n",
       "#sk-container-id-5 label.sk-toggleable__label-arrow:hover:before {\n",
       "  color: var(--sklearn-color-text);\n",
       "}\n",
       "\n",
       "/* Toggleable content - dropdown */\n",
       "\n",
       "#sk-container-id-5 div.sk-toggleable__content {\n",
       "  max-height: 0;\n",
       "  max-width: 0;\n",
       "  overflow: hidden;\n",
       "  text-align: left;\n",
       "  /* unfitted */\n",
       "  background-color: var(--sklearn-color-unfitted-level-0);\n",
       "}\n",
       "\n",
       "#sk-container-id-5 div.sk-toggleable__content.fitted {\n",
       "  /* fitted */\n",
       "  background-color: var(--sklearn-color-fitted-level-0);\n",
       "}\n",
       "\n",
       "#sk-container-id-5 div.sk-toggleable__content pre {\n",
       "  margin: 0.2em;\n",
       "  border-radius: 0.25em;\n",
       "  color: var(--sklearn-color-text);\n",
       "  /* unfitted */\n",
       "  background-color: var(--sklearn-color-unfitted-level-0);\n",
       "}\n",
       "\n",
       "#sk-container-id-5 div.sk-toggleable__content.fitted pre {\n",
       "  /* unfitted */\n",
       "  background-color: var(--sklearn-color-fitted-level-0);\n",
       "}\n",
       "\n",
       "#sk-container-id-5 input.sk-toggleable__control:checked~div.sk-toggleable__content {\n",
       "  /* Expand drop-down */\n",
       "  max-height: 200px;\n",
       "  max-width: 100%;\n",
       "  overflow: auto;\n",
       "}\n",
       "\n",
       "#sk-container-id-5 input.sk-toggleable__control:checked~label.sk-toggleable__label-arrow:before {\n",
       "  content: \"▾\";\n",
       "}\n",
       "\n",
       "/* Pipeline/ColumnTransformer-specific style */\n",
       "\n",
       "#sk-container-id-5 div.sk-label input.sk-toggleable__control:checked~label.sk-toggleable__label {\n",
       "  color: var(--sklearn-color-text);\n",
       "  background-color: var(--sklearn-color-unfitted-level-2);\n",
       "}\n",
       "\n",
       "#sk-container-id-5 div.sk-label.fitted input.sk-toggleable__control:checked~label.sk-toggleable__label {\n",
       "  background-color: var(--sklearn-color-fitted-level-2);\n",
       "}\n",
       "\n",
       "/* Estimator-specific style */\n",
       "\n",
       "/* Colorize estimator box */\n",
       "#sk-container-id-5 div.sk-estimator input.sk-toggleable__control:checked~label.sk-toggleable__label {\n",
       "  /* unfitted */\n",
       "  background-color: var(--sklearn-color-unfitted-level-2);\n",
       "}\n",
       "\n",
       "#sk-container-id-5 div.sk-estimator.fitted input.sk-toggleable__control:checked~label.sk-toggleable__label {\n",
       "  /* fitted */\n",
       "  background-color: var(--sklearn-color-fitted-level-2);\n",
       "}\n",
       "\n",
       "#sk-container-id-5 div.sk-label label.sk-toggleable__label,\n",
       "#sk-container-id-5 div.sk-label label {\n",
       "  /* The background is the default theme color */\n",
       "  color: var(--sklearn-color-text-on-default-background);\n",
       "}\n",
       "\n",
       "/* On hover, darken the color of the background */\n",
       "#sk-container-id-5 div.sk-label:hover label.sk-toggleable__label {\n",
       "  color: var(--sklearn-color-text);\n",
       "  background-color: var(--sklearn-color-unfitted-level-2);\n",
       "}\n",
       "\n",
       "/* Label box, darken color on hover, fitted */\n",
       "#sk-container-id-5 div.sk-label.fitted:hover label.sk-toggleable__label.fitted {\n",
       "  color: var(--sklearn-color-text);\n",
       "  background-color: var(--sklearn-color-fitted-level-2);\n",
       "}\n",
       "\n",
       "/* Estimator label */\n",
       "\n",
       "#sk-container-id-5 div.sk-label label {\n",
       "  font-family: monospace;\n",
       "  font-weight: bold;\n",
       "  display: inline-block;\n",
       "  line-height: 1.2em;\n",
       "}\n",
       "\n",
       "#sk-container-id-5 div.sk-label-container {\n",
       "  text-align: center;\n",
       "}\n",
       "\n",
       "/* Estimator-specific */\n",
       "#sk-container-id-5 div.sk-estimator {\n",
       "  font-family: monospace;\n",
       "  border: 1px dotted var(--sklearn-color-border-box);\n",
       "  border-radius: 0.25em;\n",
       "  box-sizing: border-box;\n",
       "  margin-bottom: 0.5em;\n",
       "  /* unfitted */\n",
       "  background-color: var(--sklearn-color-unfitted-level-0);\n",
       "}\n",
       "\n",
       "#sk-container-id-5 div.sk-estimator.fitted {\n",
       "  /* fitted */\n",
       "  background-color: var(--sklearn-color-fitted-level-0);\n",
       "}\n",
       "\n",
       "/* on hover */\n",
       "#sk-container-id-5 div.sk-estimator:hover {\n",
       "  /* unfitted */\n",
       "  background-color: var(--sklearn-color-unfitted-level-2);\n",
       "}\n",
       "\n",
       "#sk-container-id-5 div.sk-estimator.fitted:hover {\n",
       "  /* fitted */\n",
       "  background-color: var(--sklearn-color-fitted-level-2);\n",
       "}\n",
       "\n",
       "/* Specification for estimator info (e.g. \"i\" and \"?\") */\n",
       "\n",
       "/* Common style for \"i\" and \"?\" */\n",
       "\n",
       ".sk-estimator-doc-link,\n",
       "a:link.sk-estimator-doc-link,\n",
       "a:visited.sk-estimator-doc-link {\n",
       "  float: right;\n",
       "  font-size: smaller;\n",
       "  line-height: 1em;\n",
       "  font-family: monospace;\n",
       "  background-color: var(--sklearn-color-background);\n",
       "  border-radius: 1em;\n",
       "  height: 1em;\n",
       "  width: 1em;\n",
       "  text-decoration: none !important;\n",
       "  margin-left: 0.5em;\n",
       "  text-align: center;\n",
       "  /* unfitted */\n",
       "  border: var(--sklearn-color-unfitted-level-1) 1pt solid;\n",
       "  color: var(--sklearn-color-unfitted-level-1);\n",
       "}\n",
       "\n",
       ".sk-estimator-doc-link.fitted,\n",
       "a:link.sk-estimator-doc-link.fitted,\n",
       "a:visited.sk-estimator-doc-link.fitted {\n",
       "  /* fitted */\n",
       "  border: var(--sklearn-color-fitted-level-1) 1pt solid;\n",
       "  color: var(--sklearn-color-fitted-level-1);\n",
       "}\n",
       "\n",
       "/* On hover */\n",
       "div.sk-estimator:hover .sk-estimator-doc-link:hover,\n",
       ".sk-estimator-doc-link:hover,\n",
       "div.sk-label-container:hover .sk-estimator-doc-link:hover,\n",
       ".sk-estimator-doc-link:hover {\n",
       "  /* unfitted */\n",
       "  background-color: var(--sklearn-color-unfitted-level-3);\n",
       "  color: var(--sklearn-color-background);\n",
       "  text-decoration: none;\n",
       "}\n",
       "\n",
       "div.sk-estimator.fitted:hover .sk-estimator-doc-link.fitted:hover,\n",
       ".sk-estimator-doc-link.fitted:hover,\n",
       "div.sk-label-container:hover .sk-estimator-doc-link.fitted:hover,\n",
       ".sk-estimator-doc-link.fitted:hover {\n",
       "  /* fitted */\n",
       "  background-color: var(--sklearn-color-fitted-level-3);\n",
       "  color: var(--sklearn-color-background);\n",
       "  text-decoration: none;\n",
       "}\n",
       "\n",
       "/* Span, style for the box shown on hovering the info icon */\n",
       ".sk-estimator-doc-link span {\n",
       "  display: none;\n",
       "  z-index: 9999;\n",
       "  position: relative;\n",
       "  font-weight: normal;\n",
       "  right: .2ex;\n",
       "  padding: .5ex;\n",
       "  margin: .5ex;\n",
       "  width: min-content;\n",
       "  min-width: 20ex;\n",
       "  max-width: 50ex;\n",
       "  color: var(--sklearn-color-text);\n",
       "  box-shadow: 2pt 2pt 4pt #999;\n",
       "  /* unfitted */\n",
       "  background: var(--sklearn-color-unfitted-level-0);\n",
       "  border: .5pt solid var(--sklearn-color-unfitted-level-3);\n",
       "}\n",
       "\n",
       ".sk-estimator-doc-link.fitted span {\n",
       "  /* fitted */\n",
       "  background: var(--sklearn-color-fitted-level-0);\n",
       "  border: var(--sklearn-color-fitted-level-3);\n",
       "}\n",
       "\n",
       ".sk-estimator-doc-link:hover span {\n",
       "  display: block;\n",
       "}\n",
       "\n",
       "/* \"?\"-specific style due to the `<a>` HTML tag */\n",
       "\n",
       "#sk-container-id-5 a.estimator_doc_link {\n",
       "  float: right;\n",
       "  font-size: 1rem;\n",
       "  line-height: 1em;\n",
       "  font-family: monospace;\n",
       "  background-color: var(--sklearn-color-background);\n",
       "  border-radius: 1rem;\n",
       "  height: 1rem;\n",
       "  width: 1rem;\n",
       "  text-decoration: none;\n",
       "  /* unfitted */\n",
       "  color: var(--sklearn-color-unfitted-level-1);\n",
       "  border: var(--sklearn-color-unfitted-level-1) 1pt solid;\n",
       "}\n",
       "\n",
       "#sk-container-id-5 a.estimator_doc_link.fitted {\n",
       "  /* fitted */\n",
       "  border: var(--sklearn-color-fitted-level-1) 1pt solid;\n",
       "  color: var(--sklearn-color-fitted-level-1);\n",
       "}\n",
       "\n",
       "/* On hover */\n",
       "#sk-container-id-5 a.estimator_doc_link:hover {\n",
       "  /* unfitted */\n",
       "  background-color: var(--sklearn-color-unfitted-level-3);\n",
       "  color: var(--sklearn-color-background);\n",
       "  text-decoration: none;\n",
       "}\n",
       "\n",
       "#sk-container-id-5 a.estimator_doc_link.fitted:hover {\n",
       "  /* fitted */\n",
       "  background-color: var(--sklearn-color-fitted-level-3);\n",
       "}\n",
       "</style><div id=\"sk-container-id-5\" class=\"sk-top-container\"><div class=\"sk-text-repr-fallback\"><pre>LogisticRegression(solver=&#x27;liblinear&#x27;)</pre><b>In a Jupyter environment, please rerun this cell to show the HTML representation or trust the notebook. <br />On GitHub, the HTML representation is unable to render, please try loading this page with nbviewer.org.</b></div><div class=\"sk-container\" hidden><div class=\"sk-item\"><div class=\"sk-estimator fitted sk-toggleable\"><input class=\"sk-toggleable__control sk-hidden--visually\" id=\"sk-estimator-id-5\" type=\"checkbox\" checked><label for=\"sk-estimator-id-5\" class=\"sk-toggleable__label fitted sk-toggleable__label-arrow\"><div><div>LogisticRegression</div></div><div><a class=\"sk-estimator-doc-link fitted\" rel=\"noreferrer\" target=\"_blank\" href=\"https://scikit-learn.org/1.6/modules/generated/sklearn.linear_model.LogisticRegression.html\">?<span>Documentation for LogisticRegression</span></a><span class=\"sk-estimator-doc-link fitted\">i<span>Fitted</span></span></div></label><div class=\"sk-toggleable__content fitted\"><pre>LogisticRegression(solver=&#x27;liblinear&#x27;)</pre></div> </div></div></div></div>"
      ],
      "text/plain": [
       "LogisticRegression(solver='liblinear')"
      ]
     },
     "execution_count": 78,
     "metadata": {},
     "output_type": "execute_result"
    }
   ],
   "source": [
    "model.fit(train_inputs[numeric_col_final+encoded_cols],train_target)   #Targets can be catagorical be inputs cannot be catagorical"
   ]
  },
  {
   "cell_type": "code",
   "execution_count": 86,
   "metadata": {},
   "outputs": [
    {
     "name": "stdout",
     "output_type": "stream",
     "text": [
      "72      77\n",
      "2811    60\n",
      "836     61\n",
      "3183    88\n",
      "3181    71\n",
      "        ..\n",
      "3654    26\n",
      "3491    68\n",
      "3077    41\n",
      "1440    38\n",
      "1046    48\n",
      "Name: Recorded_Speed, Length: 3200, dtype: int64\n"
     ]
    }
   ],
   "source": [
    "model.coef_.tolist()\n",
    "train_inputs[numeric_col_final+encoded_cols]\n",
    "print(train_target)"
   ]
  },
  {
   "cell_type": "code",
   "execution_count": 90,
   "metadata": {},
   "outputs": [
    {
     "data": {
      "text/plain": [
       "np.float64(-1.630402942430967)"
      ]
     },
     "execution_count": 90,
     "metadata": {},
     "output_type": "execute_result"
    }
   ],
   "source": [
    "list(model.intercept_)\n",
    "model.intercept_[0]"
   ]
  },
  {
   "cell_type": "code",
   "execution_count": null,
   "metadata": {},
   "outputs": [
    {
     "data": {
      "text/plain": [
       "<Axes: xlabel='weight', ylabel='feature'>"
      ]
     },
     "execution_count": 116,
     "metadata": {},
     "output_type": "execute_result"
    },
    {
     "data": {
      "image/png": "[encoded data removed]",
      "text/plain": [
       "<Figure size 640x480 with 1 Axes>"
      ]
     },
     "metadata": {},
     "output_type": "display_data"
    }
   ],
   "source": [
    "weight_df=pd.DataFrame({\n",
    "        \"feature\":numeric_col_final+encoded_cols,\n",
    "         \"weight\":model.coef_.tolist()[0]\n",
    "\n",
    "\n",
    "})\n",
    "\n",
    "\n",
    "\n",
    "weight_df_10=weight_df.sort_values(\"weight\",ascending=False).head(10)\n",
    "sns.barplot(data=weight_df_10,x=\"weight\",y=\"feature\")"
   ]
  },
  {
   "cell_type": "code",
   "execution_count": 119,
   "metadata": {},
   "outputs": [
    {
     "data": {
      "text/plain": [
       "<Axes: xlabel='weight', ylabel='feature'>"
      ]
     },
     "execution_count": 119,
     "metadata": {},
     "output_type": "execute_result"
    },
    {
     "data": {
      "image/png": "[encoded data removed]",
      "text/plain": [
       "<Figure size 640x480 with 1 Axes>"
      ]
     },
     "metadata": {},
     "output_type": "display_data"
    }
   ],
   "source": [
    "\n",
    "weight_df_11=weight_df.sort_values(\"weight\",ascending=True).head(10)\n",
    "sns.barplot(data=weight_df_11,x=\"weight\",y=\"feature\")"
   ]
  },
  {
   "cell_type": "code",
   "execution_count": 120,
   "metadata": {},
   "outputs": [
    {
     "data": {
      "text/plain": [
       "<Axes: xlabel='weight', ylabel='feature'>"
      ]
     },
     "execution_count": 120,
     "metadata": {},
     "output_type": "execute_result"
    },
    {
     "data": {
      "image/png": "[encoded data removed]",
      "text/plain": [
       "<Figure size 640x480 with 1 Axes>"
      ]
     },
     "metadata": {},
     "output_type": "display_data"
    }
   ],
   "source": [
    "sns.barplot(data=weight_df,x=\"weight\",y=\"feature\")"
   ]
  },
  {
   "cell_type": "code",
   "execution_count": 143,
   "metadata": {},
   "outputs": [
    {
     "data": {
      "text/plain": [
       "[77.0,\n",
       " 60.0,\n",
       " 61.0,\n",
       " 88.0,\n",
       " 71.0,\n",
       " 41.0,\n",
       " 51.0,\n",
       " 33.0,\n",
       " 82.0,\n",
       " 93.0,\n",
       " 61.0,\n",
       " 36.0,\n",
       " 53.0,\n",
       " 98.0,\n",
       " 113.0,\n",
       " 88.0,\n",
       " 114.0,\n",
       " 108.0,\n",
       " 76.0,\n",
       " 106.0,\n",
       " 61.0,\n",
       " 68.0,\n",
       " 28.0,\n",
       " 110.0,\n",
       " 25.0,\n",
       " 88.0,\n",
       " 53.0,\n",
       " 107.0,\n",
       " 117.0,\n",
       " 64.0,\n",
       " 78.0,\n",
       " 113.0,\n",
       " 30.0,\n",
       " 77.0,\n",
       " 115.0,\n",
       " 75.0,\n",
       " 73.0,\n",
       " 76.0,\n",
       " 78.0,\n",
       " 82.0,\n",
       " 51.0,\n",
       " 113.0,\n",
       " 38.0,\n",
       " 62.0,\n",
       " 98.0,\n",
       " 97.0,\n",
       " 62.0,\n",
       " 62.0,\n",
       " 105.0,\n",
       " 56.0,\n",
       " 81.0,\n",
       " 72.0,\n",
       " 116.0,\n",
       " 69.0,\n",
       " 30.0,\n",
       " 20.0,\n",
       " 22.0,\n",
       " 42.0,\n",
       " 61.0,\n",
       " 24.0,\n",
       " 89.0,\n",
       " 92.0,\n",
       " 111.0,\n",
       " 26.0,\n",
       " 112.0,\n",
       " 46.0,\n",
       " 73.0,\n",
       " 57.0,\n",
       " 74.0,\n",
       " 64.0,\n",
       " 110.0,\n",
       " 92.0,\n",
       " 66.0,\n",
       " 76.0,\n",
       " 55.0,\n",
       " 45.0,\n",
       " 68.0,\n",
       " 116.0,\n",
       " 31.0,\n",
       " 21.0,\n",
       " 48.0,\n",
       " 90.0,\n",
       " 72.0,\n",
       " 77.0,\n",
       " 76.0,\n",
       " 37.0,\n",
       " 20.0,\n",
       " 40.0,\n",
       " 111.0,\n",
       " 54.0,\n",
       " 72.0,\n",
       " 76.0,\n",
       " 31.0,\n",
       " 33.0,\n",
       " 53.0,\n",
       " 67.0,\n",
       " 22.0,\n",
       " 119.0,\n",
       " 33.0,\n",
       " 20.0,\n",
       " 57.0,\n",
       " 73.0,\n",
       " 27.0,\n",
       " 88.0,\n",
       " 27.0,\n",
       " 78.0,\n",
       " 55.0,\n",
       " 27.0,\n",
       " 104.0,\n",
       " 25.0,\n",
       " 23.0,\n",
       " 20.0,\n",
       " 99.0,\n",
       " 50.0,\n",
       " 55.0,\n",
       " 86.0,\n",
       " 52.0,\n",
       " 85.0,\n",
       " 45.0,\n",
       " 84.0,\n",
       " 97.0,\n",
       " 66.0,\n",
       " 94.0,\n",
       " 84.0,\n",
       " 82.0,\n",
       " 39.0,\n",
       " 114.0,\n",
       " 110.0,\n",
       " 45.0,\n",
       " 67.0,\n",
       " 25.0,\n",
       " 103.0,\n",
       " 58.0,\n",
       " 70.0,\n",
       " 33.0,\n",
       " 42.0,\n",
       " 62.0,\n",
       " 42.0,\n",
       " 49.0,\n",
       " 79.0,\n",
       " 42.0,\n",
       " 106.0,\n",
       " 90.0,\n",
       " 50.0,\n",
       " 43.0,\n",
       " 64.0,\n",
       " 59.0,\n",
       " 49.0,\n",
       " 102.0,\n",
       " 35.0,\n",
       " 82.0,\n",
       " 74.0,\n",
       " 103.0,\n",
       " 111.0,\n",
       " 38.0,\n",
       " 74.0,\n",
       " 33.0,\n",
       " 67.0,\n",
       " 41.0,\n",
       " 85.0,\n",
       " 33.0,\n",
       " 87.0,\n",
       " 90.0,\n",
       " 115.0,\n",
       " 101.0,\n",
       " 20.0,\n",
       " 93.0,\n",
       " 101.0,\n",
       " 109.0,\n",
       " 101.0,\n",
       " 100.0,\n",
       " 114.0,\n",
       " 111.0,\n",
       " 72.0,\n",
       " 99.0,\n",
       " 56.0,\n",
       " 104.0,\n",
       " 46.0,\n",
       " 45.0,\n",
       " 62.0,\n",
       " 92.0,\n",
       " 25.0,\n",
       " 84.0,\n",
       " 26.0,\n",
       " 117.0,\n",
       " 46.0,\n",
       " 24.0,\n",
       " 98.0,\n",
       " 106.0,\n",
       " 100.0,\n",
       " 51.0,\n",
       " 29.0,\n",
       " 45.0,\n",
       " 42.0,\n",
       " 55.0,\n",
       " 28.0,\n",
       " 20.0,\n",
       " 111.0,\n",
       " 91.0,\n",
       " 111.0,\n",
       " 27.0,\n",
       " 30.0,\n",
       " 43.0,\n",
       " 96.0,\n",
       " 30.0,\n",
       " 107.0,\n",
       " 90.0,\n",
       " 51.0,\n",
       " 84.0,\n",
       " 86.0,\n",
       " 72.0,\n",
       " 102.0,\n",
       " 108.0,\n",
       " 59.0,\n",
       " 103.0,\n",
       " 47.0,\n",
       " 29.0,\n",
       " 54.0,\n",
       " 31.0,\n",
       " 114.0,\n",
       " 93.0,\n",
       " 58.0,\n",
       " 63.0,\n",
       " 115.0,\n",
       " 83.0,\n",
       " 105.0,\n",
       " 116.0,\n",
       " 87.0,\n",
       " 40.0,\n",
       " 87.0,\n",
       " 28.0,\n",
       " 69.0,\n",
       " 72.0,\n",
       " 21.0,\n",
       " 81.0,\n",
       " 109.0,\n",
       " 77.0,\n",
       " 91.0,\n",
       " 116.0,\n",
       " 39.0,\n",
       " 98.0,\n",
       " 64.0,\n",
       " 58.0,\n",
       " 45.0,\n",
       " 107.0,\n",
       " 68.0,\n",
       " 38.0,\n",
       " 51.0,\n",
       " 20.0,\n",
       " 34.0,\n",
       " 93.0,\n",
       " 61.0,\n",
       " 107.0,\n",
       " 29.0,\n",
       " 26.0,\n",
       " 41.0,\n",
       " 71.0,\n",
       " 52.0,\n",
       " 120.0,\n",
       " 23.0,\n",
       " 43.0,\n",
       " 111.0,\n",
       " 104.0,\n",
       " 89.0,\n",
       " 49.0,\n",
       " 104.0,\n",
       " 36.0,\n",
       " 46.0,\n",
       " 97.0,\n",
       " 72.0,\n",
       " 106.0,\n",
       " 88.0,\n",
       " 89.0,\n",
       " 32.0,\n",
       " 73.0,\n",
       " 54.0,\n",
       " 119.0,\n",
       " 44.0,\n",
       " 56.0,\n",
       " 87.0,\n",
       " 104.0,\n",
       " 113.0,\n",
       " 53.0,\n",
       " 25.0,\n",
       " 55.0,\n",
       " 82.0,\n",
       " 32.0,\n",
       " 27.0,\n",
       " 84.0,\n",
       " 53.0,\n",
       " 110.0,\n",
       " 67.0,\n",
       " 38.0,\n",
       " 93.0,\n",
       " 48.0,\n",
       " 43.0,\n",
       " 95.0,\n",
       " 120.0,\n",
       " 109.0,\n",
       " 62.0,\n",
       " 108.0,\n",
       " 104.0,\n",
       " 48.0,\n",
       " 71.0,\n",
       " 52.0,\n",
       " 73.0,\n",
       " 38.0,\n",
       " 111.0,\n",
       " 70.0,\n",
       " 79.0,\n",
       " 65.0,\n",
       " 26.0,\n",
       " 87.0,\n",
       " 33.0,\n",
       " 49.0,\n",
       " 97.0,\n",
       " 69.0,\n",
       " 114.0,\n",
       " 88.0,\n",
       " 97.0,\n",
       " 55.0,\n",
       " 90.0,\n",
       " 50.0,\n",
       " 57.0,\n",
       " 28.0,\n",
       " 72.0,\n",
       " 81.0,\n",
       " 94.0,\n",
       " 45.0,\n",
       " 100.0,\n",
       " 93.0,\n",
       " 33.0,\n",
       " 36.0,\n",
       " 70.0,\n",
       " 117.0,\n",
       " 94.0,\n",
       " 105.0,\n",
       " 53.0,\n",
       " 50.0,\n",
       " 73.0,\n",
       " 113.0,\n",
       " 35.0,\n",
       " 49.0,\n",
       " 61.0,\n",
       " 110.0,\n",
       " 55.0,\n",
       " 105.0,\n",
       " 106.0,\n",
       " 37.0,\n",
       " 23.0,\n",
       " 32.0,\n",
       " 99.0,\n",
       " 114.0,\n",
       " 97.0,\n",
       " 109.0,\n",
       " 20.0,\n",
       " 80.0,\n",
       " 73.0,\n",
       " 87.0,\n",
       " 98.0,\n",
       " 92.0,\n",
       " 74.0,\n",
       " 109.0,\n",
       " 100.0,\n",
       " 81.0,\n",
       " 70.0,\n",
       " 39.0,\n",
       " 29.0,\n",
       " 41.0,\n",
       " 97.0,\n",
       " 55.0,\n",
       " 81.0,\n",
       " 52.0,\n",
       " 80.0,\n",
       " 53.0,\n",
       " 101.0,\n",
       " 42.0,\n",
       " 85.0,\n",
       " 46.0,\n",
       " 111.0,\n",
       " 94.0,\n",
       " 22.0,\n",
       " 39.0,\n",
       " 55.0,\n",
       " 27.0,\n",
       " 104.0,\n",
       " 77.0,\n",
       " 78.0,\n",
       " 24.0,\n",
       " 115.0,\n",
       " 30.0,\n",
       " 62.0,\n",
       " 53.0,\n",
       " 105.0,\n",
       " 92.0,\n",
       " 63.0,\n",
       " 83.0,\n",
       " 120.0,\n",
       " 106.0,\n",
       " 31.0,\n",
       " 26.0,\n",
       " 51.0,\n",
       " 54.0,\n",
       " 55.0,\n",
       " 94.0,\n",
       " 120.0,\n",
       " 22.0,\n",
       " 114.0,\n",
       " 95.0,\n",
       " 114.0,\n",
       " 32.0,\n",
       " 118.0,\n",
       " 45.0,\n",
       " 61.0,\n",
       " 72.0,\n",
       " 99.0,\n",
       " 117.0,\n",
       " 82.0,\n",
       " 102.0,\n",
       " 72.0,\n",
       " 81.0,\n",
       " 92.0,\n",
       " 82.0,\n",
       " 42.0,\n",
       " 37.0,\n",
       " 98.0,\n",
       " 82.0,\n",
       " 94.0,\n",
       " 97.0,\n",
       " 93.0,\n",
       " 26.0,\n",
       " 37.0,\n",
       " 20.0,\n",
       " 88.0,\n",
       " 57.0,\n",
       " 78.0,\n",
       " 39.0,\n",
       " 63.0,\n",
       " 73.0,\n",
       " 35.0,\n",
       " 36.0,\n",
       " 119.0,\n",
       " 110.0,\n",
       " 58.0,\n",
       " 95.0,\n",
       " 118.0,\n",
       " 119.0,\n",
       " 20.0,\n",
       " 45.0,\n",
       " 76.0,\n",
       " 82.0,\n",
       " 95.0,\n",
       " 87.0,\n",
       " 47.0,\n",
       " 67.0,\n",
       " 75.0,\n",
       " 83.0,\n",
       " 82.0,\n",
       " 39.0,\n",
       " 23.0,\n",
       " 22.0,\n",
       " 37.0,\n",
       " 82.0,\n",
       " 61.0,\n",
       " 102.0,\n",
       " 64.0,\n",
       " 24.0,\n",
       " 94.0,\n",
       " 120.0,\n",
       " 51.0,\n",
       " 90.0,\n",
       " 89.0,\n",
       " 50.0,\n",
       " 120.0,\n",
       " 94.0,\n",
       " 66.0,\n",
       " 117.0,\n",
       " 117.0,\n",
       " 115.0,\n",
       " 48.0,\n",
       " 44.0,\n",
       " 29.0,\n",
       " 50.0,\n",
       " 112.0,\n",
       " 53.0,\n",
       " 43.0,\n",
       " 26.0,\n",
       " 104.0,\n",
       " 24.0,\n",
       " 59.0,\n",
       " 111.0,\n",
       " 57.0,\n",
       " 28.0,\n",
       " 62.0,\n",
       " 31.0,\n",
       " 43.0,\n",
       " 95.0,\n",
       " 107.0,\n",
       " 53.0,\n",
       " 99.0,\n",
       " 30.0,\n",
       " 34.0,\n",
       " 65.0,\n",
       " 83.0,\n",
       " 108.0,\n",
       " 20.0,\n",
       " 104.0,\n",
       " 90.0,\n",
       " 108.0,\n",
       " 71.0,\n",
       " 73.0,\n",
       " 98.0,\n",
       " 31.0,\n",
       " 97.0,\n",
       " 83.0,\n",
       " 32.0,\n",
       " 42.0,\n",
       " 53.0,\n",
       " 20.0,\n",
       " 89.0,\n",
       " 48.0,\n",
       " 84.0,\n",
       " 92.0,\n",
       " 99.0,\n",
       " 52.0,\n",
       " 120.0,\n",
       " 79.0,\n",
       " 102.0,\n",
       " 36.0,\n",
       " 105.0,\n",
       " 78.0,\n",
       " 28.0,\n",
       " 21.0,\n",
       " 100.0,\n",
       " 31.0,\n",
       " 88.0,\n",
       " 73.0,\n",
       " 119.0,\n",
       " 69.0,\n",
       " 27.0,\n",
       " 119.0,\n",
       " 60.0,\n",
       " 53.0,\n",
       " 98.0,\n",
       " 102.0,\n",
       " 93.0,\n",
       " 116.0,\n",
       " 101.0,\n",
       " 78.0,\n",
       " 74.0,\n",
       " 62.0,\n",
       " 20.0,\n",
       " 27.0,\n",
       " 82.0,\n",
       " 87.0,\n",
       " 39.0,\n",
       " 95.0,\n",
       " 83.0,\n",
       " 104.0,\n",
       " 54.0,\n",
       " 86.0,\n",
       " 30.0,\n",
       " 75.0,\n",
       " 64.0,\n",
       " 91.0,\n",
       " 71.0,\n",
       " 62.0,\n",
       " 41.0,\n",
       " 57.0,\n",
       " 21.0,\n",
       " 104.0,\n",
       " 51.0,\n",
       " 84.0,\n",
       " 95.0,\n",
       " 103.0,\n",
       " 28.0,\n",
       " 56.0,\n",
       " 69.0,\n",
       " 49.0,\n",
       " 22.0,\n",
       " 21.0,\n",
       " 24.0,\n",
       " 102.0,\n",
       " 66.0,\n",
       " 98.0,\n",
       " 31.0,\n",
       " 65.0,\n",
       " 44.0,\n",
       " 59.0,\n",
       " 37.0,\n",
       " 88.0,\n",
       " 70.0,\n",
       " 100.0,\n",
       " 107.0,\n",
       " 27.0,\n",
       " 24.0,\n",
       " 21.0,\n",
       " 110.0,\n",
       " 110.0,\n",
       " 70.0,\n",
       " 106.0,\n",
       " 39.0,\n",
       " 107.0,\n",
       " 110.0,\n",
       " 70.0,\n",
       " 26.0,\n",
       " 53.0,\n",
       " 33.0,\n",
       " 77.0,\n",
       " 115.0,\n",
       " 33.0,\n",
       " 20.0,\n",
       " 37.0,\n",
       " 114.0,\n",
       " 29.0,\n",
       " 35.0,\n",
       " 44.0,\n",
       " 109.0,\n",
       " 29.0,\n",
       " 81.0,\n",
       " 58.0,\n",
       " 55.0,\n",
       " 44.0,\n",
       " 57.0,\n",
       " 73.0,\n",
       " 109.0,\n",
       " 95.0,\n",
       " 43.0,\n",
       " 77.0,\n",
       " 56.0,\n",
       " 42.0,\n",
       " 78.0,\n",
       " 99.0,\n",
       " 101.0,\n",
       " 93.0,\n",
       " 25.0,\n",
       " 99.0,\n",
       " 83.0,\n",
       " 44.0,\n",
       " 84.0,\n",
       " 66.0,\n",
       " 51.0,\n",
       " 64.0,\n",
       " 45.0,\n",
       " 114.0,\n",
       " 101.0,\n",
       " 73.0,\n",
       " 28.0,\n",
       " 105.0,\n",
       " 22.0,\n",
       " 76.0,\n",
       " 70.0,\n",
       " 61.0,\n",
       " 112.0,\n",
       " 29.0,\n",
       " 34.0,\n",
       " 27.0,\n",
       " 30.0,\n",
       " 61.0,\n",
       " 37.0,\n",
       " 60.0,\n",
       " 64.0,\n",
       " 67.0,\n",
       " 101.0,\n",
       " 67.0,\n",
       " 117.0,\n",
       " 116.0,\n",
       " 90.0,\n",
       " 64.0,\n",
       " 48.0,\n",
       " 102.0,\n",
       " 64.0,\n",
       " 71.0,\n",
       " 116.0,\n",
       " 49.0,\n",
       " 65.0,\n",
       " 39.0,\n",
       " 96.0,\n",
       " 57.0,\n",
       " 39.0,\n",
       " 64.0,\n",
       " 47.0,\n",
       " 37.0,\n",
       " 42.0,\n",
       " 70.0,\n",
       " 86.0,\n",
       " 41.0,\n",
       " 119.0,\n",
       " 43.0,\n",
       " 55.0,\n",
       " 76.0,\n",
       " 42.0,\n",
       " 109.0,\n",
       " 36.0,\n",
       " 89.0,\n",
       " 68.0,\n",
       " 79.0,\n",
       " 106.0,\n",
       " 51.0,\n",
       " 23.0,\n",
       " 92.0,\n",
       " 90.0,\n",
       " 72.0,\n",
       " 106.0,\n",
       " 118.0,\n",
       " 66.0,\n",
       " 77.0,\n",
       " 57.0,\n",
       " 23.0,\n",
       " 55.0,\n",
       " 92.0,\n",
       " 31.0,\n",
       " 52.0,\n",
       " 22.0,\n",
       " 63.0,\n",
       " 83.0,\n",
       " 24.0,\n",
       " 85.0,\n",
       " 54.0,\n",
       " 115.0,\n",
       " 29.0,\n",
       " 87.0,\n",
       " 88.0,\n",
       " 42.0,\n",
       " 98.0,\n",
       " 40.0,\n",
       " 25.0,\n",
       " 71.0,\n",
       " 21.0,\n",
       " 52.0,\n",
       " 42.0,\n",
       " 33.0,\n",
       " 79.0,\n",
       " 118.0,\n",
       " 39.0,\n",
       " 33.0,\n",
       " 46.0,\n",
       " 109.0,\n",
       " 98.0,\n",
       " 57.0,\n",
       " 24.0,\n",
       " 69.0,\n",
       " 84.0,\n",
       " 115.0,\n",
       " 55.0,\n",
       " 38.0,\n",
       " 67.0,\n",
       " 97.0,\n",
       " 35.0,\n",
       " 66.0,\n",
       " 20.0,\n",
       " 36.0,\n",
       " 59.0,\n",
       " 114.0,\n",
       " 83.0,\n",
       " 82.0,\n",
       " 46.0,\n",
       " 47.0,\n",
       " 21.0,\n",
       " 47.0,\n",
       " 112.0,\n",
       " 115.0,\n",
       " 56.0,\n",
       " 33.0,\n",
       " 25.0,\n",
       " 75.0,\n",
       " 29.0,\n",
       " 117.0,\n",
       " 108.0,\n",
       " 29.0,\n",
       " 110.0,\n",
       " 87.0,\n",
       " 56.0,\n",
       " 106.0,\n",
       " 50.0,\n",
       " 20.0,\n",
       " 63.0,\n",
       " 43.0,\n",
       " 118.0,\n",
       " 102.0,\n",
       " 59.0,\n",
       " 73.0,\n",
       " 73.0,\n",
       " 114.0,\n",
       " 59.0,\n",
       " 104.0,\n",
       " 68.0,\n",
       " 43.0,\n",
       " 75.0,\n",
       " 31.0,\n",
       " 105.0,\n",
       " 43.0,\n",
       " 31.0,\n",
       " 92.0,\n",
       " 64.0,\n",
       " 68.0,\n",
       " 54.0,\n",
       " 53.0,\n",
       " 20.0,\n",
       " 110.0,\n",
       " 62.0,\n",
       " 55.0,\n",
       " 120.0,\n",
       " 38.0,\n",
       " 63.0,\n",
       " 28.0,\n",
       " 30.0,\n",
       " 83.0,\n",
       " 64.0,\n",
       " 86.0,\n",
       " 96.0,\n",
       " 74.0,\n",
       " 37.0,\n",
       " 62.0,\n",
       " 70.0,\n",
       " 81.0,\n",
       " 102.0,\n",
       " 84.0,\n",
       " 101.0,\n",
       " 115.0,\n",
       " 88.0,\n",
       " 115.0,\n",
       " 76.0,\n",
       " 42.0,\n",
       " 48.0,\n",
       " 116.0,\n",
       " 81.0,\n",
       " 31.0,\n",
       " 87.0,\n",
       " 89.0,\n",
       " 70.0,\n",
       " 29.0,\n",
       " 70.0,\n",
       " 97.0,\n",
       " 68.0,\n",
       " 85.0,\n",
       " 89.0,\n",
       " 60.0,\n",
       " 44.0,\n",
       " 98.0,\n",
       " 57.0,\n",
       " 90.0,\n",
       " 35.0,\n",
       " 117.0,\n",
       " 34.0,\n",
       " 97.0,\n",
       " 87.0,\n",
       " 37.0,\n",
       " 110.0,\n",
       " 99.0,\n",
       " 107.0,\n",
       " 68.0,\n",
       " 69.0,\n",
       " 74.0,\n",
       " 116.0,\n",
       " 74.0,\n",
       " 119.0,\n",
       " 118.0,\n",
       " 82.0,\n",
       " 56.0,\n",
       " 102.0,\n",
       " 89.0,\n",
       " 49.0,\n",
       " 68.0,\n",
       " 24.0,\n",
       " 98.0,\n",
       " 74.0,\n",
       " 60.0,\n",
       " 70.0,\n",
       " 109.0,\n",
       " 57.0,\n",
       " 53.0,\n",
       " 52.0,\n",
       " 78.0,\n",
       " 113.0,\n",
       " 49.0,\n",
       " 41.0,\n",
       " 116.0,\n",
       " 67.0,\n",
       " 107.0,\n",
       " 54.0,\n",
       " 60.0,\n",
       " 114.0,\n",
       " 58.0,\n",
       " 64.0,\n",
       " 102.0,\n",
       " 47.0,\n",
       " 98.0,\n",
       " 62.0,\n",
       " 55.0,\n",
       " 25.0,\n",
       " 114.0,\n",
       " 21.0,\n",
       " 23.0,\n",
       " 111.0,\n",
       " 47.0,\n",
       " 108.0,\n",
       " 89.0,\n",
       " 33.0,\n",
       " 25.0,\n",
       " 75.0,\n",
       " 37.0,\n",
       " 36.0,\n",
       " 80.0,\n",
       " 63.0,\n",
       " 35.0,\n",
       " 67.0,\n",
       " 82.0,\n",
       " 53.0,\n",
       " 52.0,\n",
       " 118.0,\n",
       " 36.0,\n",
       " 117.0,\n",
       " 94.0,\n",
       " 35.0,\n",
       " 26.0,\n",
       " 58.0,\n",
       " 78.0,\n",
       " 45.0,\n",
       " 44.0,\n",
       " 94.0,\n",
       " 95.0,\n",
       " 85.0,\n",
       " 26.0,\n",
       " 39.0,\n",
       " 83.0,\n",
       " 72.0,\n",
       " 34.0,\n",
       " 29.0,\n",
       " 113.0,\n",
       " 48.0,\n",
       " 98.0,\n",
       " 108.0,\n",
       " 63.0,\n",
       " 47.0,\n",
       " 98.0,\n",
       " 34.0,\n",
       " 81.0,\n",
       " 55.0,\n",
       " 84.0,\n",
       " 102.0,\n",
       " 76.0,\n",
       " 87.0,\n",
       " 63.0,\n",
       " 70.0,\n",
       " 85.0,\n",
       " 21.0,\n",
       " 29.0,\n",
       " 35.0,\n",
       " 63.0,\n",
       " 113.0,\n",
       " 31.0,\n",
       " 26.0,\n",
       " 97.0,\n",
       " 37.0,\n",
       " 47.0,\n",
       " 33.0,\n",
       " 109.0,\n",
       " 82.0,\n",
       " 108.0,\n",
       " 49.0,\n",
       " 29.0,\n",
       " 99.0,\n",
       " 47.0,\n",
       " 111.0,\n",
       " 118.0,\n",
       " 98.0,\n",
       " 87.0,\n",
       " 59.0,\n",
       " 103.0,\n",
       " 66.0,\n",
       " 64.0,\n",
       " 106.0,\n",
       " 77.0,\n",
       " 28.0,\n",
       " 80.0,\n",
       " 99.0,\n",
       " 52.0,\n",
       " 115.0,\n",
       " 66.0,\n",
       " 36.0,\n",
       " 28.0,\n",
       " 71.0,\n",
       " 37.0,\n",
       " 27.0,\n",
       " 97.0,\n",
       " 97.0,\n",
       " 64.0,\n",
       " 20.0,\n",
       " 68.0,\n",
       " 89.0,\n",
       " 72.0,\n",
       " 25.0,\n",
       " 84.0,\n",
       " 94.0,\n",
       " 21.0,\n",
       " 110.0,\n",
       " 33.0,\n",
       " 37.0,\n",
       " 86.0,\n",
       " ...]"
      ]
     },
     "execution_count": 143,
     "metadata": {},
     "output_type": "execute_result"
    }
   ],
   "source": [
    "prediction=model.predict(train_inputs[numeric_col_final+encoded_cols])\n",
    "list(train_df[target_col])\n"
   ]
  },
  {
   "cell_type": "code",
   "execution_count": 182,
   "metadata": {},
   "outputs": [
    {
     "name": "stdout",
     "output_type": "stream",
     "text": [
      "[np.int64(82), np.int64(30), np.int64(82), np.int64(110), np.int64(78), np.int64(32), np.int64(38), np.int64(30), np.int64(115), np.int64(84), np.int64(90), np.int64(26), np.int64(29), np.int64(72), np.int64(90), np.int64(106), np.int64(81), np.int64(84), np.int64(115), np.int64(104), np.int64(82), np.int64(48), np.int64(23), np.int64(70), np.int64(25), np.int64(82), np.int64(33), np.int64(115), np.int64(106), np.int64(38), np.int64(78), np.int64(102), np.int64(29), np.int64(109), np.int64(95), np.int64(115), np.int64(82), np.int64(82), np.int64(41), np.int64(82), np.int64(82), np.int64(82), np.int64(20), np.int64(110), np.int64(117), np.int64(70), np.int64(115), np.int64(84), np.int64(82), np.int64(73), np.int64(117), np.int64(95), np.int64(109), np.int64(84), np.int64(20), np.int64(70), np.int64(20), np.int64(106), np.int64(71), np.int64(28), np.int64(111), np.int64(102), np.int64(114), np.int64(32), np.int64(116), np.int64(82), np.int64(84), np.int64(46), np.int64(111), np.int64(78), np.int64(101), np.int64(110), np.int64(117), np.int64(84), np.int64(22), np.int64(81), np.int64(29), np.int64(102), np.int64(53), np.int64(21), np.int64(101), np.int64(44), np.int64(111), np.int64(102), np.int64(82), np.int64(82), np.int64(29), np.int64(72), np.int64(82), np.int64(21), np.int64(106), np.int64(46), np.int64(53), np.int64(27), np.int64(73), np.int64(84), np.int64(28), np.int64(92), np.int64(20), np.int64(44), np.int64(31), np.int64(21), np.int64(27), np.int64(84), np.int64(28), np.int64(106), np.int64(102), np.int64(32), np.int64(106), np.int64(25), np.int64(27), np.int64(20), np.int64(53), np.int64(33), np.int64(111), np.int64(117), np.int64(33), np.int64(87), np.int64(33), np.int64(109), np.int64(115), np.int64(20), np.int64(117), np.int64(84), np.int64(102), np.int64(44), np.int64(95), np.int64(116), np.int64(95), np.int64(111), np.int64(29), np.int64(88), np.int64(44), np.int64(70), np.int64(46), np.int64(33), np.int64(103), np.int64(53), np.int64(115), np.int64(84), np.int64(44), np.int64(106), np.int64(46), np.int64(92), np.int64(115), np.int64(115), np.int64(70), np.int64(23), np.int64(115), np.int64(41), np.int64(106), np.int64(41), np.int64(110), np.int64(115), np.int64(82), np.int64(117), np.int64(20), np.int64(22), np.int64(21), np.int64(115), np.int64(39), np.int64(78), np.int64(115), np.int64(117), np.int64(95), np.int64(28), np.int64(106), np.int64(117), np.int64(109), np.int64(84), np.int64(70), np.int64(102), np.int64(110), np.int64(72), np.int64(102), np.int64(20), np.int64(109), np.int64(46), np.int64(33), np.int64(84), np.int64(73), np.int64(22), np.int64(73), np.int64(25), np.int64(84), np.int64(78), np.int64(23), np.int64(90), np.int64(106), np.int64(106), np.int64(100), np.int64(44), np.int64(33), np.int64(29), np.int64(95), np.int64(38), np.int64(22), np.int64(117), np.int64(117), np.int64(71), np.int64(29), np.int64(30), np.int64(20), np.int64(84), np.int64(40), np.int64(117), np.int64(111), np.int64(32), np.int64(72), np.int64(116), np.int64(82), np.int64(82), np.int64(102), np.int64(117), np.int64(109), np.int64(84), np.int64(29), np.int64(33), np.int64(46), np.int64(82), np.int64(115), np.int64(41), np.int64(117), np.int64(115), np.int64(82), np.int64(106), np.int64(82), np.int64(103), np.int64(29), np.int64(82), np.int64(20), np.int64(22), np.int64(82), np.int64(32), np.int64(111), np.int64(109), np.int64(22), np.int64(20), np.int64(106), np.int64(39), np.int64(82), np.int64(23), np.int64(73), np.int64(108), np.int64(110), np.int64(78), np.int64(22), np.int64(115), np.int64(25), np.int64(25), np.int64(104), np.int64(115), np.int64(110), np.int64(20), np.int64(33), np.int64(38), np.int64(33), np.int64(36), np.int64(102), np.int64(20), np.int64(84), np.int64(78), np.int64(71), np.int64(106), np.int64(31), np.int64(78), np.int64(29), np.int64(46), np.int64(84), np.int64(119), np.int64(90), np.int64(101), np.int64(115), np.int64(90), np.int64(70), np.int64(46), np.int64(73), np.int64(28), np.int64(102), np.int64(110), np.int64(104), np.int64(115), np.int64(53), np.int64(32), np.int64(41), np.int64(109), np.int64(33), np.int64(33), np.int64(78), np.int64(117), np.int64(78), np.int64(55), np.int64(32), np.int64(111), np.int64(22), np.int64(33), np.int64(110), np.int64(117), np.int64(55), np.int64(84), np.int64(115), np.int64(84), np.int64(28), np.int64(119), np.int64(41), np.int64(73), np.int64(94), np.int64(102), np.int64(84), np.int64(20), np.int64(110), np.int64(23), np.int64(70), np.int64(29), np.int64(30), np.int64(117), np.int64(20), np.int64(102), np.int64(82), np.int64(114), np.int64(111), np.int64(115), np.int64(115), np.int64(106), np.int64(23), np.int64(116), np.int64(82), np.int64(82), np.int64(44), np.int64(84), np.int64(93), np.int64(39), np.int64(102), np.int64(29), np.int64(116), np.int64(111), np.int64(102), np.int64(22), np.int64(46), np.int64(39), np.int64(102), np.int64(84), np.int64(84), np.int64(106), np.int64(110), np.int64(23), np.int64(84), np.int64(115), np.int64(23), np.int64(27), np.int64(33), np.int64(111), np.int64(82), np.int64(72), np.int64(90), np.int64(20), np.int64(115), np.int64(119), np.int64(58), np.int64(53), np.int64(90), np.int64(72), np.int64(106), np.int64(20), np.int64(109), np.int64(70), np.int64(29), np.int64(33), np.int64(41), np.int64(116), np.int64(92), np.int64(106), np.int64(84), np.int64(82), np.int64(23), np.int64(116), np.int64(31), np.int64(115), np.int64(84), np.int64(70), np.int64(81), np.int64(28), np.int64(84), np.int64(73), np.int64(20), np.int64(82), np.int64(106), np.int64(46), np.int64(33), np.int64(117), np.int64(29), np.int64(106), np.int64(62), np.int64(115), np.int64(43), np.int64(117), np.int64(90), np.int64(82), np.int64(116), np.int64(21), np.int64(27), np.int64(32), np.int64(33), np.int64(115), np.int64(90), np.int64(100), np.int64(44), np.int64(82), np.int64(106), np.int64(102), np.int64(62), np.int64(116), np.int64(22), np.int64(23), np.int64(29), np.int64(84), np.int64(102), np.int64(41), np.int64(111), np.int64(60), np.int64(82), np.int64(102), np.int64(84), np.int64(38), np.int64(33), np.int64(20), np.int64(84), np.int64(82), np.int64(44), np.int64(112), np.int64(26), np.int64(20), np.int64(38), np.int64(111), np.int64(23), np.int64(81), np.int64(20), np.int64(33), np.int64(112), np.int64(28), np.int64(20), np.int64(106), np.int64(109), np.int64(21), np.int64(52), np.int64(55), np.int64(115), np.int64(20), np.int64(90), np.int64(95), np.int64(111), np.int64(84), np.int64(110), np.int64(44), np.int64(84), np.int64(38), np.int64(115), np.int64(82), np.int64(29), np.int64(20), np.int64(21), np.int64(84), np.int64(57), np.int64(41), np.int64(84), np.int64(32), np.int64(41), np.int64(82), np.int64(109), np.int64(117), np.int64(43), np.int64(102), np.int64(115), np.int64(115), np.int64(102), np.int64(115), np.int64(106), np.int64(115), np.int64(90), np.int64(78), np.int64(115), np.int64(22), np.int64(82), np.int64(115), np.int64(113), np.int64(82), np.int64(27), np.int64(81), np.int64(58), np.int64(33), np.int64(115), np.int64(39), np.int64(20), np.int64(105), np.int64(84), np.int64(117), np.int64(78), np.int64(106), np.int64(84), np.int64(46), np.int64(20), np.int64(41), np.int64(73), np.int64(117), np.int64(112), np.int64(41), np.int64(117), np.int64(84), np.int64(115), np.int64(106), np.int64(20), np.int64(46), np.int64(40), np.int64(84), np.int64(116), np.int64(41), np.int64(33), np.int64(40), np.int64(29), np.int64(117), np.int64(104), np.int64(84), np.int64(81), np.int64(106), np.int64(60), np.int64(73), np.int64(78), np.int64(84), np.int64(30), np.int64(78), np.int64(82), np.int64(23), np.int64(20), np.int64(100), np.int64(25), np.int64(73), np.int64(95), np.int64(104), np.int64(119), np.int64(23), np.int64(82), np.int64(20), np.int64(22), np.int64(98), np.int64(90), np.int64(119), np.int64(111), np.int64(84), np.int64(20), np.int64(20), np.int64(82), np.int64(29), np.int64(20), np.int64(70), np.int64(105), np.int64(29), np.int64(115), np.int64(102), np.int64(93), np.int64(41), np.int64(102), np.int64(25), np.int64(117), np.int64(33), np.int64(90), np.int64(115), np.int64(117), np.int64(20), np.int64(106), np.int64(39), np.int64(90), np.int64(84), np.int64(82), np.int64(55), np.int64(106), np.int64(29), np.int64(84), np.int64(110), np.int64(106), np.int64(44), np.int64(27), np.int64(20), np.int64(106), np.int64(73), np.int64(115), np.int64(29), np.int64(109), np.int64(28), np.int64(29), np.int64(36), np.int64(82), np.int64(72), np.int64(82), np.int64(115), np.int64(90), np.int64(25), np.int64(33), np.int64(90), np.int64(78), np.int64(110), np.int64(72), np.int64(23), np.int64(84), np.int64(115), np.int64(90), np.int64(20), np.int64(100), np.int64(22), np.int64(30), np.int64(109), np.int64(33), np.int64(36), np.int64(20), np.int64(93), np.int64(20), np.int64(26), np.int64(21), np.int64(109), np.int64(24), np.int64(82), np.int64(84), np.int64(72), np.int64(33), np.int64(82), np.int64(84), np.int64(109), np.int64(106), np.int64(32), np.int64(82), np.int64(41), np.int64(33), np.int64(22), np.int64(113), np.int64(109), np.int64(23), np.int64(31), np.int64(39), np.int64(112), np.int64(29), np.int64(102), np.int64(116), np.int64(33), np.int64(84), np.int64(39), np.int64(106), np.int64(106), np.int64(111), np.int64(25), np.int64(115), np.int64(32), np.int64(33), np.int64(115), np.int64(72), np.int64(117), np.int64(33), np.int64(41), np.int64(33), np.int64(53), np.int64(29), np.int64(70), np.int64(33), np.int64(106), np.int64(72), np.int64(72), np.int64(117), np.int64(115), np.int64(102), np.int64(20), np.int64(23), np.int64(22), np.int64(110), np.int64(90), np.int64(44), np.int64(112), np.int64(82), np.int64(106), np.int64(33), np.int64(117), np.int64(84), np.int64(33), np.int64(115), np.int64(119), np.int64(29), np.int64(30), np.int64(23), np.int64(71), np.int64(40), np.int64(110), np.int64(36), np.int64(112), np.int64(32), np.int64(32), np.int64(116), np.int64(29), np.int64(89), np.int64(115), np.int64(23), np.int64(106), np.int64(106), np.int64(23), np.int64(70), np.int64(88), np.int64(106), np.int64(109), np.int64(106), np.int64(44), np.int64(115), np.int64(78), np.int64(23), np.int64(84), np.int64(84), np.int64(73), np.int64(41), np.int64(23), np.int64(82), np.int64(98), np.int64(30), np.int64(104), np.int64(115), np.int64(82), np.int64(29), np.int64(84), np.int64(101), np.int64(41), np.int64(104), np.int64(90), np.int64(27), np.int64(111), np.int64(28), np.int64(20), np.int64(117), np.int64(29), np.int64(93), np.int64(70), np.int64(31), np.int64(115), np.int64(33), np.int64(109), np.int64(111), np.int64(117), np.int64(24), np.int64(102), np.int64(44), np.int64(106), np.int64(33), np.int64(46), np.int64(90), np.int64(101), np.int64(82), np.int64(82), np.int64(25), np.int64(84), np.int64(46), np.int64(109), np.int64(20), np.int64(82), np.int64(32), np.int64(20), np.int64(29), np.int64(22), np.int64(116), np.int64(82), np.int64(115), np.int64(70), np.int64(20), np.int64(71), np.int64(29), np.int64(95), np.int64(72), np.int64(58), np.int64(110), np.int64(20), np.int64(117), np.int64(106), np.int64(33), np.int64(22), np.int64(33), np.int64(84), np.int64(106), np.int64(109), np.int64(72), np.int64(110), np.int64(117), np.int64(111), np.int64(22), np.int64(115), np.int64(22), np.int64(24), np.int64(82), np.int64(32), np.int64(104), np.int64(33), np.int64(28), np.int64(102), np.int64(90), np.int64(20), np.int64(71), np.int64(72), np.int64(20), np.int64(109), np.int64(111), np.int64(20), np.int64(104), np.int64(29), np.int64(116), np.int64(21), np.int64(32), np.int64(73), np.int64(41), np.int64(78), np.int64(71), np.int64(46), np.int64(20), np.int64(20), np.int64(70), np.int64(92), np.int64(106), np.int64(84), np.int64(109), np.int64(109), np.int64(53), np.int64(115), np.int64(41), np.int64(32), np.int64(46), np.int64(84), np.int64(115), np.int64(82), np.int64(102), np.int64(115), np.int64(20), np.int64(29), np.int64(102), np.int64(84), np.int64(41), np.int64(81), np.int64(84), np.int64(29), np.int64(46), np.int64(84), np.int64(30), np.int64(20), np.int64(25), np.int64(102), np.int64(53), np.int64(41), np.int64(33), np.int64(55), np.int64(110), np.int64(113), np.int64(110), np.int64(53), np.int64(84), np.int64(82), np.int64(90), np.int64(33), np.int64(104), np.int64(109), np.int64(115), np.int64(28), np.int64(70), np.int64(20), np.int64(104), np.int64(29), np.int64(25), np.int64(106), np.int64(109), np.int64(29), np.int64(33), np.int64(115), np.int64(38), np.int64(22), np.int64(36), np.int64(78), np.int64(117), np.int64(23), np.int64(33), np.int64(111), np.int64(84), np.int64(106), np.int64(33), np.int64(33), np.int64(115), np.int64(32), np.int64(117), np.int64(84), np.int64(93), np.int64(98), np.int64(30), np.int64(70), np.int64(28), np.int64(115), np.int64(29), np.int64(38), np.int64(109), np.int64(84), np.int64(90), np.int64(81), np.int64(82), np.int64(36), np.int64(33), np.int64(84), np.int64(58), np.int64(104), np.int64(106), np.int64(46), np.int64(71), np.int64(93), np.int64(44), np.int64(44), np.int64(93), np.int64(28), np.int64(110), np.int64(110), np.int64(33), np.int64(29), np.int64(104), np.int64(84), np.int64(38), np.int64(21), np.int64(113), np.int64(53), np.int64(72), np.int64(28), np.int64(25), np.int64(102), np.int64(84), np.int64(20), np.int64(25), np.int64(84), np.int64(44), np.int64(106), np.int64(82), np.int64(21), np.int64(33), np.int64(46), np.int64(20), np.int64(90), np.int64(20), np.int64(106), np.int64(110), np.int64(44), np.int64(84), np.int64(20), np.int64(106), np.int64(109), np.int64(31), np.int64(29), np.int64(44), np.int64(102), np.int64(110), np.int64(84), np.int64(33), np.int64(40), np.int64(33), np.int64(25), np.int64(21), np.int64(70), np.int64(82), np.int64(102), np.int64(23), np.int64(33), np.int64(93), np.int64(22), np.int64(115), np.int64(55), np.int64(110), np.int64(84), np.int64(41), np.int64(84), np.int64(20), np.int64(115), np.int64(106), np.int64(106), np.int64(33), np.int64(111), np.int64(84), np.int64(115), np.int64(110), np.int64(33), np.int64(95), np.int64(29), np.int64(22), np.int64(82), np.int64(33), np.int64(117), np.int64(98), np.int64(109), np.int64(36), np.int64(116), np.int64(84), np.int64(115), np.int64(25), np.int64(90), np.int64(106), np.int64(29), np.int64(111), np.int64(31), np.int64(29), np.int64(82), np.int64(117), np.int64(117), np.int64(113), np.int64(33), np.int64(90), np.int64(22), np.int64(20), np.int64(23), np.int64(95), np.int64(23), np.int64(71), np.int64(112), np.int64(57), np.int64(29), np.int64(84), np.int64(20), np.int64(102), np.int64(29), np.int64(24), np.int64(102), np.int64(110), np.int64(71), np.int64(33), np.int64(111), np.int64(110), np.int64(84), np.int64(109), np.int64(104), np.int64(28), np.int64(117), np.int64(33), np.int64(41), np.int64(33), np.int64(53), np.int64(25), np.int64(26), np.int64(115), np.int64(115), np.int64(84), np.int64(109), np.int64(40), np.int64(115), np.int64(82), np.int64(88), np.int64(41), np.int64(40), np.int64(29), np.int64(46), np.int64(29), np.int64(34), np.int64(90), np.int64(32), np.int64(95), np.int64(115), np.int64(20), np.int64(115), np.int64(117), np.int64(20), np.int64(112), np.int64(33), np.int64(71), np.int64(39), np.int64(38), np.int64(29), np.int64(24), np.int64(58), np.int64(36), np.int64(82), np.int64(53), np.int64(106), np.int64(26), np.int64(39), np.int64(84), np.int64(33), np.int64(29), np.int64(23), np.int64(82), np.int64(115), np.int64(62), np.int64(20), np.int64(82), np.int64(112), np.int64(110), np.int64(106), np.int64(95), np.int64(82), np.int64(104), np.int64(84), np.int64(60), np.int64(81), np.int64(71), np.int64(28), np.int64(106), np.int64(27), np.int64(111), np.int64(84), np.int64(115), np.int64(115), np.int64(90), np.int64(115), np.int64(84), np.int64(22), np.int64(98), np.int64(82), np.int64(109), np.int64(30), np.int64(104), np.int64(82), np.int64(71), np.int64(70), np.int64(117), np.int64(20), np.int64(106), np.int64(44), np.int64(110), np.int64(117), np.int64(82), np.int64(22), np.int64(115), np.int64(23), np.int64(90), np.int64(104), np.int64(71), np.int64(84), np.int64(115), np.int64(73), np.int64(98), np.int64(58), np.int64(82), np.int64(106), np.int64(106), np.int64(24), np.int64(110), np.int64(115), np.int64(62), np.int64(113), np.int64(110), np.int64(102), np.int64(27), np.int64(46), np.int64(39), np.int64(46), np.int64(82), np.int64(84), np.int64(82), np.int64(25), np.int64(20), np.int64(33), np.int64(36), np.int64(41), np.int64(106), np.int64(20), np.int64(101), np.int64(115), np.int64(25), np.int64(28), np.int64(82), np.int64(110), np.int64(53), np.int64(20), np.int64(84), np.int64(20), np.int64(111), np.int64(93), np.int64(81), np.int64(109), np.int64(93), np.int64(20), np.int64(84), np.int64(113), np.int64(22), np.int64(46), np.int64(82), np.int64(106), np.int64(33), np.int64(28), np.int64(20), np.int64(23), np.int64(117), np.int64(28), np.int64(102), np.int64(20), np.int64(33), np.int64(44), np.int64(78), np.int64(28), np.int64(110), np.int64(53), np.int64(22), np.int64(104), np.int64(20), np.int64(20), np.int64(111), np.int64(33), np.int64(33), np.int64(29), np.int64(38), np.int64(82), np.int64(90), np.int64(93), np.int64(22), np.int64(20), np.int64(70), np.int64(81), np.int64(115), np.int64(46), np.int64(22), np.int64(109), np.int64(115), np.int64(34), np.int64(119), np.int64(36), np.int64(115), np.int64(55), np.int64(82), np.int64(20), np.int64(115), np.int64(44), np.int64(28), np.int64(39), np.int64(60), np.int64(101), np.int64(53), np.int64(90), np.int64(90), np.int64(106), np.int64(114), np.int64(109), np.int64(33), np.int64(115), np.int64(26), np.int64(110), np.int64(90), np.int64(20), np.int64(71), np.int64(23), np.int64(84), np.int64(34), np.int64(28), np.int64(106), np.int64(84), np.int64(71), np.int64(82), np.int64(53), np.int64(100), np.int64(115), np.int64(84), np.int64(110), np.int64(115), np.int64(90), np.int64(82), np.int64(39), np.int64(106), np.int64(29), np.int64(41), np.int64(33), np.int64(102), np.int64(106), np.int64(101), np.int64(82), np.int64(78), np.int64(84), np.int64(23), np.int64(109), np.int64(116), np.int64(46), np.int64(20), np.int64(84), np.int64(20), np.int64(25), np.int64(102), np.int64(110), np.int64(114), np.int64(27), np.int64(109), np.int64(111), np.int64(102), np.int64(20), np.int64(33), np.int64(30), np.int64(72), np.int64(111), np.int64(115), np.int64(115), np.int64(46), np.int64(27), np.int64(33), np.int64(20), np.int64(90), np.int64(102), np.int64(82), np.int64(115), np.int64(84), np.int64(84), np.int64(104), np.int64(112), np.int64(25), np.int64(111), np.int64(31), np.int64(115), np.int64(102), np.int64(20), np.int64(102), np.int64(93), np.int64(84), np.int64(21), np.int64(110), np.int64(33), np.int64(81), np.int64(106), np.int64(119), np.int64(84), np.int64(117), np.int64(60), np.int64(90), np.int64(21), np.int64(20), np.int64(93), np.int64(20), np.int64(106), np.int64(32), np.int64(119), np.int64(78), np.int64(46), np.int64(105), np.int64(82), np.int64(32), np.int64(22), np.int64(40), np.int64(28), np.int64(73), np.int64(111), np.int64(22), np.int64(84), np.int64(33), np.int64(28), np.int64(110), np.int64(90), np.int64(106), np.int64(20), np.int64(29), np.int64(115), np.int64(115), np.int64(84), np.int64(72), np.int64(33), np.int64(106), np.int64(33), np.int64(82), np.int64(36), np.int64(90), np.int64(55), np.int64(84), np.int64(81), np.int64(105), np.int64(39), np.int64(20), np.int64(90), np.int64(38), np.int64(22), np.int64(40), np.int64(32), np.int64(40), np.int64(102), np.int64(82), np.int64(36), np.int64(102), np.int64(90), np.int64(21), np.int64(41), np.int64(84), np.int64(117), np.int64(102), np.int64(25), np.int64(102), np.int64(70), np.int64(23), np.int64(46), np.int64(90), np.int64(46), np.int64(21), np.int64(109), np.int64(84), np.int64(34), np.int64(20), np.int64(111), np.int64(32), np.int64(23), np.int64(106), np.int64(70), np.int64(115), np.int64(116), np.int64(117), np.int64(115), np.int64(95), np.int64(53), np.int64(115), np.int64(24), np.int64(111), np.int64(32), np.int64(110), np.int64(46), np.int64(21), np.int64(72), np.int64(29), np.int64(95), np.int64(23), np.int64(115), np.int64(106), np.int64(102), np.int64(106), np.int64(20), np.int64(33), np.int64(109), np.int64(95), np.int64(20), np.int64(72), np.int64(111), np.int64(115), np.int64(102), np.int64(82), np.int64(26), np.int64(25), np.int64(109), np.int64(23), np.int64(28), np.int64(82), np.int64(84), np.int64(82), np.int64(70), np.int64(21), np.int64(33), np.int64(44), np.int64(102), np.int64(24), np.int64(22), np.int64(78), np.int64(117), np.int64(88), np.int64(84), np.int64(106), np.int64(53), np.int64(41), np.int64(93), np.int64(30), np.int64(84), np.int64(106), np.int64(29), np.int64(20), np.int64(115), np.int64(22), np.int64(115), np.int64(115), np.int64(90), np.int64(39), np.int64(109), np.int64(73), np.int64(27), np.int64(29), np.int64(95), np.int64(71), np.int64(82), np.int64(22), np.int64(71), np.int64(78), np.int64(71), np.int64(117), np.int64(41), np.int64(111), np.int64(110), np.int64(46), np.int64(29), np.int64(20), np.int64(102), np.int64(33), np.int64(55), np.int64(25), np.int64(70), np.int64(115), np.int64(62), np.int64(21), np.int64(29), np.int64(102), np.int64(82), np.int64(98), np.int64(115), np.int64(82), np.int64(46), np.int64(81), np.int64(33), np.int64(25), np.int64(21), np.int64(39), np.int64(90), np.int64(20), np.int64(84), np.int64(115), np.int64(41), np.int64(82), np.int64(22), np.int64(39), np.int64(111), np.int64(32), np.int64(106), np.int64(84), np.int64(39), np.int64(20), np.int64(22), np.int64(100), np.int64(92), np.int64(115), np.int64(29), np.int64(106), np.int64(110), np.int64(25), np.int64(84), np.int64(82), np.int64(20), np.int64(28), np.int64(102), np.int64(82), np.int64(29), np.int64(32), np.int64(90), np.int64(20), np.int64(110), np.int64(28), np.int64(84), np.int64(117), np.int64(111), np.int64(73), np.int64(84), np.int64(119), np.int64(110), np.int64(110), np.int64(109), np.int64(90), np.int64(25), np.int64(90), np.int64(29), np.int64(33), np.int64(29), np.int64(115), np.int64(102), np.int64(36), np.int64(33), np.int64(104), np.int64(84), np.int64(102), np.int64(84), np.int64(106), np.int64(117), np.int64(90), np.int64(90), np.int64(119), np.int64(115), np.int64(44), np.int64(46), np.int64(114), np.int64(70), np.int64(104), np.int64(109), np.int64(23), np.int64(28), np.int64(106), np.int64(117), np.int64(95), np.int64(33), np.int64(32), np.int64(95), np.int64(84), np.int64(26), np.int64(106), np.int64(33), np.int64(111), np.int64(20), np.int64(23), np.int64(46), np.int64(90), np.int64(115), np.int64(72), np.int64(25), np.int64(23), np.int64(114), np.int64(28), np.int64(109), np.int64(30), np.int64(62), np.int64(113), np.int64(92), np.int64(29), np.int64(117), np.int64(82), np.int64(93), np.int64(90), np.int64(36), np.int64(34), np.int64(115), np.int64(102), np.int64(20), np.int64(44), np.int64(20), np.int64(106), np.int64(117), np.int64(40), np.int64(115), np.int64(29), np.int64(20), np.int64(29), np.int64(109), np.int64(38), np.int64(33), np.int64(44), np.int64(22), np.int64(111), np.int64(115), np.int64(27), np.int64(40), np.int64(111), np.int64(29), np.int64(110), np.int64(106), np.int64(41), np.int64(70), np.int64(29), np.int64(95), np.int64(20), np.int64(33), np.int64(26), np.int64(29), np.int64(26), np.int64(100), np.int64(82), np.int64(21), np.int64(33), np.int64(115), np.int64(30), np.int64(28), np.int64(20), np.int64(20), np.int64(82), np.int64(103), np.int64(115), np.int64(111), np.int64(119), np.int64(23), np.int64(28), np.int64(20), np.int64(84), np.int64(117), np.int64(78), np.int64(106), np.int64(106), np.int64(106), np.int64(72), np.int64(28), np.int64(90), np.int64(106), np.int64(110), np.int64(24), np.int64(117), np.int64(102), np.int64(20), np.int64(20), np.int64(40), np.int64(109), np.int64(106), np.int64(38), np.int64(82), np.int64(105), np.int64(46), np.int64(115), np.int64(113), np.int64(90), np.int64(115), np.int64(21), np.int64(78), np.int64(115), np.int64(48), np.int64(90), np.int64(115), np.int64(93), np.int64(44), np.int64(70), np.int64(55), np.int64(102), np.int64(112), np.int64(84), np.int64(41), np.int64(117), np.int64(101), np.int64(113), np.int64(93), np.int64(115), np.int64(82), np.int64(41), np.int64(106), np.int64(82), np.int64(117), np.int64(39), np.int64(23), np.int64(29), np.int64(29), np.int64(90), np.int64(114), np.int64(29), np.int64(115), np.int64(106), np.int64(82), np.int64(71), np.int64(20), np.int64(95), np.int64(84), np.int64(117), np.int64(117), np.int64(31), np.int64(39), np.int64(33), np.int64(46), np.int64(103), np.int64(73), np.int64(46), np.int64(20), np.int64(32), np.int64(41), np.int64(100), np.int64(90), np.int64(41), np.int64(28), np.int64(25), np.int64(27), np.int64(26), np.int64(84), np.int64(93), np.int64(27), np.int64(102), np.int64(20), np.int64(102), np.int64(20), np.int64(102), np.int64(116), np.int64(109), np.int64(95), np.int64(82), np.int64(82), np.int64(28), np.int64(29), np.int64(111), np.int64(36), np.int64(117), np.int64(105), np.int64(102), np.int64(46), np.int64(106), np.int64(93), np.int64(32), np.int64(102), np.int64(82), np.int64(116), np.int64(44), np.int64(25), np.int64(115), np.int64(36), np.int64(44), np.int64(82), np.int64(117), np.int64(84), np.int64(44), np.int64(84), np.int64(100), np.int64(115), np.int64(44), np.int64(20), np.int64(90), np.int64(23), np.int64(53), np.int64(111), np.int64(84), np.int64(20), np.int64(25), np.int64(57), np.int64(102), np.int64(102), np.int64(27), np.int64(20), np.int64(33), np.int64(106), np.int64(32), np.int64(102), np.int64(102), np.int64(41), np.int64(20), np.int64(106), np.int64(84), np.int64(29), np.int64(95), np.int64(82), np.int64(117), np.int64(111), np.int64(110), np.int64(84), np.int64(117), np.int64(72), np.int64(70), np.int64(28), np.int64(102), np.int64(110), np.int64(20), np.int64(40), np.int64(81), np.int64(44), np.int64(115), np.int64(32), np.int64(84), np.int64(102), np.int64(78), np.int64(115), np.int64(72), np.int64(115), np.int64(36), np.int64(46), np.int64(101), np.int64(98), np.int64(21), np.int64(82), np.int64(55), np.int64(82), np.int64(70), np.int64(100), np.int64(82), np.int64(20), np.int64(115), np.int64(84), np.int64(20), np.int64(106), np.int64(106), np.int64(90), np.int64(102), np.int64(71), np.int64(100), np.int64(115), np.int64(71), np.int64(82), np.int64(90), np.int64(23), np.int64(101), np.int64(106), np.int64(27), np.int64(102), np.int64(93), np.int64(106), np.int64(84), np.int64(112), np.int64(84), np.int64(84), np.int64(111), np.int64(58), np.int64(84), np.int64(20), np.int64(90), np.int64(28), np.int64(84), np.int64(71), np.int64(72), np.int64(28), np.int64(39), np.int64(95), np.int64(31), np.int64(24), np.int64(53), np.int64(109), np.int64(84), np.int64(20), np.int64(93), np.int64(84), np.int64(109), np.int64(117), np.int64(109), np.int64(41), np.int64(39), np.int64(29), np.int64(115), np.int64(46), np.int64(72), np.int64(20), np.int64(41), np.int64(109), np.int64(90), np.int64(22), np.int64(29), np.int64(93), np.int64(30), np.int64(71), np.int64(115), np.int64(82), np.int64(53), np.int64(115), np.int64(117), np.int64(36), np.int64(29), np.int64(58), np.int64(115), np.int64(84), np.int64(119), np.int64(82), np.int64(116), np.int64(73), np.int64(20), np.int64(84), np.int64(53), np.int64(82), np.int64(90), np.int64(29), np.int64(109), np.int64(40), np.int64(25), np.int64(115), np.int64(115), np.int64(106), np.int64(84), np.int64(78), np.int64(32), np.int64(38), np.int64(88), np.int64(20), np.int64(27), np.int64(20), np.int64(32), np.int64(115), np.int64(102), np.int64(55), np.int64(72), np.int64(81), np.int64(22), np.int64(70), np.int64(33), np.int64(102), np.int64(81), np.int64(36), np.int64(70), np.int64(90), np.int64(89), np.int64(115), np.int64(111), np.int64(60), np.int64(111), np.int64(115), np.int64(41), np.int64(102), np.int64(95), np.int64(84), np.int64(71), np.int64(33), np.int64(84), np.int64(53), np.int64(72), np.int64(106), np.int64(33), np.int64(33), np.int64(22), np.int64(27), np.int64(90), np.int64(113), np.int64(106), np.int64(28), np.int64(115), np.int64(29), np.int64(33), np.int64(29), np.int64(82), np.int64(115), np.int64(72), np.int64(33), np.int64(106), np.int64(30), np.int64(104), np.int64(84), np.int64(33), np.int64(84), np.int64(71), np.int64(106), np.int64(20), np.int64(110), np.int64(101), np.int64(117), np.int64(113), np.int64(23), np.int64(25), np.int64(84), np.int64(29), np.int64(70), np.int64(84), np.int64(29), np.int64(60), np.int64(100), np.int64(32), np.int64(58), np.int64(117), np.int64(46), np.int64(29), np.int64(112), np.int64(101), np.int64(32), np.int64(44), np.int64(115), np.int64(46), np.int64(39), np.int64(84), np.int64(115), np.int64(82), np.int64(102), np.int64(92), np.int64(106), np.int64(25), np.int64(23), np.int64(111), np.int64(115), np.int64(115), np.int64(84), np.int64(46), np.int64(20), np.int64(21), np.int64(98), np.int64(100), np.int64(29), np.int64(33), np.int64(36), np.int64(106), np.int64(29), np.int64(92), np.int64(110), np.int64(95), np.int64(70), np.int64(23), np.int64(115), np.int64(117), np.int64(90), np.int64(29), np.int64(78), np.int64(22), np.int64(106), np.int64(82), np.int64(53), np.int64(29), np.int64(113), np.int64(29), np.int64(28), np.int64(20), np.int64(115), np.int64(95), np.int64(101), np.int64(70), np.int64(22), np.int64(29), np.int64(30), np.int64(60), np.int64(30), np.int64(115), np.int64(23), np.int64(29), np.int64(28), np.int64(102), np.int64(82), np.int64(84), np.int64(38), np.int64(84), np.int64(115), np.int64(113), np.int64(115), np.int64(111), np.int64(36), np.int64(25), np.int64(109), np.int64(113), np.int64(46), np.int64(21), np.int64(82), np.int64(70), np.int64(53), np.int64(115), np.int64(20), np.int64(84), np.int64(28), np.int64(112), np.int64(27), np.int64(44), np.int64(109), np.int64(29), np.int64(109), np.int64(53), np.int64(81), np.int64(106), np.int64(117), np.int64(102), np.int64(93), np.int64(23), np.int64(90), np.int64(106), np.int64(102), np.int64(29), np.int64(29), np.int64(21), np.int64(106), np.int64(46), np.int64(44), np.int64(22), np.int64(84), np.int64(24), np.int64(71), np.int64(84), np.int64(55), np.int64(106), np.int64(25), np.int64(29), np.int64(106), np.int64(115), np.int64(84), np.int64(84), np.int64(115), np.int64(29), np.int64(20), np.int64(21), np.int64(115), np.int64(70), np.int64(22), np.int64(25), np.int64(116), np.int64(92), np.int64(29), np.int64(32), np.int64(55), np.int64(70), np.int64(53), np.int64(40), np.int64(90), np.int64(94), np.int64(90), np.int64(115), np.int64(30), np.int64(30), np.int64(38), np.int64(115), np.int64(44), np.int64(115), np.int64(46), np.int64(102), np.int64(115), np.int64(110), np.int64(115), np.int64(28), np.int64(109), np.int64(27), np.int64(23), np.int64(33), np.int64(115), np.int64(20), np.int64(82), np.int64(110), np.int64(28), np.int64(23), np.int64(46), np.int64(82), np.int64(119), np.int64(115), np.int64(44), np.int64(33), np.int64(84), np.int64(46), np.int64(104), np.int64(53), np.int64(115), np.int64(70), np.int64(111), np.int64(81), np.int64(20), np.int64(78), np.int64(102), np.int64(84), np.int64(102), np.int64(29), np.int64(84), np.int64(109), np.int64(44), np.int64(106), np.int64(112), np.int64(36), np.int64(33), np.int64(78), np.int64(106), np.int64(53), np.int64(33), np.int64(111), np.int64(111), np.int64(33), np.int64(82), np.int64(110), np.int64(106), np.int64(112), np.int64(90), np.int64(78), np.int64(115), np.int64(71), np.int64(117), np.int64(29), np.int64(30), np.int64(84), np.int64(20), np.int64(84), np.int64(48), np.int64(93), np.int64(43), np.int64(104), np.int64(82), np.int64(33), np.int64(117), np.int64(40), np.int64(115), np.int64(71), np.int64(25), np.int64(22), np.int64(28), np.int64(33), np.int64(70), np.int64(70), np.int64(20), np.int64(84), np.int64(27), np.int64(115), np.int64(106), np.int64(82), np.int64(53), np.int64(28), np.int64(82), np.int64(84), np.int64(111), np.int64(20), np.int64(84), np.int64(95), np.int64(33), np.int64(110), np.int64(110), np.int64(106), np.int64(117), np.int64(70), np.int64(109), np.int64(90), np.int64(28), np.int64(31), np.int64(30), np.int64(32), np.int64(84), np.int64(106), np.int64(112), np.int64(53), np.int64(58), np.int64(115), np.int64(44), np.int64(20), np.int64(72), np.int64(29), np.int64(46), np.int64(72), np.int64(117), np.int64(115), np.int64(93), np.int64(106), np.int64(25), np.int64(31), np.int64(84), np.int64(20), np.int64(106), np.int64(102), np.int64(82), np.int64(25), np.int64(73), np.int64(25), np.int64(90), np.int64(36), np.int64(29), np.int64(95), np.int64(41), np.int64(112), np.int64(117), np.int64(117), np.int64(29), np.int64(70), np.int64(27), np.int64(41), np.int64(84), np.int64(115), np.int64(106), np.int64(112), np.int64(113), np.int64(55), np.int64(33), np.int64(82), np.int64(82), np.int64(71), np.int64(93), np.int64(101), np.int64(100), np.int64(44), np.int64(106), np.int64(22), np.int64(25), np.int64(100), np.int64(29), np.int64(20), np.int64(84), np.int64(20), np.int64(84), np.int64(115), np.int64(58), np.int64(84), np.int64(36), np.int64(92), np.int64(92), np.int64(70), np.int64(60), np.int64(46), np.int64(84), np.int64(84), np.int64(28), np.int64(27), np.int64(29), np.int64(115), np.int64(82), np.int64(82), np.int64(109), np.int64(82), np.int64(23), np.int64(111), np.int64(93), np.int64(28), np.int64(115), np.int64(29), np.int64(20), np.int64(39), np.int64(44), np.int64(73), np.int64(27), np.int64(109), np.int64(116), np.int64(102), np.int64(84), np.int64(106), np.int64(102), np.int64(41), np.int64(115), np.int64(46), np.int64(72), np.int64(82), np.int64(115), np.int64(113), np.int64(106), np.int64(109), np.int64(78), np.int64(84), np.int64(82), np.int64(29), np.int64(30), np.int64(41), np.int64(78), np.int64(46), np.int64(102), np.int64(31), np.int64(104), np.int64(84), np.int64(26), np.int64(102), np.int64(115), np.int64(25), np.int64(111), np.int64(55), np.int64(33), np.int64(46), np.int64(82), np.int64(33), np.int64(84), np.int64(21), np.int64(104), np.int64(93), np.int64(44), np.int64(84), np.int64(102), np.int64(26), np.int64(117), np.int64(22), np.int64(110), np.int64(29), np.int64(23), np.int64(29), np.int64(95), np.int64(114), np.int64(40), np.int64(102), np.int64(22), np.int64(109), np.int64(32), np.int64(109), np.int64(84), np.int64(90), np.int64(82), np.int64(106), np.int64(29), np.int64(23), np.int64(115), np.int64(20), np.int64(25), np.int64(46), np.int64(73), np.int64(82), np.int64(81), np.int64(109), np.int64(95), np.int64(92), np.int64(72), np.int64(84), np.int64(117), np.int64(32), np.int64(88), np.int64(21), np.int64(33), np.int64(109), np.int64(24), np.int64(29), np.int64(70), np.int64(102), np.int64(101), np.int64(117), np.int64(46), np.int64(23), np.int64(31), np.int64(57), np.int64(73), np.int64(90), np.int64(109), np.int64(84), np.int64(113), np.int64(34), np.int64(115), np.int64(102), np.int64(39), np.int64(102), np.int64(84), np.int64(117), np.int64(41), np.int64(41), np.int64(23), np.int64(102), np.int64(20), np.int64(20), np.int64(102), np.int64(29), np.int64(20), np.int64(78), np.int64(70), np.int64(28), np.int64(44), np.int64(40), np.int64(115), np.int64(23), np.int64(41), np.int64(111), np.int64(46), np.int64(25), np.int64(119), np.int64(115), np.int64(115), np.int64(115), np.int64(70), np.int64(22), np.int64(78), np.int64(93), np.int64(73), np.int64(29), np.int64(32), np.int64(23), np.int64(98), np.int64(115), np.int64(111), np.int64(46), np.int64(111), np.int64(115), np.int64(101), np.int64(84), np.int64(115), np.int64(84), np.int64(39), np.int64(27), np.int64(111), np.int64(102), np.int64(95), np.int64(115), np.int64(110), np.int64(111), np.int64(70), np.int64(84), np.int64(44), np.int64(27), np.int64(115), np.int64(36), np.int64(41), np.int64(113), np.int64(58), np.int64(80), np.int64(82), np.int64(109), np.int64(33), np.int64(90), np.int64(84), np.int64(101), np.int64(29), np.int64(20), np.int64(71), np.int64(29), np.int64(55), np.int64(53), np.int64(25), np.int64(100), np.int64(115), np.int64(31), np.int64(20), np.int64(82), np.int64(104), np.int64(25), np.int64(32), np.int64(115), np.int64(90), np.int64(73), np.int64(36), np.int64(33), np.int64(70), np.int64(106), np.int64(39), np.int64(58), np.int64(25), np.int64(109), np.int64(82), np.int64(23), np.int64(111), np.int64(33), np.int64(31), np.int64(100), np.int64(33), np.int64(23), np.int64(82), np.int64(30), np.int64(117), np.int64(112), np.int64(73), np.int64(38), np.int64(78), np.int64(115), np.int64(115), np.int64(22), np.int64(29), np.int64(30), np.int64(81), np.int64(84), np.int64(102), np.int64(111), np.int64(33), np.int64(115), np.int64(106), np.int64(115), np.int64(39), np.int64(70), np.int64(84), np.int64(25), np.int64(82), np.int64(29), np.int64(20), np.int64(29), np.int64(111), np.int64(23), np.int64(20), np.int64(22), np.int64(20), np.int64(29), np.int64(102), np.int64(115), np.int64(22), np.int64(102), np.int64(29), np.int64(110), np.int64(92), np.int64(40), np.int64(26), np.int64(23), np.int64(72), np.int64(92), np.int64(53), np.int64(106), np.int64(84), np.int64(32), np.int64(116), np.int64(71), np.int64(104), np.int64(32), np.int64(84), np.int64(71), np.int64(115), np.int64(84), np.int64(33), np.int64(102), np.int64(33), np.int64(84), np.int64(82), np.int64(53), np.int64(100), np.int64(44), np.int64(30), np.int64(70), np.int64(20), np.int64(115), np.int64(44), np.int64(82), np.int64(110), np.int64(53), np.int64(20), np.int64(21), np.int64(25), np.int64(106), np.int64(29), np.int64(70), np.int64(29), np.int64(117), np.int64(84), np.int64(29), np.int64(116), np.int64(109), np.int64(90), np.int64(20), np.int64(117), np.int64(41), np.int64(20), np.int64(33), np.int64(113), np.int64(82), np.int64(111), np.int64(20), np.int64(41), np.int64(73), np.int64(106), np.int64(115), np.int64(119), np.int64(95), np.int64(28), np.int64(84), np.int64(41), np.int64(20), np.int64(84), np.int64(109), np.int64(90), np.int64(33), np.int64(84), np.int64(38), np.int64(44), np.int64(53), np.int64(95), np.int64(109), np.int64(44), np.int64(20), np.int64(40), np.int64(115), np.int64(70), np.int64(111), np.int64(112), np.int64(109), np.int64(84), np.int64(84), np.int64(29), np.int64(22), np.int64(25), np.int64(113), np.int64(102), np.int64(82), np.int64(84), np.int64(102), np.int64(112), np.int64(82), np.int64(29), np.int64(30), np.int64(111), np.int64(102), np.int64(115), np.int64(109), np.int64(111), np.int64(24), np.int64(29), np.int64(41), np.int64(27), np.int64(71), np.int64(115), np.int64(84), np.int64(114), np.int64(102), np.int64(82), np.int64(115), np.int64(100), np.int64(28), np.int64(84), np.int64(100), np.int64(115), np.int64(40), np.int64(22), np.int64(115), np.int64(106), np.int64(81), np.int64(27), np.int64(84), np.int64(109), np.int64(28), np.int64(84), np.int64(31), np.int64(109), np.int64(82), np.int64(84), np.int64(41), np.int64(23), np.int64(55), np.int64(32), np.int64(84), np.int64(95), np.int64(84), np.int64(90), np.int64(20), np.int64(102), np.int64(73), np.int64(25), np.int64(32), np.int64(28), np.int64(106), np.int64(95), np.int64(111), np.int64(20), np.int64(106), np.int64(106), np.int64(90), np.int64(102), np.int64(115), np.int64(90), np.int64(90), np.int64(84), np.int64(22), np.int64(30), np.int64(115), np.int64(29), np.int64(70), np.int64(81), np.int64(110), np.int64(110), np.int64(21), np.int64(82), np.int64(32), np.int64(82), np.int64(84), np.int64(23), np.int64(29), np.int64(117), np.int64(110), np.int64(20), np.int64(30), np.int64(102), np.int64(23), np.int64(33), np.int64(90), np.int64(34), np.int64(102), np.int64(90), np.int64(115), np.int64(109), np.int64(71), np.int64(98), np.int64(111), np.int64(82), np.int64(92), np.int64(23), np.int64(106), np.int64(28), np.int64(41), np.int64(82), np.int64(33), np.int64(112), np.int64(92), np.int64(115), np.int64(93), np.int64(84), np.int64(73), np.int64(38), np.int64(110), np.int64(115), np.int64(115), np.int64(44), np.int64(70), np.int64(41), np.int64(115), np.int64(20), np.int64(41), np.int64(82), np.int64(72), np.int64(44), np.int64(100), np.int64(44), np.int64(33), np.int64(46), np.int64(29), np.int64(84), np.int64(21), np.int64(20), np.int64(22), np.int64(93), np.int64(90), np.int64(82), np.int64(38), np.int64(116), np.int64(82), np.int64(102), np.int64(115), np.int64(115), np.int64(70), np.int64(84), np.int64(84), np.int64(110), np.int64(100), np.int64(20), np.int64(114), np.int64(84), np.int64(72), np.int64(46), np.int64(113), np.int64(84), np.int64(30), np.int64(115), np.int64(26), np.int64(29), np.int64(41), np.int64(102), np.int64(103), np.int64(29), np.int64(115), np.int64(40), np.int64(70), np.int64(109), np.int64(84), np.int64(43), np.int64(116), np.int64(84), np.int64(84), np.int64(109), np.int64(84), np.int64(115), np.int64(115), np.int64(41), np.int64(53), np.int64(84), np.int64(23), np.int64(29), np.int64(115), np.int64(84), np.int64(104), np.int64(90), np.int64(20), np.int64(71), np.int64(84), np.int64(117), np.int64(31), np.int64(104), np.int64(93), np.int64(36), np.int64(115), np.int64(33), np.int64(84), np.int64(82), np.int64(84), np.int64(109), np.int64(82), np.int64(25), np.int64(117), np.int64(29), np.int64(98), np.int64(115), np.int64(53), np.int64(117), np.int64(82), np.int64(84), np.int64(29), np.int64(100), np.int64(31), np.int64(84), np.int64(84), np.int64(22), np.int64(20), np.int64(72), np.int64(115), np.int64(106), np.int64(109), np.int64(44), np.int64(71), np.int64(106), np.int64(111), np.int64(71), np.int64(104), np.int64(84), np.int64(95), np.int64(33), np.int64(29), np.int64(28), np.int64(119), np.int64(101), np.int64(25), np.int64(60), np.int64(82), np.int64(102), np.int64(110), np.int64(82), np.int64(46), np.int64(82), np.int64(20), np.int64(102), np.int64(111), np.int64(102), np.int64(53), np.int64(23), np.int64(102), np.int64(110), np.int64(32), np.int64(81), np.int64(30), np.int64(73), np.int64(28), np.int64(84), np.int64(30), np.int64(44), np.int64(44), np.int64(82), np.int64(115), np.int64(71), np.int64(43), np.int64(46), np.int64(111), np.int64(90), np.int64(95), np.int64(82), np.int64(106), np.int64(23), np.int64(24), np.int64(20), np.int64(29), np.int64(115), np.int64(115), np.int64(20), np.int64(115), np.int64(33), np.int64(90), np.int64(23), np.int64(73), np.int64(102), np.int64(92), np.int64(46), np.int64(95), np.int64(29), np.int64(23), np.int64(21), np.int64(81), np.int64(23), np.int64(27), np.int64(82), np.int64(28), np.int64(73), np.int64(115), np.int64(28), np.int64(102), np.int64(102), np.int64(84), np.int64(20), np.int64(26), np.int64(23), np.int64(102), np.int64(116), np.int64(82), np.int64(28), np.int64(100), np.int64(115), np.int64(70), np.int64(109), np.int64(84), np.int64(115), np.int64(20), np.int64(102), np.int64(117), np.int64(84), np.int64(32), np.int64(116), np.int64(53), np.int64(33), np.int64(20), np.int64(29), np.int64(78), np.int64(70), np.int64(78), np.int64(82), np.int64(70), np.int64(22), np.int64(39), np.int64(46), np.int64(22), np.int64(112), np.int64(53), np.int64(33), np.int64(30), np.int64(25), np.int64(33), np.int64(33), np.int64(109), np.int64(111), np.int64(115), np.int64(84), np.int64(20), np.int64(36), np.int64(36), np.int64(33), np.int64(116), np.int64(41), np.int64(106), np.int64(20), np.int64(84), np.int64(115), np.int64(113), np.int64(29), np.int64(39), np.int64(115), np.int64(119), np.int64(46), np.int64(90), np.int64(33), np.int64(102), np.int64(73), np.int64(44), np.int64(90), np.int64(34), np.int64(78), np.int64(20), np.int64(117), np.int64(104), np.int64(21), np.int64(115), np.int64(88), np.int64(90), np.int64(28), np.int64(27), np.int64(84), np.int64(20), np.int64(110), np.int64(82), np.int64(84), np.int64(84), np.int64(31), np.int64(23), np.int64(117), np.int64(70), np.int64(115), np.int64(84), np.int64(90), np.int64(115), np.int64(71), np.int64(38), np.int64(20), np.int64(20), np.int64(39), np.int64(29), np.int64(46), np.int64(71), np.int64(82), np.int64(110), np.int64(110), np.int64(106), np.int64(117), np.int64(81), np.int64(21), np.int64(115), np.int64(20), np.int64(58), np.int64(78), np.int64(28), np.int64(32), np.int64(84), np.int64(94), np.int64(28), np.int64(21), np.int64(81), np.int64(115), np.int64(112), np.int64(29), np.int64(90), np.int64(46), np.int64(109), np.int64(116), np.int64(110), np.int64(29), np.int64(41), np.int64(106), np.int64(104), np.int64(115), np.int64(82), np.int64(90), np.int64(33), np.int64(84), np.int64(41), np.int64(115), np.int64(28), np.int64(21), np.int64(29), np.int64(72), np.int64(115), np.int64(30), np.int64(117), np.int64(90), np.int64(110), np.int64(95), np.int64(106), np.int64(110), np.int64(29), np.int64(84), np.int64(29), np.int64(110), np.int64(32), np.int64(95), np.int64(84), np.int64(31), np.int64(36), np.int64(95), np.int64(23), np.int64(110), np.int64(25), np.int64(31), np.int64(104), np.int64(117), np.int64(70), np.int64(102), np.int64(109), np.int64(100), np.int64(20), np.int64(78), np.int64(84), np.int64(100), np.int64(44), np.int64(106), np.int64(113), np.int64(33), np.int64(111), np.int64(29), np.int64(84), np.int64(46), np.int64(84), np.int64(109), np.int64(22), np.int64(82), np.int64(62), np.int64(115), np.int64(33), np.int64(53), np.int64(115), np.int64(33), np.int64(105), np.int64(106), np.int64(115), np.int64(110), np.int64(82), np.int64(82), np.int64(71), np.int64(115), np.int64(55), np.int64(102), np.int64(109), np.int64(26), np.int64(109), np.int64(21), np.int64(28), np.int64(82), np.int64(115), np.int64(109), np.int64(33), np.int64(33), np.int64(21), np.int64(33), np.int64(20), np.int64(78), np.int64(29), np.int64(81), np.int64(84), np.int64(27), np.int64(101), np.int64(111), np.int64(28), np.int64(102), np.int64(26), np.int64(84), np.int64(23)]\n"
     ]
    }
   ],
   "source": [
    "print(list(prediction))\n",
    "len(prediction)\n",
    "columns=[\"Index\",\"Predicted_Speed\"]\n",
    "prediction_dataframe=pd.DataFrame(prediction,columns=[\"Predicted_speed\"])\n",
    "prediction_dataframehead=prediction_dataframe.head(10)\n",
    "train_target_dataframe=pd.DataFrame(train_target)\n"
   ]
  },
  {
   "cell_type": "code",
   "execution_count": 221,
   "metadata": {},
   "outputs": [
    {
     "data": {
      "text/html": [
       "<div>\n",
       "<style scoped>\n",
       "    .dataframe tbody tr th:only-of-type {\n",
       "        vertical-align: middle;\n",
       "    }\n",
       "\n",
       "    .dataframe tbody tr th {\n",
       "        vertical-align: top;\n",
       "    }\n",
       "\n",
       "    .dataframe thead th {\n",
       "        text-align: right;\n",
       "    }\n",
       "</style>\n",
       "<table border=\"1\" class=\"dataframe\">\n",
       "  <thead>\n",
       "    <tr style=\"text-align: right;\">\n",
       "      <th></th>\n",
       "      <th>Predicted_speed</th>\n",
       "      <th>Recorded_Speed</th>\n",
       "    </tr>\n",
       "  </thead>\n",
       "  <tbody>\n",
       "    <tr>\n",
       "      <th>0</th>\n",
       "      <td>82</td>\n",
       "      <td>95</td>\n",
       "    </tr>\n",
       "    <tr>\n",
       "      <th>1</th>\n",
       "      <td>30</td>\n",
       "      <td>48</td>\n",
       "    </tr>\n",
       "    <tr>\n",
       "      <th>2</th>\n",
       "      <td>82</td>\n",
       "      <td>26</td>\n",
       "    </tr>\n",
       "    <tr>\n",
       "      <th>3</th>\n",
       "      <td>110</td>\n",
       "      <td>115</td>\n",
       "    </tr>\n",
       "    <tr>\n",
       "      <th>4</th>\n",
       "      <td>78</td>\n",
       "      <td>115</td>\n",
       "    </tr>\n",
       "    <tr>\n",
       "      <th>5</th>\n",
       "      <td>32</td>\n",
       "      <td>87</td>\n",
       "    </tr>\n",
       "    <tr>\n",
       "      <th>6</th>\n",
       "      <td>38</td>\n",
       "      <td>24</td>\n",
       "    </tr>\n",
       "    <tr>\n",
       "      <th>7</th>\n",
       "      <td>30</td>\n",
       "      <td>119</td>\n",
       "    </tr>\n",
       "    <tr>\n",
       "      <th>9</th>\n",
       "      <td>84</td>\n",
       "      <td>114</td>\n",
       "    </tr>\n",
       "    <tr>\n",
       "      <th>10</th>\n",
       "      <td>90</td>\n",
       "      <td>107</td>\n",
       "    </tr>\n",
       "    <tr>\n",
       "      <th>11</th>\n",
       "      <td>26</td>\n",
       "      <td>62</td>\n",
       "    </tr>\n",
       "    <tr>\n",
       "      <th>12</th>\n",
       "      <td>29</td>\n",
       "      <td>32</td>\n",
       "    </tr>\n",
       "    <tr>\n",
       "      <th>13</th>\n",
       "      <td>72</td>\n",
       "      <td>99</td>\n",
       "    </tr>\n",
       "    <tr>\n",
       "      <th>14</th>\n",
       "      <td>90</td>\n",
       "      <td>27</td>\n",
       "    </tr>\n",
       "    <tr>\n",
       "      <th>15</th>\n",
       "      <td>106</td>\n",
       "      <td>90</td>\n",
       "    </tr>\n",
       "    <tr>\n",
       "      <th>16</th>\n",
       "      <td>81</td>\n",
       "      <td>70</td>\n",
       "    </tr>\n",
       "    <tr>\n",
       "      <th>17</th>\n",
       "      <td>84</td>\n",
       "      <td>90</td>\n",
       "    </tr>\n",
       "    <tr>\n",
       "      <th>18</th>\n",
       "      <td>115</td>\n",
       "      <td>73</td>\n",
       "    </tr>\n",
       "    <tr>\n",
       "      <th>19</th>\n",
       "      <td>104</td>\n",
       "      <td>78</td>\n",
       "    </tr>\n",
       "    <tr>\n",
       "      <th>20</th>\n",
       "      <td>82</td>\n",
       "      <td>52</td>\n",
       "    </tr>\n",
       "  </tbody>\n",
       "</table>\n",
       "</div>"
      ],
      "text/plain": [
       "    Predicted_speed  Recorded_Speed\n",
       "0                82              95\n",
       "1                30              48\n",
       "2                82              26\n",
       "3               110             115\n",
       "4                78             115\n",
       "5                32              87\n",
       "6                38              24\n",
       "7                30             119\n",
       "9                84             114\n",
       "10               90             107\n",
       "11               26              62\n",
       "12               29              32\n",
       "13               72              99\n",
       "14               90              27\n",
       "15              106              90\n",
       "16               81              70\n",
       "17               84              90\n",
       "18              115              73\n",
       "19              104              78\n",
       "20               82              52"
      ]
     },
     "execution_count": 221,
     "metadata": {},
     "output_type": "execute_result"
    }
   ],
   "source": [
    "import pandas as pd\n",
    "import plotly.express as px\n",
    "\n",
    "combined_dataframe=merged_df = combined_dataframe = pd.merge(prediction_dataframe, \n",
    "                              train_target_dataframe, \n",
    "                              left_index=True, right_index=True)\n",
    "final_df=combined_dataframe.head(20)\n",
    "final_df"
   ]
  },
  {
   "cell_type": "code",
   "execution_count": 240,
   "metadata": {},
   "outputs": [
    {
     "data": {
      "text/plain": [
       "Text(0, 0.5, 'Speed')"
      ]
     },
     "execution_count": 240,
     "metadata": {},
     "output_type": "execute_result"
    },
    {
     "data": {
      "image/png": "[encoded data removed]",
      "text/plain": [
       "<Figure size 1000x600 with 1 Axes>"
      ]
     },
     "metadata": {},
     "output_type": "display_data"
    }
   ],
   "source": [
    "plt.figure(figsize=(10,6))\n",
    "\n",
    "\n",
    "fig=sns.barplot(final_df,y=\"Predicted_speed\",x=final_df.index,color=\"red\")\n",
    "fig=sns.barplot(final_df,y=\"Recorded_Speed\",x=final_df.index,color=\"black\")\n",
    "plt.title(\"Comparison of Predicted Speed and Recorded Speed\")\n",
    "plt.xlabel(\"Index\")\n",
    "plt.ylabel(\"Speed\")\n"
   ]
  },
  {
   "cell_type": "code",
   "execution_count": 245,
   "metadata": {},
   "outputs": [
    {
     "data": {
      "text/plain": [
       "0.0565625"
      ]
     },
     "execution_count": 245,
     "metadata": {},
     "output_type": "execute_result"
    }
   ],
   "source": [
    "from sklearn.metrics import accuracy_score\n",
    "accuracy_score(train_target,prediction)"
   ]
  }
 ],
 "metadata": {
  "kernelspec": {
   "display_name": "Python 3",
   "language": "python",
   "name": "python3"
  },
  "language_info": {
   "codemirror_mode": {
    "name": "ipython",
    "version": 3
   },
   "file_extension": ".py",
   "mimetype": "text/x-python",
   "name": "python",
   "nbconvert_exporter": "python",
   "pygments_lexer": "ipython3",
   "version": "3.13.1"
  }
 },
 "nbformat": 4,
 "nbformat_minor": 2
}
